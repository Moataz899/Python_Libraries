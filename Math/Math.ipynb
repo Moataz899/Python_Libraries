{
 "cells": [
  {
   "cell_type": "markdown",
   "metadata": {},
   "source": [
    "### Importing the `math` Module\n"
   ]
  },
  {
   "cell_type": "code",
   "execution_count": 2,
   "metadata": {},
   "outputs": [],
   "source": [
    "import math"
   ]
  },
  {
   "cell_type": "markdown",
   "metadata": {},
   "source": [
    "### Constants"
   ]
  },
  {
   "cell_type": "code",
   "execution_count": 3,
   "metadata": {},
   "outputs": [
    {
     "name": "stdout",
     "output_type": "stream",
     "text": [
      "3.141592653589793\n"
     ]
    }
   ],
   "source": [
    "print(math.pi)"
   ]
  },
  {
   "cell_type": "code",
   "execution_count": 4,
   "metadata": {},
   "outputs": [
    {
     "name": "stdout",
     "output_type": "stream",
     "text": [
      "2.718281828459045\n"
     ]
    }
   ],
   "source": [
    "print(math.e)"
   ]
  },
  {
   "cell_type": "code",
   "execution_count": 9,
   "metadata": {},
   "outputs": [
    {
     "name": "stdout",
     "output_type": "stream",
     "text": [
      "Positive Infinity: inf\n",
      "Infinity + 10: inf\n",
      "Is infinity greater than any number? True\n"
     ]
    }
   ],
   "source": [
    "positive_infinity = math.inf\n",
    "\n",
    "print(\"Positive Infinity:\", positive_infinity)\n",
    "\n",
    "print(\"Infinity + 10:\", positive_infinity + 10)\n",
    "\n",
    "print(\"Is infinity greater than any number?\", positive_infinity > 1e308)"
   ]
  },
  {
   "cell_type": "code",
   "execution_count": 10,
   "metadata": {},
   "outputs": [
    {
     "name": "stdout",
     "output_type": "stream",
     "text": [
      "NaN: nan\n",
      "NaN + 10: nan\n",
      "Is NaN a NaN value? True\n"
     ]
    }
   ],
   "source": [
    "not_a_number = math.nan\n",
    "\n",
    "print(\"NaN:\", not_a_number) \n",
    "\n",
    "print(\"NaN + 10:\", not_a_number + 10)  \n",
    "\n",
    "print(\"Is NaN a NaN value?\", math.isnan(not_a_number))"
   ]
  },
  {
   "cell_type": "markdown",
   "metadata": {},
   "source": [
    "### Functions"
   ]
  },
  {
   "cell_type": "markdown",
   "metadata": {},
   "source": [
    "#### 1. Trigonometric Functions\n"
   ]
  },
  {
   "cell_type": "code",
   "execution_count": 26,
   "metadata": {},
   "outputs": [
    {
     "name": "stdout",
     "output_type": "stream",
     "text": [
      "The Values of 30 degrees:\n",
      "math.sin(30) = -0.9880316240928618\n",
      "math.cos(30) = 0.15425144988758405\n",
      "math.tan(30) = -6.405331196646276\n",
      "----------------------------------\n",
      "----------------------------------\n",
      "The Values of 60 degrees:\n",
      "math.sin(60) = -0.3048106211022167\n",
      "math.cos(60) = -0.9524129804151563\n",
      "math.tan(60) = 0.320040389379563\n",
      "----------------------------------\n",
      "----------------------------------\n",
      "The Values of 90 degrees:\n",
      "math.sin(90) = 0.8939966636005579\n",
      "math.cos(90) = -0.4480736161291701\n",
      "math.tan(90) = -1.995200412208242\n"
     ]
    }
   ],
   "source": [
    "print(\"The Values of 30 degrees:\")\n",
    "print(f\"math.sin(30) = {math.sin(30)}\")\n",
    "print(f\"math.cos(30) = {math.cos(30)}\")\n",
    "print(f\"math.tan(30) = {math.tan(30)}\")\n",
    "\n",
    "print('-' * 34)\n",
    "print('-' * 34)\n",
    "\n",
    "print(\"The Values of 60 degrees:\")\n",
    "print(f\"math.sin(60) = {math.sin(60)}\")\n",
    "print(f\"math.cos(60) = {math.cos(60)}\")\n",
    "print(f\"math.tan(60) = {math.tan(60)}\")\n",
    "\n",
    "print('-' * 34)\n",
    "print('-' * 34)\n",
    "\n",
    "print(\"The Values of 90 degrees:\")\n",
    "print(f\"math.sin(90) = {math.sin(90)}\")\n",
    "print(f\"math.cos(90) = {math.cos(90)}\")\n",
    "print(f\"math.tan(90) = {math.tan(90)}\")\n",
    "\n"
   ]
  },
  {
   "cell_type": "code",
   "execution_count": 39,
   "metadata": {},
   "outputs": [
    {
     "name": "stdout",
     "output_type": "stream",
     "text": [
      "The Values of 30 degrees in radians:\n",
      "math.sin(30) = 0.49999999999999994\n",
      "math.cos(30) = 0.8660254037844387\n",
      "math.tan(30) = 0.5773502691896257\n",
      "----------------------------------\n",
      "----------------------------------\n",
      "The Values of 60 degrees in radians:\n",
      "math.sin(60) = 0.8660254037844386\n",
      "math.cos(60) = 0.5000000000000001\n",
      "math.tan(60) = 1.7320508075688767\n",
      "----------------------------------\n",
      "----------------------------------\n",
      "The Values of 90 degrees in radians:\n",
      "math.sin(90) = 1.0\n",
      "math.cos(90) = 6.123233995736766e-17\n",
      "math.tan(90) = 1.633123935319537e+16\n"
     ]
    }
   ],
   "source": [
    "print(\"The Values of 30 degrees in radians:\")\n",
    "print(f\"math.sin(30) = {math.sin(math.radians(30))}\")\n",
    "print(f\"math.cos(30) = {math.cos(math.radians(30))}\")\n",
    "print(f\"math.tan(30) = {math.tan(math.radians(30))}\")\n",
    "\n",
    "print('-' * 34)\n",
    "print('-' * 34)\n",
    "\n",
    "print(\"The Values of 60 degrees in radians:\")\n",
    "print(f\"math.sin(60) = {math.sin(math.radians(60))}\")\n",
    "print(f\"math.cos(60) = {math.cos(math.radians(60))}\")\n",
    "print(f\"math.tan(60) = {math.tan(math.radians(60))}\")\n",
    "\n",
    "print('-' * 34)\n",
    "print('-' * 34)\n",
    "\n",
    "print(\"The Values of 90 degrees in radians:\")\n",
    "print(f\"math.sin(90) = {math.sin(math.radians(90))}\")\n",
    "print(f\"math.cos(90) = {math.cos(math.radians(90))}\")\n",
    "print(f\"math.tan(90) = {math.tan(math.radians(90))}\")"
   ]
  },
  {
   "cell_type": "markdown",
   "metadata": {},
   "source": [
    "#### 2. Hyperbolic Functions"
   ]
  },
  {
   "cell_type": "code",
   "execution_count": 42,
   "metadata": {},
   "outputs": [
    {
     "name": "stdout",
     "output_type": "stream",
     "text": [
      "math.sinh(0.00) = 0.0\n",
      "math.sinh(-23.5) = -8033232360.311239\n",
      "math.sinh(29) = 1965667148572.021\n"
     ]
    }
   ],
   "source": [
    "print(f\"math.sinh(0.00) = {math.sinh(0.00)}\")\n",
    "print(f\"math.sinh(-23.5) = {math.sinh(-23.5)}\")\n",
    "print(f\"math.sinh(29) = {math.sinh(29)}\")"
   ]
  },
  {
   "cell_type": "code",
   "execution_count": 43,
   "metadata": {},
   "outputs": [
    {
     "name": "stdout",
     "output_type": "stream",
     "text": [
      "math.sinh(math.pi) = 11.548739357257746\n"
     ]
    }
   ],
   "source": [
    "print(f\"math.sinh(math.pi) = {math.sinh(math.pi)}\")"
   ]
  },
  {
   "cell_type": "code",
   "execution_count": 44,
   "metadata": {},
   "outputs": [
    {
     "name": "stdout",
     "output_type": "stream",
     "text": [
      "math.sinh(math.e) = 7.544137102816975\n"
     ]
    }
   ],
   "source": [
    "print(f\"math.sinh(math.e) = {math.sinh(math.e)}\")"
   ]
  },
  {
   "cell_type": "markdown",
   "metadata": {},
   "source": [
    "#### 3. Exponential and Logarithmic Functions"
   ]
  },
  {
   "cell_type": "code",
   "execution_count": 48,
   "metadata": {},
   "outputs": [
    {
     "name": "stdout",
     "output_type": "stream",
     "text": [
      "exp(3)= 20.085536923187668\n",
      "e**x = 20.085536923187664\n"
     ]
    }
   ],
   "source": [
    "print(f\"exp(3)= {math.exp(3)}\")\n",
    "\n",
    "print(f\"e**x = {math.e**3}\")"
   ]
  },
  {
   "cell_type": "code",
   "execution_count": 51,
   "metadata": {},
   "outputs": [
    {
     "name": "stdout",
     "output_type": "stream",
     "text": [
      "log(x)= 2.995732273553991\n",
      "log10(x)= 1.3010299956639813\n",
      "log2(x)= 3.321928094887362\n"
     ]
    }
   ],
   "source": [
    "print(f\"log(x)= {math.log(20)}\")\n",
    "\n",
    "print(f\"log10(x)= {math.log10(20)}\")\n",
    "\n",
    "print(f\"log2(x)= {math.log2(10)}\")"
   ]
  },
  {
   "cell_type": "markdown",
   "metadata": {},
   "source": [
    "#### 4. Power and Root Functions\n"
   ]
  },
  {
   "cell_type": "code",
   "execution_count": 53,
   "metadata": {},
   "outputs": [
    {
     "name": "stdout",
     "output_type": "stream",
     "text": [
      "pow(x, y)= 27.0\n",
      "x**y = 27\n"
     ]
    }
   ],
   "source": [
    "print(f\"pow(x, y)= {math.pow(3, 3)}\")\n",
    "\n",
    "print(f\"x**y = {3**3}\")"
   ]
  },
  {
   "cell_type": "code",
   "execution_count": 54,
   "metadata": {},
   "outputs": [
    {
     "name": "stdout",
     "output_type": "stream",
     "text": [
      "sqrt(x)= 7.0\n"
     ]
    }
   ],
   "source": [
    "print(f\"sqrt(x)= {math.sqrt(49)}\")"
   ]
  },
  {
   "cell_type": "code",
   "execution_count": 55,
   "metadata": {},
   "outputs": [
    {
     "name": "stdout",
     "output_type": "stream",
     "text": [
      "Cube root of 27 = 3.0\n"
     ]
    }
   ],
   "source": [
    "x = 27\n",
    "\n",
    "cbrt_value = x ** (1/3)\n",
    "\n",
    "print(f\"Cube root of {x} = {cbrt_value}\")\n"
   ]
  },
  {
   "cell_type": "markdown",
   "metadata": {},
   "source": [
    "#### 5. Rounding and Ceiling Functions\n"
   ]
  },
  {
   "cell_type": "code",
   "execution_count": 60,
   "metadata": {},
   "outputs": [
    {
     "name": "stdout",
     "output_type": "stream",
     "text": [
      "math.ceil(x) = 4\n",
      "math.ceil(x) = -1\n",
      "math.ceil(x) = 1\n"
     ]
    }
   ],
   "source": [
    "print(f\"math.ceil(x) = {math.ceil(3.7)}\")\n",
    "\n",
    "print(f\"math.ceil(x) = {math.ceil(-1.5)}\")\n",
    "\n",
    "print(f\"math.ceil(x) = {math.ceil(0.00007)}\")"
   ]
  },
  {
   "cell_type": "code",
   "execution_count": 62,
   "metadata": {},
   "outputs": [
    {
     "name": "stdout",
     "output_type": "stream",
     "text": [
      "math.floor(x) = 3\n",
      "math.floor(x) = -2\n",
      "math.floor(x) = 0\n"
     ]
    }
   ],
   "source": [
    "print(f\"math.floor(x) = {math.floor(3.7)}\")\n",
    "\n",
    "print(f\"math.floor(x) = {math.floor(-1.5)}\")\n",
    "\n",
    "print(f\"math.floor(x) = {math.floor(0.00007)}\")"
   ]
  },
  {
   "cell_type": "code",
   "execution_count": 66,
   "metadata": {},
   "outputs": [
    {
     "name": "stdout",
     "output_type": "stream",
     "text": [
      "math.trunc(x) = 3\n",
      "math.trunc(x) = -1\n",
      "math.trunc(x) = 0\n"
     ]
    }
   ],
   "source": [
    "print(f\"math.trunc(x) = {math.trunc(3.7)}\")\n",
    "\n",
    "print(f\"math.trunc(x) = {math.trunc(-1.5)}\")\n",
    "\n",
    "print(f\"math.trunc(x) = {math.trunc(0.005)}\")\n"
   ]
  },
  {
   "cell_type": "markdown",
   "metadata": {},
   "source": [
    "#### 6. Miscellaneous Functions"
   ]
  },
  {
   "cell_type": "code",
   "execution_count": 69,
   "metadata": {},
   "outputs": [
    {
     "name": "stdout",
     "output_type": "stream",
     "text": [
      "The precise sum of Numbers = 45.0\n",
      "The precise sum of Numbers = -5.5\n"
     ]
    }
   ],
   "source": [
    "print(f\"The precise sum of Numbers = {math.fsum([10, 15, 20])}\")\n",
    "\n",
    "print(f\"The precise sum of Numbers = {math.fsum([-1, -1.5, -3])}\")\n",
    "\n"
   ]
  },
  {
   "cell_type": "code",
   "execution_count": 74,
   "metadata": {},
   "outputs": [
    {
     "name": "stdout",
     "output_type": "stream",
     "text": [
      "The greatest common divisor of X and Y = 8\n",
      "The greatest common divisor of X and Y = 5\n"
     ]
    }
   ],
   "source": [
    "print(f\"The greatest common divisor of X and Y = {math.gcd(24, 16)}\")\n",
    "\n",
    "print(f\"The greatest common divisor of X and Y = {math.gcd(-10, -15)}\")\n"
   ]
  },
  {
   "cell_type": "code",
   "execution_count": 77,
   "metadata": {},
   "outputs": [
    {
     "name": "stdout",
     "output_type": "stream",
     "text": [
      "The Euclidean norm of the vector x,y (magnitude) = 5.0\n",
      "The Euclidean norm of the vector x,y (magnitude) = 8.602325267042627\n",
      "The Euclidean norm of the vector x,y (magnitude) = 4.743416490252569\n"
     ]
    }
   ],
   "source": [
    "print(f\"The Euclidean norm of the vector x,y (magnitude) = {math.hypot(3, 4)}\")\n",
    "\n",
    "print(f\"The Euclidean norm of the vector x,y (magnitude) = {math.hypot(-5, -7)}\")\n",
    "\n",
    "print(f\"The Euclidean norm of the vector x,y (magnitude) = {math.hypot(1.5, 4.5)}\")\n",
    "\n",
    "\n"
   ]
  },
  {
   "cell_type": "code",
   "execution_count": null,
   "metadata": {},
   "outputs": [],
   "source": []
  }
 ],
 "metadata": {
  "kernelspec": {
   "display_name": "Python 3",
   "language": "python",
   "name": "python3"
  },
  "language_info": {
   "codemirror_mode": {
    "name": "ipython",
    "version": 3
   },
   "file_extension": ".py",
   "mimetype": "text/x-python",
   "name": "python",
   "nbconvert_exporter": "python",
   "pygments_lexer": "ipython3",
   "version": "3.12.0"
  }
 },
 "nbformat": 4,
 "nbformat_minor": 2
}
