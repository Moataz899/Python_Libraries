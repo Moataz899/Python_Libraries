{
  "cells": [
    {
      "cell_type": "markdown",
      "metadata": {
        "id": "guISL1CR9ugN"
      },
      "source": [
        "### Regular Expression"
      ]
    },
    {
      "cell_type": "markdown",
      "metadata": {
        "ExecuteTime": {
          "end_time": "2021-08-09T16:49:45.841098Z",
          "start_time": "2021-08-09T16:49:45.834116Z"
        },
        "id": "viLWmMDR9ugP"
      },
      "source": [
        "AI :  <br>\n",
        "- 80% Data <br>\n",
        "- 20% Model (Actual AI) <br>\n",
        "\n",
        "80% Data:\n",
        "   - 90% : Data Cleaning, Filtering\n",
        "   - 10% : Apply Data Analysis Algorithms (i.e. Understand Data )"
      ]
    },
    {
      "cell_type": "markdown",
      "metadata": {
        "id": "KfB6wDnF9ugQ"
      },
      "source": [
        "**Check: Modernization Engineer**"
      ]
    },
    {
      "cell_type": "markdown",
      "metadata": {
        "id": "y0c0q-i89ugQ"
      },
      "source": [
        "**Why do we need data cleaning?** <br>\n",
        "\n",
        "31/3/1998 <br>\n",
        "31/03/1998 <br>\n",
        "03/31/1998 <br>\n",
        "31.3.1998 <br>\n",
        "3131998 <br>\n",
        "31st Mar. 1998 <br>"
      ]
    },
    {
      "cell_type": "code",
      "execution_count": null,
      "metadata": {
        "ExecuteTime": {
          "end_time": "2023-12-15T12:38:32.142470Z",
          "start_time": "2023-12-15T12:38:32.132080Z"
        },
        "id": "PZ0omk_i9ugR"
      },
      "outputs": [],
      "source": [
        "# Regular Expressions (Advanced String manipulation )"
      ]
    },
    {
      "cell_type": "code",
      "execution_count": 1,
      "metadata": {
        "ExecuteTime": {
          "end_time": "2023-12-29T09:03:48.648546Z",
          "start_time": "2023-12-29T09:03:48.641685Z"
        },
        "id": "AaMOF5S39ugR"
      },
      "outputs": [],
      "source": [
        "import re # ( Regular expression )"
      ]
    },
    {
      "cell_type": "code",
      "execution_count": 2,
      "metadata": {
        "ExecuteTime": {
          "end_time": "2023-12-29T08:59:11.262108Z",
          "start_time": "2023-12-29T08:59:11.239322Z"
        },
        "id": "TRvRYYlY9ugS"
      },
      "outputs": [],
      "source": [
        "mytext = '''abcdefghijklmnopqurtuvwxyz\n",
        "ABCDEFGHIJKLMNOPQRSTUVWXYZ\n",
        "123456789010\n",
        "Ha HaHa\n",
        "MetaCharacters (Need to be escaped):\n",
        ". ^ $ * + ? { } [ ] \\ | ( )\n",
        "abc\n",
        "cat\n",
        "mat\n",
        "hat\n",
        "bat\n",
        "fat\n",
        "sat\n",
        "01092329340\n",
        "01123234355\n",
        "01023455411\n",
        "01234567875\n",
        "01534567456\n",
        "01134567856\n",
        "coreyms-com\n",
        "321-555-4321\n",
        "123.555.1234\n",
        "123*555*1234\n",
        "800-555-1234\n",
        "900-555-1234\n",
        "100a121C4543\n",
        "Mr. Schafer\n",
        "Mr Smith\n",
        "Ms Davis\n",
        "Mrs. Robinson\n",
        "Mr. T\n",
        "'''\n",
        "\n",
        "sentence = 'Start a sentence and then bring it to an end'"
      ]
    },
    {
      "cell_type": "markdown",
      "metadata": {
        "id": "qNEGKziZ9ugS"
      },
      "source": [
        "### Rules:\n",
        "\n",
        ".       - Any Character Except New Line <br>\n",
        "\\d      - Digit (0-9)<br>\n",
        "\\D      - Not a Digit (0-9)<br>\n",
        "\\w      - Word Character (a-z, A-Z, 0-9, _) <br>\n",
        "\\W      - Not a Word Character<br>\n",
        "\\s      - Whitespace (space, tab, newline) <br>\n",
        "\\S      - Not Whitespace (space, tab, newline)<br>\n",
        "\n",
        "\\b      - Word Boundary <br>\n",
        "\\B      - Not a Word Boundary <br>\n",
        "^       - Beginning of a String <br>\n",
        "$       - End of a String <br>\n",
        "\n",
        "[]      - Matches Characters in brackets <br>\n",
        "[^ ]    - Matches Characters NOT in brackets <br>\n",
        "|       - Either Or <br>\n",
        "( )     - Group <br>\n",
        "\n",
        "Quantifiers:\n",
        "<br>\n",
        " {*}       - 0 or More <br>\n",
        " {+}       - 1 or More <br>\n",
        " ?       - 0 or One <br>\n",
        "{3}     - Exact Number <br>\n",
        "{3,4}   - Range of Numbers (Minimum, Maximum) <br>\n",
        "\n",
        "\n",
        "#### Sample Regexs ####\n",
        "\n",
        "[a-zA-Z0-9_.+-]+@[a-zA-Z0-9-]+\\.[a-zA-Z0-9-.]+\n"
      ]
    },
    {
      "cell_type": "code",
      "execution_count": 3,
      "metadata": {
        "ExecuteTime": {
          "end_time": "2023-12-29T09:00:07.566947Z",
          "start_time": "2023-12-29T09:00:07.558260Z"
        },
        "scrolled": true,
        "id": "1h4Hls9C9ugS",
        "outputId": "a239fc29-1263-4dad-b4cf-cbf297d256ad",
        "colab": {
          "base_uri": "https://localhost:8080/"
        }
      },
      "outputs": [
        {
          "output_type": "stream",
          "name": "stdout",
          "text": [
            "\tAhmed\n",
            "\\tAhmed\n"
          ]
        }
      ],
      "source": [
        "print(\"\\tAhmed\") # special character (\\t, \\n)\n",
        "print(r\"\\tAhmed\") # raw print"
      ]
    },
    {
      "cell_type": "code",
      "execution_count": 4,
      "metadata": {
        "ExecuteTime": {
          "end_time": "2023-12-29T09:00:26.992856Z",
          "start_time": "2023-12-29T09:00:26.984662Z"
        },
        "scrolled": false,
        "id": "PsNRIgal9ugT",
        "outputId": "d961c325-6979-49bb-9526-0d9d7c7e2999",
        "colab": {
          "base_uri": "https://localhost:8080/"
        }
      },
      "outputs": [
        {
          "output_type": "stream",
          "name": "stdout",
          "text": [
            "Ahmed\n",
            "Ahmed\n",
            "----------------\n",
            "Ahmed\\nAhmed\n"
          ]
        }
      ],
      "source": [
        "print(\"Ahmed\\nAhmed\") # new line\n",
        "print(\"----------------\")\n",
        "print(r\"Ahmed\\nAhmed\")"
      ]
    },
    {
      "cell_type": "code",
      "execution_count": null,
      "metadata": {
        "ExecuteTime": {
          "end_time": "2023-12-29T09:01:03.895633Z",
          "start_time": "2023-12-29T09:01:03.884377Z"
        },
        "id": "7USOW3ZI9ugT",
        "outputId": "f20bd608-792b-4847-d0fb-b78a8bf69682"
      },
      "outputs": [
        {
          "data": {
            "text/plain": [
              "6"
            ]
          },
          "execution_count": 6,
          "metadata": {},
          "output_type": "execute_result"
        }
      ],
      "source": [
        "string = \"ahmed emad ali hossam emad\" # string\n",
        "string.find(\"emad\") # Search substring: return index of first substring"
      ]
    },
    {
      "cell_type": "code",
      "execution_count": 5,
      "metadata": {
        "ExecuteTime": {
          "end_time": "2023-12-29T09:01:19.583977Z",
          "start_time": "2023-12-29T09:01:19.572246Z"
        },
        "id": "QMXbOboA9ugU",
        "outputId": "6559800e-f444-430d-d6e9-3941d251d4cf",
        "colab": {
          "base_uri": "https://localhost:8080/"
        }
      },
      "outputs": [
        {
          "output_type": "execute_result",
          "data": {
            "text/plain": [
              "-1"
            ]
          },
          "metadata": {},
          "execution_count": 5
        }
      ],
      "source": [
        "string = \"nothing\"\n",
        "string.find(\"ahmed\") # -1 = not found"
      ]
    },
    {
      "cell_type": "code",
      "execution_count": 6,
      "metadata": {
        "ExecuteTime": {
          "end_time": "2023-12-29T09:03:52.505885Z",
          "start_time": "2023-12-29T09:03:52.493917Z"
        },
        "id": "eM5UWUHC9ugU",
        "outputId": "3b64e5f5-7f50-4d14-9401-bfa639030388",
        "colab": {
          "base_uri": "https://localhost:8080/"
        }
      },
      "outputs": [
        {
          "output_type": "stream",
          "name": "stdout",
          "text": [
            "<re.Match object; span=(0, 3), match='abc'>\n",
            "<re.Match object; span=(140, 143), match='abc'>\n"
          ]
        }
      ],
      "source": [
        "pattern = re.compile(r\"abc\") # search for abc\n",
        "matches = pattern.finditer(mytext) # store all the \"abc\" you found (could be a list )\n",
        "\n",
        "for match in matches:\n",
        "    print(match)"
      ]
    },
    {
      "cell_type": "code",
      "execution_count": 7,
      "metadata": {
        "ExecuteTime": {
          "end_time": "2023-12-29T09:06:07.859284Z",
          "start_time": "2023-12-29T09:06:07.847075Z"
        },
        "id": "DA3-OugT9ugU",
        "outputId": "8407cebf-d26c-4d25-e680-07536ddd7dd6",
        "colab": {
          "base_uri": "https://localhost:8080/"
        }
      },
      "outputs": [
        {
          "output_type": "stream",
          "name": "stdout",
          "text": [
            "Ahm\n",
            "Ahm\n"
          ]
        }
      ],
      "source": [
        "string = \"Ahmed\"\n",
        "start = 0\n",
        "end = 3\n",
        "print(string[0 : 3])\n",
        "print(string[start : end])"
      ]
    },
    {
      "cell_type": "code",
      "execution_count": 8,
      "metadata": {
        "ExecuteTime": {
          "end_time": "2023-12-29T09:07:05.032016Z",
          "start_time": "2023-12-29T09:07:05.015796Z"
        },
        "id": "LCN2I-qw9ugU",
        "outputId": "4f1d6f80-d8fb-42f8-e3d2-dabb4fc1ce68",
        "colab": {
          "base_uri": "https://localhost:8080/"
        }
      },
      "outputs": [
        {
          "output_type": "execute_result",
          "data": {
            "text/plain": [
              "['abc', 'abc']"
            ]
          },
          "metadata": {},
          "execution_count": 8
        }
      ],
      "source": [
        "pattern = re.compile(r\"abc\") # search for abc\n",
        "matches = pattern.finditer(mytext) # store all the \"abc\" you found (could be a list )\n",
        "\n",
        "results = [ ]\n",
        "for match in matches:\n",
        "    start = match.span()[0]\n",
        "    end = match.span()[1]\n",
        "    results.append(mytext[start:end]) # substring ( match ) ( i.e. abc )\n",
        "results"
      ]
    },
    {
      "cell_type": "code",
      "execution_count": 9,
      "metadata": {
        "ExecuteTime": {
          "end_time": "2023-12-29T09:07:45.416480Z",
          "start_time": "2023-12-29T09:07:45.402729Z"
        },
        "id": "A-VR4xNK9ugU",
        "outputId": "aac08c71-9475-4219-dde1-0f5583c5a955",
        "colab": {
          "base_uri": "https://localhost:8080/"
        }
      },
      "outputs": [
        {
          "output_type": "stream",
          "name": "stdout",
          "text": [
            "0 3\n",
            "140 143\n",
            "number of matches:  2\n"
          ]
        }
      ],
      "source": [
        "import re\n",
        "pattern = re.compile(r\"abc\") # search for abc\n",
        "matches = pattern.finditer(mytext) # store all the \"abc\" you found (could be a list )\n",
        "counter = 0\n",
        "for elment in matches:\n",
        "    print(elment.span()[0] , elment.span()[1] )\n",
        "    counter+=1\n",
        "print(\"number of matches: \",counter)"
      ]
    },
    {
      "cell_type": "code",
      "execution_count": 11,
      "metadata": {
        "ExecuteTime": {
          "end_time": "2023-12-29T09:07:57.075801Z",
          "start_time": "2023-12-29T09:07:57.067637Z"
        },
        "scrolled": true,
        "id": "bU4C3Yrv9ugU",
        "outputId": "554f63ab-ad25-4d8e-bce6-8e0d05c8645c",
        "colab": {
          "base_uri": "https://localhost:8080/"
        }
      },
      "outputs": [
        {
          "output_type": "stream",
          "name": "stdout",
          "text": [
            "Found 0 matches\n"
          ]
        }
      ],
      "source": [
        "pattern = re.compile(\"bca\")\n",
        "matches = pattern.finditer(mytext)\n",
        "counter = 0\n",
        "for match in matches:\n",
        "    print(match)\n",
        "    counter+=1\n",
        "print(f\"Found {counter} matches\")"
      ]
    },
    {
      "cell_type": "code",
      "execution_count": 12,
      "metadata": {
        "ExecuteTime": {
          "end_time": "2023-12-29T09:09:00.220474Z",
          "start_time": "2023-12-29T09:09:00.213711Z"
        },
        "id": "iDpDRUMV9ugV",
        "outputId": "54b75f6c-b906-481b-f912-54c9392ec528",
        "colab": {
          "base_uri": "https://localhost:8080/"
        }
      },
      "outputs": [
        {
          "output_type": "stream",
          "name": "stdout",
          "text": [
            "<re.Match object; span=(144, 147), match='cat'>\n"
          ]
        }
      ],
      "source": [
        "pattern = re.compile(\"c.t\") # matches everything ( excpet new lines )\n",
        "matches = pattern.finditer(mytext)\n",
        "for match in matches:\n",
        "    print(match)"
      ]
    },
    {
      "cell_type": "code",
      "execution_count": 13,
      "metadata": {
        "ExecuteTime": {
          "end_time": "2023-12-29T09:10:14.543289Z",
          "start_time": "2023-12-29T09:10:14.533810Z"
        },
        "id": "VT9osM2Z9ugV",
        "outputId": "8a37b2de-8c66-41f3-f01d-7c17a7cbb306",
        "colab": {
          "base_uri": "https://localhost:8080/"
        }
      },
      "outputs": [
        {
          "output_type": "stream",
          "name": "stdout",
          "text": [
            "<re.Match object; span=(144, 147), match='cat'>\n"
          ]
        }
      ],
      "source": [
        "pattern = re.compile(r\"c.t\") # matches everything ( excpet new lines )\n",
        "matches = pattern.finditer(mytext)\n",
        "for match in matches:\n",
        "    print(match)"
      ]
    },
    {
      "cell_type": "code",
      "execution_count": 15,
      "metadata": {
        "ExecuteTime": {
          "end_time": "2023-12-29T09:10:58.988343Z",
          "start_time": "2023-12-29T09:10:58.980903Z"
        },
        "id": "I6EHgKce9ugV"
      },
      "outputs": [],
      "source": [
        "pattern = re.compile(\"c\\.t\") # matches c.t ( excpet new lines )\n",
        "matches = pattern.finditer(mytext)\n",
        "for match in matches:\n",
        "    print(match)"
      ]
    },
    {
      "cell_type": "code",
      "execution_count": 16,
      "metadata": {
        "ExecuteTime": {
          "end_time": "2023-12-29T09:11:15.656600Z",
          "start_time": "2023-12-29T09:11:15.640042Z"
        },
        "id": "dbm0tWnD9ugV",
        "outputId": "60543618-e448-4d0e-9b37-78e5ccefc262",
        "colab": {
          "base_uri": "https://localhost:8080/"
        }
      },
      "outputs": [
        {
          "output_type": "stream",
          "name": "stdout",
          "text": [
            "<re.Match object; span=(0, 1), match='a'>\n",
            "<re.Match object; span=(1, 2), match='b'>\n",
            "<re.Match object; span=(2, 3), match='c'>\n",
            "<re.Match object; span=(3, 4), match='d'>\n",
            "<re.Match object; span=(4, 5), match='e'>\n",
            "<re.Match object; span=(5, 6), match='f'>\n",
            "<re.Match object; span=(6, 7), match='g'>\n",
            "<re.Match object; span=(7, 8), match='h'>\n",
            "<re.Match object; span=(8, 9), match='i'>\n",
            "<re.Match object; span=(9, 10), match='j'>\n",
            "<re.Match object; span=(10, 11), match='k'>\n",
            "<re.Match object; span=(11, 12), match='l'>\n",
            "<re.Match object; span=(12, 13), match='m'>\n",
            "<re.Match object; span=(13, 14), match='n'>\n",
            "<re.Match object; span=(14, 15), match='o'>\n",
            "<re.Match object; span=(15, 16), match='p'>\n",
            "<re.Match object; span=(16, 17), match='q'>\n",
            "<re.Match object; span=(17, 18), match='u'>\n",
            "<re.Match object; span=(18, 19), match='r'>\n",
            "<re.Match object; span=(19, 20), match='t'>\n",
            "<re.Match object; span=(20, 21), match='u'>\n",
            "<re.Match object; span=(21, 22), match='v'>\n",
            "<re.Match object; span=(22, 23), match='w'>\n",
            "<re.Match object; span=(23, 24), match='x'>\n",
            "<re.Match object; span=(24, 25), match='y'>\n",
            "<re.Match object; span=(25, 26), match='z'>\n",
            "<re.Match object; span=(27, 28), match='A'>\n",
            "<re.Match object; span=(28, 29), match='B'>\n",
            "<re.Match object; span=(29, 30), match='C'>\n",
            "<re.Match object; span=(30, 31), match='D'>\n",
            "<re.Match object; span=(31, 32), match='E'>\n",
            "<re.Match object; span=(32, 33), match='F'>\n",
            "<re.Match object; span=(33, 34), match='G'>\n",
            "<re.Match object; span=(34, 35), match='H'>\n",
            "<re.Match object; span=(35, 36), match='I'>\n",
            "<re.Match object; span=(36, 37), match='J'>\n",
            "<re.Match object; span=(37, 38), match='K'>\n",
            "<re.Match object; span=(38, 39), match='L'>\n",
            "<re.Match object; span=(39, 40), match='M'>\n",
            "<re.Match object; span=(40, 41), match='N'>\n",
            "<re.Match object; span=(41, 42), match='O'>\n",
            "<re.Match object; span=(42, 43), match='P'>\n",
            "<re.Match object; span=(43, 44), match='Q'>\n",
            "<re.Match object; span=(44, 45), match='R'>\n",
            "<re.Match object; span=(45, 46), match='S'>\n",
            "<re.Match object; span=(46, 47), match='T'>\n",
            "<re.Match object; span=(47, 48), match='U'>\n",
            "<re.Match object; span=(48, 49), match='V'>\n",
            "<re.Match object; span=(49, 50), match='W'>\n",
            "<re.Match object; span=(50, 51), match='X'>\n",
            "<re.Match object; span=(51, 52), match='Y'>\n",
            "<re.Match object; span=(52, 53), match='Z'>\n",
            "<re.Match object; span=(54, 55), match='1'>\n",
            "<re.Match object; span=(55, 56), match='2'>\n",
            "<re.Match object; span=(56, 57), match='3'>\n",
            "<re.Match object; span=(57, 58), match='4'>\n",
            "<re.Match object; span=(58, 59), match='5'>\n",
            "<re.Match object; span=(59, 60), match='6'>\n",
            "<re.Match object; span=(60, 61), match='7'>\n",
            "<re.Match object; span=(61, 62), match='8'>\n",
            "<re.Match object; span=(62, 63), match='9'>\n",
            "<re.Match object; span=(63, 64), match='0'>\n",
            "<re.Match object; span=(64, 65), match='1'>\n",
            "<re.Match object; span=(65, 66), match='0'>\n",
            "<re.Match object; span=(67, 68), match='H'>\n",
            "<re.Match object; span=(68, 69), match='a'>\n",
            "<re.Match object; span=(69, 70), match=' '>\n",
            "<re.Match object; span=(70, 71), match='H'>\n",
            "<re.Match object; span=(71, 72), match='a'>\n",
            "<re.Match object; span=(72, 73), match='H'>\n",
            "<re.Match object; span=(73, 74), match='a'>\n",
            "<re.Match object; span=(75, 76), match='M'>\n",
            "<re.Match object; span=(76, 77), match='e'>\n",
            "<re.Match object; span=(77, 78), match='t'>\n",
            "<re.Match object; span=(78, 79), match='a'>\n",
            "<re.Match object; span=(79, 80), match='C'>\n",
            "<re.Match object; span=(80, 81), match='h'>\n",
            "<re.Match object; span=(81, 82), match='a'>\n",
            "<re.Match object; span=(82, 83), match='r'>\n",
            "<re.Match object; span=(83, 84), match='a'>\n",
            "<re.Match object; span=(84, 85), match='c'>\n",
            "<re.Match object; span=(85, 86), match='t'>\n",
            "<re.Match object; span=(86, 87), match='e'>\n",
            "<re.Match object; span=(87, 88), match='r'>\n",
            "<re.Match object; span=(88, 89), match='s'>\n",
            "<re.Match object; span=(89, 90), match=' '>\n",
            "<re.Match object; span=(90, 91), match='('>\n",
            "<re.Match object; span=(91, 92), match='N'>\n",
            "<re.Match object; span=(92, 93), match='e'>\n",
            "<re.Match object; span=(93, 94), match='e'>\n",
            "<re.Match object; span=(94, 95), match='d'>\n",
            "<re.Match object; span=(95, 96), match=' '>\n",
            "<re.Match object; span=(96, 97), match='t'>\n",
            "<re.Match object; span=(97, 98), match='o'>\n",
            "<re.Match object; span=(98, 99), match=' '>\n",
            "<re.Match object; span=(99, 100), match='b'>\n",
            "<re.Match object; span=(100, 101), match='e'>\n",
            "<re.Match object; span=(101, 102), match=' '>\n",
            "<re.Match object; span=(102, 103), match='e'>\n",
            "<re.Match object; span=(103, 104), match='s'>\n",
            "<re.Match object; span=(104, 105), match='c'>\n",
            "<re.Match object; span=(105, 106), match='a'>\n",
            "<re.Match object; span=(106, 107), match='p'>\n",
            "<re.Match object; span=(107, 108), match='e'>\n",
            "<re.Match object; span=(108, 109), match='d'>\n",
            "<re.Match object; span=(109, 110), match=')'>\n",
            "<re.Match object; span=(110, 111), match=':'>\n",
            "<re.Match object; span=(112, 113), match='.'>\n",
            "<re.Match object; span=(113, 114), match=' '>\n",
            "<re.Match object; span=(114, 115), match='^'>\n",
            "<re.Match object; span=(115, 116), match=' '>\n",
            "<re.Match object; span=(116, 117), match='$'>\n",
            "<re.Match object; span=(117, 118), match=' '>\n",
            "<re.Match object; span=(118, 119), match='*'>\n",
            "<re.Match object; span=(119, 120), match=' '>\n",
            "<re.Match object; span=(120, 121), match='+'>\n",
            "<re.Match object; span=(121, 122), match=' '>\n",
            "<re.Match object; span=(122, 123), match='?'>\n",
            "<re.Match object; span=(123, 124), match=' '>\n",
            "<re.Match object; span=(124, 125), match='{'>\n",
            "<re.Match object; span=(125, 126), match=' '>\n",
            "<re.Match object; span=(126, 127), match='}'>\n",
            "<re.Match object; span=(127, 128), match=' '>\n",
            "<re.Match object; span=(128, 129), match='['>\n",
            "<re.Match object; span=(129, 130), match=' '>\n",
            "<re.Match object; span=(130, 131), match=']'>\n",
            "<re.Match object; span=(131, 132), match=' '>\n",
            "<re.Match object; span=(132, 133), match='\\\\'>\n",
            "<re.Match object; span=(133, 134), match=' '>\n",
            "<re.Match object; span=(134, 135), match='|'>\n",
            "<re.Match object; span=(135, 136), match=' '>\n",
            "<re.Match object; span=(136, 137), match='('>\n",
            "<re.Match object; span=(137, 138), match=' '>\n",
            "<re.Match object; span=(138, 139), match=')'>\n",
            "<re.Match object; span=(140, 141), match='a'>\n",
            "<re.Match object; span=(141, 142), match='b'>\n",
            "<re.Match object; span=(142, 143), match='c'>\n",
            "<re.Match object; span=(144, 145), match='c'>\n",
            "<re.Match object; span=(145, 146), match='a'>\n",
            "<re.Match object; span=(146, 147), match='t'>\n",
            "<re.Match object; span=(148, 149), match='m'>\n",
            "<re.Match object; span=(149, 150), match='a'>\n",
            "<re.Match object; span=(150, 151), match='t'>\n",
            "<re.Match object; span=(151, 152), match=' '>\n",
            "<re.Match object; span=(153, 154), match='h'>\n",
            "<re.Match object; span=(154, 155), match='a'>\n",
            "<re.Match object; span=(155, 156), match='t'>\n",
            "<re.Match object; span=(157, 158), match='b'>\n",
            "<re.Match object; span=(158, 159), match='a'>\n",
            "<re.Match object; span=(159, 160), match='t'>\n",
            "<re.Match object; span=(161, 162), match='f'>\n",
            "<re.Match object; span=(162, 163), match='a'>\n",
            "<re.Match object; span=(163, 164), match='t'>\n",
            "<re.Match object; span=(165, 166), match='s'>\n",
            "<re.Match object; span=(166, 167), match='a'>\n",
            "<re.Match object; span=(167, 168), match='t'>\n",
            "<re.Match object; span=(169, 170), match='0'>\n",
            "<re.Match object; span=(170, 171), match='1'>\n",
            "<re.Match object; span=(171, 172), match='0'>\n",
            "<re.Match object; span=(172, 173), match='9'>\n",
            "<re.Match object; span=(173, 174), match='2'>\n",
            "<re.Match object; span=(174, 175), match='3'>\n",
            "<re.Match object; span=(175, 176), match='2'>\n",
            "<re.Match object; span=(176, 177), match='9'>\n",
            "<re.Match object; span=(177, 178), match='3'>\n",
            "<re.Match object; span=(178, 179), match='4'>\n",
            "<re.Match object; span=(179, 180), match='0'>\n",
            "<re.Match object; span=(181, 182), match='0'>\n",
            "<re.Match object; span=(182, 183), match='1'>\n",
            "<re.Match object; span=(183, 184), match='1'>\n",
            "<re.Match object; span=(184, 185), match='2'>\n",
            "<re.Match object; span=(185, 186), match='3'>\n",
            "<re.Match object; span=(186, 187), match='2'>\n",
            "<re.Match object; span=(187, 188), match='3'>\n",
            "<re.Match object; span=(188, 189), match='4'>\n",
            "<re.Match object; span=(189, 190), match='3'>\n",
            "<re.Match object; span=(190, 191), match='5'>\n",
            "<re.Match object; span=(191, 192), match='5'>\n",
            "<re.Match object; span=(193, 194), match='0'>\n",
            "<re.Match object; span=(194, 195), match='1'>\n",
            "<re.Match object; span=(195, 196), match='0'>\n",
            "<re.Match object; span=(196, 197), match='2'>\n",
            "<re.Match object; span=(197, 198), match='3'>\n",
            "<re.Match object; span=(198, 199), match='4'>\n",
            "<re.Match object; span=(199, 200), match='5'>\n",
            "<re.Match object; span=(200, 201), match='5'>\n",
            "<re.Match object; span=(201, 202), match='4'>\n",
            "<re.Match object; span=(202, 203), match='1'>\n",
            "<re.Match object; span=(203, 204), match='1'>\n",
            "<re.Match object; span=(205, 206), match='0'>\n",
            "<re.Match object; span=(206, 207), match='1'>\n",
            "<re.Match object; span=(207, 208), match='2'>\n",
            "<re.Match object; span=(208, 209), match='3'>\n",
            "<re.Match object; span=(209, 210), match='4'>\n",
            "<re.Match object; span=(210, 211), match='5'>\n",
            "<re.Match object; span=(211, 212), match='6'>\n",
            "<re.Match object; span=(212, 213), match='7'>\n",
            "<re.Match object; span=(213, 214), match='8'>\n",
            "<re.Match object; span=(214, 215), match='7'>\n",
            "<re.Match object; span=(215, 216), match='5'>\n",
            "<re.Match object; span=(217, 218), match='0'>\n",
            "<re.Match object; span=(218, 219), match='1'>\n",
            "<re.Match object; span=(219, 220), match='5'>\n",
            "<re.Match object; span=(220, 221), match='3'>\n",
            "<re.Match object; span=(221, 222), match='4'>\n",
            "<re.Match object; span=(222, 223), match='5'>\n",
            "<re.Match object; span=(223, 224), match='6'>\n",
            "<re.Match object; span=(224, 225), match='7'>\n",
            "<re.Match object; span=(225, 226), match='4'>\n",
            "<re.Match object; span=(226, 227), match='5'>\n",
            "<re.Match object; span=(227, 228), match='6'>\n",
            "<re.Match object; span=(229, 230), match='0'>\n",
            "<re.Match object; span=(230, 231), match='1'>\n",
            "<re.Match object; span=(231, 232), match='1'>\n",
            "<re.Match object; span=(232, 233), match='3'>\n",
            "<re.Match object; span=(233, 234), match='4'>\n",
            "<re.Match object; span=(234, 235), match='5'>\n",
            "<re.Match object; span=(235, 236), match='6'>\n",
            "<re.Match object; span=(236, 237), match='7'>\n",
            "<re.Match object; span=(237, 238), match='8'>\n",
            "<re.Match object; span=(238, 239), match='5'>\n",
            "<re.Match object; span=(239, 240), match='6'>\n",
            "<re.Match object; span=(241, 242), match='c'>\n",
            "<re.Match object; span=(242, 243), match='o'>\n",
            "<re.Match object; span=(243, 244), match='r'>\n",
            "<re.Match object; span=(244, 245), match='e'>\n",
            "<re.Match object; span=(245, 246), match='y'>\n",
            "<re.Match object; span=(246, 247), match='m'>\n",
            "<re.Match object; span=(247, 248), match='s'>\n",
            "<re.Match object; span=(248, 249), match='-'>\n",
            "<re.Match object; span=(249, 250), match='c'>\n",
            "<re.Match object; span=(250, 251), match='o'>\n",
            "<re.Match object; span=(251, 252), match='m'>\n",
            "<re.Match object; span=(253, 254), match='3'>\n",
            "<re.Match object; span=(254, 255), match='2'>\n",
            "<re.Match object; span=(255, 256), match='1'>\n",
            "<re.Match object; span=(256, 257), match='-'>\n",
            "<re.Match object; span=(257, 258), match='5'>\n",
            "<re.Match object; span=(258, 259), match='5'>\n",
            "<re.Match object; span=(259, 260), match='5'>\n",
            "<re.Match object; span=(260, 261), match='-'>\n",
            "<re.Match object; span=(261, 262), match='4'>\n",
            "<re.Match object; span=(262, 263), match='3'>\n",
            "<re.Match object; span=(263, 264), match='2'>\n",
            "<re.Match object; span=(264, 265), match='1'>\n",
            "<re.Match object; span=(266, 267), match='1'>\n",
            "<re.Match object; span=(267, 268), match='2'>\n",
            "<re.Match object; span=(268, 269), match='3'>\n",
            "<re.Match object; span=(269, 270), match='.'>\n",
            "<re.Match object; span=(270, 271), match='5'>\n",
            "<re.Match object; span=(271, 272), match='5'>\n",
            "<re.Match object; span=(272, 273), match='5'>\n",
            "<re.Match object; span=(273, 274), match='.'>\n",
            "<re.Match object; span=(274, 275), match='1'>\n",
            "<re.Match object; span=(275, 276), match='2'>\n",
            "<re.Match object; span=(276, 277), match='3'>\n",
            "<re.Match object; span=(277, 278), match='4'>\n",
            "<re.Match object; span=(279, 280), match='1'>\n",
            "<re.Match object; span=(280, 281), match='2'>\n",
            "<re.Match object; span=(281, 282), match='3'>\n",
            "<re.Match object; span=(282, 283), match='*'>\n",
            "<re.Match object; span=(283, 284), match='5'>\n",
            "<re.Match object; span=(284, 285), match='5'>\n",
            "<re.Match object; span=(285, 286), match='5'>\n",
            "<re.Match object; span=(286, 287), match='*'>\n",
            "<re.Match object; span=(287, 288), match='1'>\n",
            "<re.Match object; span=(288, 289), match='2'>\n",
            "<re.Match object; span=(289, 290), match='3'>\n",
            "<re.Match object; span=(290, 291), match='4'>\n",
            "<re.Match object; span=(292, 293), match='8'>\n",
            "<re.Match object; span=(293, 294), match='0'>\n",
            "<re.Match object; span=(294, 295), match='0'>\n",
            "<re.Match object; span=(295, 296), match='-'>\n",
            "<re.Match object; span=(296, 297), match='5'>\n",
            "<re.Match object; span=(297, 298), match='5'>\n",
            "<re.Match object; span=(298, 299), match='5'>\n",
            "<re.Match object; span=(299, 300), match='-'>\n",
            "<re.Match object; span=(300, 301), match='1'>\n",
            "<re.Match object; span=(301, 302), match='2'>\n",
            "<re.Match object; span=(302, 303), match='3'>\n",
            "<re.Match object; span=(303, 304), match='4'>\n",
            "<re.Match object; span=(305, 306), match='9'>\n",
            "<re.Match object; span=(306, 307), match='0'>\n",
            "<re.Match object; span=(307, 308), match='0'>\n",
            "<re.Match object; span=(308, 309), match='-'>\n",
            "<re.Match object; span=(309, 310), match='5'>\n",
            "<re.Match object; span=(310, 311), match='5'>\n",
            "<re.Match object; span=(311, 312), match='5'>\n",
            "<re.Match object; span=(312, 313), match='-'>\n",
            "<re.Match object; span=(313, 314), match='1'>\n",
            "<re.Match object; span=(314, 315), match='2'>\n",
            "<re.Match object; span=(315, 316), match='3'>\n",
            "<re.Match object; span=(316, 317), match='4'>\n",
            "<re.Match object; span=(318, 319), match='1'>\n",
            "<re.Match object; span=(319, 320), match='0'>\n",
            "<re.Match object; span=(320, 321), match='0'>\n",
            "<re.Match object; span=(321, 322), match='a'>\n",
            "<re.Match object; span=(322, 323), match='1'>\n",
            "<re.Match object; span=(323, 324), match='2'>\n",
            "<re.Match object; span=(324, 325), match='1'>\n",
            "<re.Match object; span=(325, 326), match='C'>\n",
            "<re.Match object; span=(326, 327), match='4'>\n",
            "<re.Match object; span=(327, 328), match='5'>\n",
            "<re.Match object; span=(328, 329), match='4'>\n",
            "<re.Match object; span=(329, 330), match='3'>\n",
            "<re.Match object; span=(331, 332), match='M'>\n",
            "<re.Match object; span=(332, 333), match='r'>\n",
            "<re.Match object; span=(333, 334), match='.'>\n",
            "<re.Match object; span=(334, 335), match=' '>\n",
            "<re.Match object; span=(335, 336), match='S'>\n",
            "<re.Match object; span=(336, 337), match='c'>\n",
            "<re.Match object; span=(337, 338), match='h'>\n",
            "<re.Match object; span=(338, 339), match='a'>\n",
            "<re.Match object; span=(339, 340), match='f'>\n",
            "<re.Match object; span=(340, 341), match='e'>\n",
            "<re.Match object; span=(341, 342), match='r'>\n",
            "<re.Match object; span=(343, 344), match='M'>\n",
            "<re.Match object; span=(344, 345), match='r'>\n",
            "<re.Match object; span=(345, 346), match=' '>\n",
            "<re.Match object; span=(346, 347), match='S'>\n",
            "<re.Match object; span=(347, 348), match='m'>\n",
            "<re.Match object; span=(348, 349), match='i'>\n",
            "<re.Match object; span=(349, 350), match='t'>\n",
            "<re.Match object; span=(350, 351), match='h'>\n",
            "<re.Match object; span=(352, 353), match='M'>\n",
            "<re.Match object; span=(353, 354), match='s'>\n",
            "<re.Match object; span=(354, 355), match=' '>\n",
            "<re.Match object; span=(355, 356), match='D'>\n",
            "<re.Match object; span=(356, 357), match='a'>\n",
            "<re.Match object; span=(357, 358), match='v'>\n",
            "<re.Match object; span=(358, 359), match='i'>\n",
            "<re.Match object; span=(359, 360), match='s'>\n",
            "<re.Match object; span=(361, 362), match='M'>\n",
            "<re.Match object; span=(362, 363), match='r'>\n",
            "<re.Match object; span=(363, 364), match='s'>\n",
            "<re.Match object; span=(364, 365), match='.'>\n",
            "<re.Match object; span=(365, 366), match=' '>\n",
            "<re.Match object; span=(366, 367), match='R'>\n",
            "<re.Match object; span=(367, 368), match='o'>\n",
            "<re.Match object; span=(368, 369), match='b'>\n",
            "<re.Match object; span=(369, 370), match='i'>\n",
            "<re.Match object; span=(370, 371), match='n'>\n",
            "<re.Match object; span=(371, 372), match='s'>\n",
            "<re.Match object; span=(372, 373), match='o'>\n",
            "<re.Match object; span=(373, 374), match='n'>\n",
            "<re.Match object; span=(375, 376), match='M'>\n",
            "<re.Match object; span=(376, 377), match='r'>\n",
            "<re.Match object; span=(377, 378), match='.'>\n",
            "<re.Match object; span=(378, 379), match=' '>\n",
            "<re.Match object; span=(379, 380), match='T'>\n"
          ]
        }
      ],
      "source": [
        "pattern = re.compile(\".\") # matches everything ( excpet new lines )\n",
        "matches = pattern.finditer(mytext)\n",
        "for match in matches:\n",
        "    print(match)"
      ]
    },
    {
      "cell_type": "code",
      "execution_count": 17,
      "metadata": {
        "ExecuteTime": {
          "end_time": "2023-12-29T09:11:40.341665Z",
          "start_time": "2023-12-29T09:11:40.330932Z"
        },
        "id": "A8YG9N3I9ugV",
        "outputId": "db6a5133-a281-47c7-f22f-89bc134e7017",
        "colab": {
          "base_uri": "https://localhost:8080/"
        }
      },
      "outputs": [
        {
          "output_type": "stream",
          "name": "stdout",
          "text": [
            "start index: 112 and end index is:  112\n",
            "start index: 269 and end index is:  269\n",
            "start index: 273 and end index is:  273\n",
            "start index: 333 and end index is:  333\n",
            "start index: 364 and end index is:  364\n",
            "start index: 377 and end index is:  377\n",
            ". .\n"
          ]
        }
      ],
      "source": [
        "pattern = re.compile(\"\\.\") #matches only dots\n",
        "matches = pattern.finditer(mytext)\n",
        "\n",
        "for match in matches:\n",
        "    print(\"start index:\", match.span()[0] , \"and end index is: \", (match.span()[1])-1)\n",
        "\n",
        "print(mytext[112], end = \" \")\n",
        "print(mytext[269])"
      ]
    },
    {
      "cell_type": "code",
      "execution_count": 18,
      "metadata": {
        "ExecuteTime": {
          "end_time": "2023-08-15T16:50:18.328535Z",
          "start_time": "2023-08-15T16:50:18.321433Z"
        },
        "id": "__IHcZrc9ugV",
        "outputId": "1b6fe128-9443-4d3e-8342-a0d46f75d6e9",
        "colab": {
          "base_uri": "https://localhost:8080/",
          "height": 70
        }
      },
      "outputs": [
        {
          "output_type": "execute_result",
          "data": {
            "text/plain": [
              "'abcdefghijklmnopqurtuvwxyz\\nABCDEFGHIJKLMNOPQRSTUVWXYZ\\n123456789010\\nHa HaHa\\nMetaCharacters (Need to be escaped):\\n. ^ $ * + ? { } [ ] \\\\ | ( )\\nabc\\ncat\\nmat \\nhat\\nbat\\nfat\\nsat\\n01092329340\\n01123234355\\n01023455411\\n01234567875\\n01534567456\\n01134567856\\ncoreyms-com\\n321-555-4321\\n123.555.1234\\n123*555*1234\\n800-555-1234\\n900-555-1234\\n100a121C4543\\nMr. Schafer\\nMr Smith\\nMs Davis\\nMrs. Robinson\\nMr. T\\n'"
            ],
            "application/vnd.google.colaboratory.intrinsic+json": {
              "type": "string"
            }
          },
          "metadata": {},
          "execution_count": 18
        }
      ],
      "source": [
        "mytext"
      ]
    },
    {
      "cell_type": "code",
      "execution_count": 19,
      "metadata": {
        "ExecuteTime": {
          "end_time": "2023-12-29T09:12:08.881544Z",
          "start_time": "2023-12-29T09:12:08.870156Z"
        },
        "id": "l439phck9ugV",
        "outputId": "b693a3dc-c107-40dc-9864-c701f4fc2b2e",
        "colab": {
          "base_uri": "https://localhost:8080/"
        }
      },
      "outputs": [
        {
          "output_type": "stream",
          "name": "stdout",
          "text": [
            "<re.Match object; span=(241, 252), match='coreyms-com'>\n"
          ]
        }
      ],
      "source": [
        "pattern = re.compile(r\"coreyms.com\")  # the dot is a place holder\n",
        "matches = pattern.finditer(mytext)\n",
        "l = [ ]\n",
        "for match in matches:\n",
        "    print(match)"
      ]
    },
    {
      "cell_type": "code",
      "execution_count": 21,
      "metadata": {
        "ExecuteTime": {
          "end_time": "2023-12-29T09:12:50.659011Z",
          "start_time": "2023-12-29T09:12:50.649893Z"
        },
        "id": "k0SqubF69ugV"
      },
      "outputs": [],
      "source": [
        "pattern = re.compile(\"coreyms\\.com\") #search for coreyms.com exactly\n",
        "matches = pattern.finditer(mytext)\n",
        "for match in matches:\n",
        "    print(match)"
      ]
    },
    {
      "cell_type": "code",
      "execution_count": 22,
      "metadata": {
        "ExecuteTime": {
          "end_time": "2023-12-29T09:12:56.971837Z",
          "start_time": "2023-12-29T09:12:56.963630Z"
        },
        "id": "wTSU7GtO9ugW",
        "outputId": "6f6928ea-4725-4c70-8178-e9e04d9c8280",
        "colab": {
          "base_uri": "https://localhost:8080/"
        }
      },
      "outputs": [
        {
          "output_type": "stream",
          "name": "stdout",
          "text": [
            "<re.Match object; span=(3, 4), match='d'>\n",
            "<re.Match object; span=(94, 95), match='d'>\n",
            "<re.Match object; span=(108, 109), match='d'>\n"
          ]
        }
      ],
      "source": [
        "pattern = re.compile(\"d\") # search for letter d\n",
        "matches = pattern.finditer(mytext)\n",
        "for match in matches:\n",
        "    print(match)"
      ]
    },
    {
      "cell_type": "code",
      "execution_count": 23,
      "metadata": {
        "ExecuteTime": {
          "end_time": "2023-12-29T09:13:12.734646Z",
          "start_time": "2023-12-29T09:13:12.725250Z"
        },
        "scrolled": false,
        "id": "JPyH0G3c9ugW",
        "outputId": "4a81517a-a1fd-466e-b758-4b31bf98fba1",
        "colab": {
          "base_uri": "https://localhost:8080/"
        }
      },
      "outputs": [
        {
          "output_type": "stream",
          "name": "stdout",
          "text": [
            "<re.Match object; span=(54, 55), match='1'>\n",
            "<re.Match object; span=(55, 56), match='2'>\n",
            "<re.Match object; span=(56, 57), match='3'>\n",
            "<re.Match object; span=(57, 58), match='4'>\n",
            "<re.Match object; span=(58, 59), match='5'>\n",
            "<re.Match object; span=(59, 60), match='6'>\n",
            "<re.Match object; span=(60, 61), match='7'>\n",
            "<re.Match object; span=(61, 62), match='8'>\n",
            "<re.Match object; span=(62, 63), match='9'>\n",
            "<re.Match object; span=(63, 64), match='0'>\n",
            "<re.Match object; span=(64, 65), match='1'>\n",
            "<re.Match object; span=(65, 66), match='0'>\n",
            "<re.Match object; span=(169, 170), match='0'>\n",
            "<re.Match object; span=(170, 171), match='1'>\n",
            "<re.Match object; span=(171, 172), match='0'>\n",
            "<re.Match object; span=(172, 173), match='9'>\n",
            "<re.Match object; span=(173, 174), match='2'>\n",
            "<re.Match object; span=(174, 175), match='3'>\n",
            "<re.Match object; span=(175, 176), match='2'>\n",
            "<re.Match object; span=(176, 177), match='9'>\n",
            "<re.Match object; span=(177, 178), match='3'>\n",
            "<re.Match object; span=(178, 179), match='4'>\n",
            "<re.Match object; span=(179, 180), match='0'>\n",
            "<re.Match object; span=(181, 182), match='0'>\n",
            "<re.Match object; span=(182, 183), match='1'>\n",
            "<re.Match object; span=(183, 184), match='1'>\n",
            "<re.Match object; span=(184, 185), match='2'>\n",
            "<re.Match object; span=(185, 186), match='3'>\n",
            "<re.Match object; span=(186, 187), match='2'>\n",
            "<re.Match object; span=(187, 188), match='3'>\n",
            "<re.Match object; span=(188, 189), match='4'>\n",
            "<re.Match object; span=(189, 190), match='3'>\n",
            "<re.Match object; span=(190, 191), match='5'>\n",
            "<re.Match object; span=(191, 192), match='5'>\n",
            "<re.Match object; span=(193, 194), match='0'>\n",
            "<re.Match object; span=(194, 195), match='1'>\n",
            "<re.Match object; span=(195, 196), match='0'>\n",
            "<re.Match object; span=(196, 197), match='2'>\n",
            "<re.Match object; span=(197, 198), match='3'>\n",
            "<re.Match object; span=(198, 199), match='4'>\n",
            "<re.Match object; span=(199, 200), match='5'>\n",
            "<re.Match object; span=(200, 201), match='5'>\n",
            "<re.Match object; span=(201, 202), match='4'>\n",
            "<re.Match object; span=(202, 203), match='1'>\n",
            "<re.Match object; span=(203, 204), match='1'>\n",
            "<re.Match object; span=(205, 206), match='0'>\n",
            "<re.Match object; span=(206, 207), match='1'>\n",
            "<re.Match object; span=(207, 208), match='2'>\n",
            "<re.Match object; span=(208, 209), match='3'>\n",
            "<re.Match object; span=(209, 210), match='4'>\n",
            "<re.Match object; span=(210, 211), match='5'>\n",
            "<re.Match object; span=(211, 212), match='6'>\n",
            "<re.Match object; span=(212, 213), match='7'>\n",
            "<re.Match object; span=(213, 214), match='8'>\n",
            "<re.Match object; span=(214, 215), match='7'>\n",
            "<re.Match object; span=(215, 216), match='5'>\n",
            "<re.Match object; span=(217, 218), match='0'>\n",
            "<re.Match object; span=(218, 219), match='1'>\n",
            "<re.Match object; span=(219, 220), match='5'>\n",
            "<re.Match object; span=(220, 221), match='3'>\n",
            "<re.Match object; span=(221, 222), match='4'>\n",
            "<re.Match object; span=(222, 223), match='5'>\n",
            "<re.Match object; span=(223, 224), match='6'>\n",
            "<re.Match object; span=(224, 225), match='7'>\n",
            "<re.Match object; span=(225, 226), match='4'>\n",
            "<re.Match object; span=(226, 227), match='5'>\n",
            "<re.Match object; span=(227, 228), match='6'>\n",
            "<re.Match object; span=(229, 230), match='0'>\n",
            "<re.Match object; span=(230, 231), match='1'>\n",
            "<re.Match object; span=(231, 232), match='1'>\n",
            "<re.Match object; span=(232, 233), match='3'>\n",
            "<re.Match object; span=(233, 234), match='4'>\n",
            "<re.Match object; span=(234, 235), match='5'>\n",
            "<re.Match object; span=(235, 236), match='6'>\n",
            "<re.Match object; span=(236, 237), match='7'>\n",
            "<re.Match object; span=(237, 238), match='8'>\n",
            "<re.Match object; span=(238, 239), match='5'>\n",
            "<re.Match object; span=(239, 240), match='6'>\n",
            "<re.Match object; span=(253, 254), match='3'>\n",
            "<re.Match object; span=(254, 255), match='2'>\n",
            "<re.Match object; span=(255, 256), match='1'>\n",
            "<re.Match object; span=(257, 258), match='5'>\n",
            "<re.Match object; span=(258, 259), match='5'>\n",
            "<re.Match object; span=(259, 260), match='5'>\n",
            "<re.Match object; span=(261, 262), match='4'>\n",
            "<re.Match object; span=(262, 263), match='3'>\n",
            "<re.Match object; span=(263, 264), match='2'>\n",
            "<re.Match object; span=(264, 265), match='1'>\n",
            "<re.Match object; span=(266, 267), match='1'>\n",
            "<re.Match object; span=(267, 268), match='2'>\n",
            "<re.Match object; span=(268, 269), match='3'>\n",
            "<re.Match object; span=(270, 271), match='5'>\n",
            "<re.Match object; span=(271, 272), match='5'>\n",
            "<re.Match object; span=(272, 273), match='5'>\n",
            "<re.Match object; span=(274, 275), match='1'>\n",
            "<re.Match object; span=(275, 276), match='2'>\n",
            "<re.Match object; span=(276, 277), match='3'>\n",
            "<re.Match object; span=(277, 278), match='4'>\n",
            "<re.Match object; span=(279, 280), match='1'>\n",
            "<re.Match object; span=(280, 281), match='2'>\n",
            "<re.Match object; span=(281, 282), match='3'>\n",
            "<re.Match object; span=(283, 284), match='5'>\n",
            "<re.Match object; span=(284, 285), match='5'>\n",
            "<re.Match object; span=(285, 286), match='5'>\n",
            "<re.Match object; span=(287, 288), match='1'>\n",
            "<re.Match object; span=(288, 289), match='2'>\n",
            "<re.Match object; span=(289, 290), match='3'>\n",
            "<re.Match object; span=(290, 291), match='4'>\n",
            "<re.Match object; span=(292, 293), match='8'>\n",
            "<re.Match object; span=(293, 294), match='0'>\n",
            "<re.Match object; span=(294, 295), match='0'>\n",
            "<re.Match object; span=(296, 297), match='5'>\n",
            "<re.Match object; span=(297, 298), match='5'>\n",
            "<re.Match object; span=(298, 299), match='5'>\n",
            "<re.Match object; span=(300, 301), match='1'>\n",
            "<re.Match object; span=(301, 302), match='2'>\n",
            "<re.Match object; span=(302, 303), match='3'>\n",
            "<re.Match object; span=(303, 304), match='4'>\n",
            "<re.Match object; span=(305, 306), match='9'>\n",
            "<re.Match object; span=(306, 307), match='0'>\n",
            "<re.Match object; span=(307, 308), match='0'>\n",
            "<re.Match object; span=(309, 310), match='5'>\n",
            "<re.Match object; span=(310, 311), match='5'>\n",
            "<re.Match object; span=(311, 312), match='5'>\n",
            "<re.Match object; span=(313, 314), match='1'>\n",
            "<re.Match object; span=(314, 315), match='2'>\n",
            "<re.Match object; span=(315, 316), match='3'>\n",
            "<re.Match object; span=(316, 317), match='4'>\n",
            "<re.Match object; span=(318, 319), match='1'>\n",
            "<re.Match object; span=(319, 320), match='0'>\n",
            "<re.Match object; span=(320, 321), match='0'>\n",
            "<re.Match object; span=(322, 323), match='1'>\n",
            "<re.Match object; span=(323, 324), match='2'>\n",
            "<re.Match object; span=(324, 325), match='1'>\n",
            "<re.Match object; span=(326, 327), match='4'>\n",
            "<re.Match object; span=(327, 328), match='5'>\n",
            "<re.Match object; span=(328, 329), match='4'>\n",
            "<re.Match object; span=(329, 330), match='3'>\n"
          ]
        }
      ],
      "source": [
        "pattern = re.compile(r\"\\d\") # matches only digits\n",
        "matches = pattern.finditer(mytext)\n",
        "for match in matches:\n",
        "    print(match)"
      ]
    },
    {
      "cell_type": "code",
      "execution_count": 24,
      "metadata": {
        "ExecuteTime": {
          "end_time": "2023-12-29T09:13:35.343115Z",
          "start_time": "2023-12-29T09:13:35.329588Z"
        },
        "id": "fHzparX29ugW",
        "outputId": "36227f69-61c9-4c90-b80d-0917f1a656da",
        "colab": {
          "base_uri": "https://localhost:8080/"
        }
      },
      "outputs": [
        {
          "output_type": "stream",
          "name": "stdout",
          "text": [
            "<re.Match object; span=(0, 1), match='a'>\n",
            "<re.Match object; span=(1, 2), match='b'>\n",
            "<re.Match object; span=(2, 3), match='c'>\n",
            "<re.Match object; span=(3, 4), match='d'>\n",
            "<re.Match object; span=(4, 5), match='e'>\n",
            "<re.Match object; span=(5, 6), match='f'>\n",
            "<re.Match object; span=(6, 7), match='g'>\n",
            "<re.Match object; span=(7, 8), match='h'>\n",
            "<re.Match object; span=(8, 9), match='i'>\n",
            "<re.Match object; span=(9, 10), match='j'>\n",
            "<re.Match object; span=(10, 11), match='k'>\n",
            "<re.Match object; span=(11, 12), match='l'>\n",
            "<re.Match object; span=(12, 13), match='m'>\n",
            "<re.Match object; span=(13, 14), match='n'>\n",
            "<re.Match object; span=(14, 15), match='o'>\n",
            "<re.Match object; span=(15, 16), match='p'>\n",
            "<re.Match object; span=(16, 17), match='q'>\n",
            "<re.Match object; span=(17, 18), match='u'>\n",
            "<re.Match object; span=(18, 19), match='r'>\n",
            "<re.Match object; span=(19, 20), match='t'>\n",
            "<re.Match object; span=(20, 21), match='u'>\n",
            "<re.Match object; span=(21, 22), match='v'>\n",
            "<re.Match object; span=(22, 23), match='w'>\n",
            "<re.Match object; span=(23, 24), match='x'>\n",
            "<re.Match object; span=(24, 25), match='y'>\n",
            "<re.Match object; span=(25, 26), match='z'>\n",
            "<re.Match object; span=(26, 27), match='\\n'>\n",
            "<re.Match object; span=(27, 28), match='A'>\n",
            "<re.Match object; span=(28, 29), match='B'>\n",
            "<re.Match object; span=(29, 30), match='C'>\n",
            "<re.Match object; span=(30, 31), match='D'>\n",
            "<re.Match object; span=(31, 32), match='E'>\n",
            "<re.Match object; span=(32, 33), match='F'>\n",
            "<re.Match object; span=(33, 34), match='G'>\n",
            "<re.Match object; span=(34, 35), match='H'>\n",
            "<re.Match object; span=(35, 36), match='I'>\n",
            "<re.Match object; span=(36, 37), match='J'>\n",
            "<re.Match object; span=(37, 38), match='K'>\n",
            "<re.Match object; span=(38, 39), match='L'>\n",
            "<re.Match object; span=(39, 40), match='M'>\n",
            "<re.Match object; span=(40, 41), match='N'>\n",
            "<re.Match object; span=(41, 42), match='O'>\n",
            "<re.Match object; span=(42, 43), match='P'>\n",
            "<re.Match object; span=(43, 44), match='Q'>\n",
            "<re.Match object; span=(44, 45), match='R'>\n",
            "<re.Match object; span=(45, 46), match='S'>\n",
            "<re.Match object; span=(46, 47), match='T'>\n",
            "<re.Match object; span=(47, 48), match='U'>\n",
            "<re.Match object; span=(48, 49), match='V'>\n",
            "<re.Match object; span=(49, 50), match='W'>\n",
            "<re.Match object; span=(50, 51), match='X'>\n",
            "<re.Match object; span=(51, 52), match='Y'>\n",
            "<re.Match object; span=(52, 53), match='Z'>\n",
            "<re.Match object; span=(53, 54), match='\\n'>\n",
            "<re.Match object; span=(66, 67), match='\\n'>\n",
            "<re.Match object; span=(67, 68), match='H'>\n",
            "<re.Match object; span=(68, 69), match='a'>\n",
            "<re.Match object; span=(69, 70), match=' '>\n",
            "<re.Match object; span=(70, 71), match='H'>\n",
            "<re.Match object; span=(71, 72), match='a'>\n",
            "<re.Match object; span=(72, 73), match='H'>\n",
            "<re.Match object; span=(73, 74), match='a'>\n",
            "<re.Match object; span=(74, 75), match='\\n'>\n",
            "<re.Match object; span=(75, 76), match='M'>\n",
            "<re.Match object; span=(76, 77), match='e'>\n",
            "<re.Match object; span=(77, 78), match='t'>\n",
            "<re.Match object; span=(78, 79), match='a'>\n",
            "<re.Match object; span=(79, 80), match='C'>\n",
            "<re.Match object; span=(80, 81), match='h'>\n",
            "<re.Match object; span=(81, 82), match='a'>\n",
            "<re.Match object; span=(82, 83), match='r'>\n",
            "<re.Match object; span=(83, 84), match='a'>\n",
            "<re.Match object; span=(84, 85), match='c'>\n",
            "<re.Match object; span=(85, 86), match='t'>\n",
            "<re.Match object; span=(86, 87), match='e'>\n",
            "<re.Match object; span=(87, 88), match='r'>\n",
            "<re.Match object; span=(88, 89), match='s'>\n",
            "<re.Match object; span=(89, 90), match=' '>\n",
            "<re.Match object; span=(90, 91), match='('>\n",
            "<re.Match object; span=(91, 92), match='N'>\n",
            "<re.Match object; span=(92, 93), match='e'>\n",
            "<re.Match object; span=(93, 94), match='e'>\n",
            "<re.Match object; span=(94, 95), match='d'>\n",
            "<re.Match object; span=(95, 96), match=' '>\n",
            "<re.Match object; span=(96, 97), match='t'>\n",
            "<re.Match object; span=(97, 98), match='o'>\n",
            "<re.Match object; span=(98, 99), match=' '>\n",
            "<re.Match object; span=(99, 100), match='b'>\n",
            "<re.Match object; span=(100, 101), match='e'>\n",
            "<re.Match object; span=(101, 102), match=' '>\n",
            "<re.Match object; span=(102, 103), match='e'>\n",
            "<re.Match object; span=(103, 104), match='s'>\n",
            "<re.Match object; span=(104, 105), match='c'>\n",
            "<re.Match object; span=(105, 106), match='a'>\n",
            "<re.Match object; span=(106, 107), match='p'>\n",
            "<re.Match object; span=(107, 108), match='e'>\n",
            "<re.Match object; span=(108, 109), match='d'>\n",
            "<re.Match object; span=(109, 110), match=')'>\n",
            "<re.Match object; span=(110, 111), match=':'>\n",
            "<re.Match object; span=(111, 112), match='\\n'>\n",
            "<re.Match object; span=(112, 113), match='.'>\n",
            "<re.Match object; span=(113, 114), match=' '>\n",
            "<re.Match object; span=(114, 115), match='^'>\n",
            "<re.Match object; span=(115, 116), match=' '>\n",
            "<re.Match object; span=(116, 117), match='$'>\n",
            "<re.Match object; span=(117, 118), match=' '>\n",
            "<re.Match object; span=(118, 119), match='*'>\n",
            "<re.Match object; span=(119, 120), match=' '>\n",
            "<re.Match object; span=(120, 121), match='+'>\n",
            "<re.Match object; span=(121, 122), match=' '>\n",
            "<re.Match object; span=(122, 123), match='?'>\n",
            "<re.Match object; span=(123, 124), match=' '>\n",
            "<re.Match object; span=(124, 125), match='{'>\n",
            "<re.Match object; span=(125, 126), match=' '>\n",
            "<re.Match object; span=(126, 127), match='}'>\n",
            "<re.Match object; span=(127, 128), match=' '>\n",
            "<re.Match object; span=(128, 129), match='['>\n",
            "<re.Match object; span=(129, 130), match=' '>\n",
            "<re.Match object; span=(130, 131), match=']'>\n",
            "<re.Match object; span=(131, 132), match=' '>\n",
            "<re.Match object; span=(132, 133), match='\\\\'>\n",
            "<re.Match object; span=(133, 134), match=' '>\n",
            "<re.Match object; span=(134, 135), match='|'>\n",
            "<re.Match object; span=(135, 136), match=' '>\n",
            "<re.Match object; span=(136, 137), match='('>\n",
            "<re.Match object; span=(137, 138), match=' '>\n",
            "<re.Match object; span=(138, 139), match=')'>\n",
            "<re.Match object; span=(139, 140), match='\\n'>\n",
            "<re.Match object; span=(140, 141), match='a'>\n",
            "<re.Match object; span=(141, 142), match='b'>\n",
            "<re.Match object; span=(142, 143), match='c'>\n",
            "<re.Match object; span=(143, 144), match='\\n'>\n",
            "<re.Match object; span=(144, 145), match='c'>\n",
            "<re.Match object; span=(145, 146), match='a'>\n",
            "<re.Match object; span=(146, 147), match='t'>\n",
            "<re.Match object; span=(147, 148), match='\\n'>\n",
            "<re.Match object; span=(148, 149), match='m'>\n",
            "<re.Match object; span=(149, 150), match='a'>\n",
            "<re.Match object; span=(150, 151), match='t'>\n",
            "<re.Match object; span=(151, 152), match=' '>\n",
            "<re.Match object; span=(152, 153), match='\\n'>\n",
            "<re.Match object; span=(153, 154), match='h'>\n",
            "<re.Match object; span=(154, 155), match='a'>\n",
            "<re.Match object; span=(155, 156), match='t'>\n",
            "<re.Match object; span=(156, 157), match='\\n'>\n",
            "<re.Match object; span=(157, 158), match='b'>\n",
            "<re.Match object; span=(158, 159), match='a'>\n",
            "<re.Match object; span=(159, 160), match='t'>\n",
            "<re.Match object; span=(160, 161), match='\\n'>\n",
            "<re.Match object; span=(161, 162), match='f'>\n",
            "<re.Match object; span=(162, 163), match='a'>\n",
            "<re.Match object; span=(163, 164), match='t'>\n",
            "<re.Match object; span=(164, 165), match='\\n'>\n",
            "<re.Match object; span=(165, 166), match='s'>\n",
            "<re.Match object; span=(166, 167), match='a'>\n",
            "<re.Match object; span=(167, 168), match='t'>\n",
            "<re.Match object; span=(168, 169), match='\\n'>\n",
            "<re.Match object; span=(180, 181), match='\\n'>\n",
            "<re.Match object; span=(192, 193), match='\\n'>\n",
            "<re.Match object; span=(204, 205), match='\\n'>\n",
            "<re.Match object; span=(216, 217), match='\\n'>\n",
            "<re.Match object; span=(228, 229), match='\\n'>\n",
            "<re.Match object; span=(240, 241), match='\\n'>\n",
            "<re.Match object; span=(241, 242), match='c'>\n",
            "<re.Match object; span=(242, 243), match='o'>\n",
            "<re.Match object; span=(243, 244), match='r'>\n",
            "<re.Match object; span=(244, 245), match='e'>\n",
            "<re.Match object; span=(245, 246), match='y'>\n",
            "<re.Match object; span=(246, 247), match='m'>\n",
            "<re.Match object; span=(247, 248), match='s'>\n",
            "<re.Match object; span=(248, 249), match='-'>\n",
            "<re.Match object; span=(249, 250), match='c'>\n",
            "<re.Match object; span=(250, 251), match='o'>\n",
            "<re.Match object; span=(251, 252), match='m'>\n",
            "<re.Match object; span=(252, 253), match='\\n'>\n",
            "<re.Match object; span=(256, 257), match='-'>\n",
            "<re.Match object; span=(260, 261), match='-'>\n",
            "<re.Match object; span=(265, 266), match='\\n'>\n",
            "<re.Match object; span=(269, 270), match='.'>\n",
            "<re.Match object; span=(273, 274), match='.'>\n",
            "<re.Match object; span=(278, 279), match='\\n'>\n",
            "<re.Match object; span=(282, 283), match='*'>\n",
            "<re.Match object; span=(286, 287), match='*'>\n",
            "<re.Match object; span=(291, 292), match='\\n'>\n",
            "<re.Match object; span=(295, 296), match='-'>\n",
            "<re.Match object; span=(299, 300), match='-'>\n",
            "<re.Match object; span=(304, 305), match='\\n'>\n",
            "<re.Match object; span=(308, 309), match='-'>\n",
            "<re.Match object; span=(312, 313), match='-'>\n",
            "<re.Match object; span=(317, 318), match='\\n'>\n",
            "<re.Match object; span=(321, 322), match='a'>\n",
            "<re.Match object; span=(325, 326), match='C'>\n",
            "<re.Match object; span=(330, 331), match='\\n'>\n",
            "<re.Match object; span=(331, 332), match='M'>\n",
            "<re.Match object; span=(332, 333), match='r'>\n",
            "<re.Match object; span=(333, 334), match='.'>\n",
            "<re.Match object; span=(334, 335), match=' '>\n",
            "<re.Match object; span=(335, 336), match='S'>\n",
            "<re.Match object; span=(336, 337), match='c'>\n",
            "<re.Match object; span=(337, 338), match='h'>\n",
            "<re.Match object; span=(338, 339), match='a'>\n",
            "<re.Match object; span=(339, 340), match='f'>\n",
            "<re.Match object; span=(340, 341), match='e'>\n",
            "<re.Match object; span=(341, 342), match='r'>\n",
            "<re.Match object; span=(342, 343), match='\\n'>\n",
            "<re.Match object; span=(343, 344), match='M'>\n",
            "<re.Match object; span=(344, 345), match='r'>\n",
            "<re.Match object; span=(345, 346), match=' '>\n",
            "<re.Match object; span=(346, 347), match='S'>\n",
            "<re.Match object; span=(347, 348), match='m'>\n",
            "<re.Match object; span=(348, 349), match='i'>\n",
            "<re.Match object; span=(349, 350), match='t'>\n",
            "<re.Match object; span=(350, 351), match='h'>\n",
            "<re.Match object; span=(351, 352), match='\\n'>\n",
            "<re.Match object; span=(352, 353), match='M'>\n",
            "<re.Match object; span=(353, 354), match='s'>\n",
            "<re.Match object; span=(354, 355), match=' '>\n",
            "<re.Match object; span=(355, 356), match='D'>\n",
            "<re.Match object; span=(356, 357), match='a'>\n",
            "<re.Match object; span=(357, 358), match='v'>\n",
            "<re.Match object; span=(358, 359), match='i'>\n",
            "<re.Match object; span=(359, 360), match='s'>\n",
            "<re.Match object; span=(360, 361), match='\\n'>\n",
            "<re.Match object; span=(361, 362), match='M'>\n",
            "<re.Match object; span=(362, 363), match='r'>\n",
            "<re.Match object; span=(363, 364), match='s'>\n",
            "<re.Match object; span=(364, 365), match='.'>\n",
            "<re.Match object; span=(365, 366), match=' '>\n",
            "<re.Match object; span=(366, 367), match='R'>\n",
            "<re.Match object; span=(367, 368), match='o'>\n",
            "<re.Match object; span=(368, 369), match='b'>\n",
            "<re.Match object; span=(369, 370), match='i'>\n",
            "<re.Match object; span=(370, 371), match='n'>\n",
            "<re.Match object; span=(371, 372), match='s'>\n",
            "<re.Match object; span=(372, 373), match='o'>\n",
            "<re.Match object; span=(373, 374), match='n'>\n",
            "<re.Match object; span=(374, 375), match='\\n'>\n",
            "<re.Match object; span=(375, 376), match='M'>\n",
            "<re.Match object; span=(376, 377), match='r'>\n",
            "<re.Match object; span=(377, 378), match='.'>\n",
            "<re.Match object; span=(378, 379), match=' '>\n",
            "<re.Match object; span=(379, 380), match='T'>\n",
            "<re.Match object; span=(380, 381), match='\\n'>\n"
          ]
        }
      ],
      "source": [
        "pattern = re.compile(r\"\\D\") # matches not a  digit\n",
        "matches = pattern.finditer(mytext)\n",
        "for match in matches:\n",
        "    print(match)"
      ]
    },
    {
      "cell_type": "code",
      "execution_count": 25,
      "metadata": {
        "ExecuteTime": {
          "end_time": "2023-12-29T09:14:05.872562Z",
          "start_time": "2023-12-29T09:14:05.862550Z"
        },
        "id": "tbpZgUrL9ugW",
        "outputId": "7321e2e7-f46c-422a-d477-3f93a6004118",
        "colab": {
          "base_uri": "https://localhost:8080/"
        }
      },
      "outputs": [
        {
          "output_type": "stream",
          "name": "stdout",
          "text": [
            "<re.Match object; span=(54, 56), match='12'>\n",
            "<re.Match object; span=(56, 58), match='34'>\n",
            "<re.Match object; span=(58, 60), match='56'>\n",
            "<re.Match object; span=(60, 62), match='78'>\n",
            "<re.Match object; span=(62, 64), match='90'>\n",
            "<re.Match object; span=(64, 66), match='10'>\n",
            "<re.Match object; span=(169, 171), match='01'>\n",
            "<re.Match object; span=(171, 173), match='09'>\n",
            "<re.Match object; span=(173, 175), match='23'>\n",
            "<re.Match object; span=(175, 177), match='29'>\n",
            "<re.Match object; span=(177, 179), match='34'>\n",
            "<re.Match object; span=(181, 183), match='01'>\n",
            "<re.Match object; span=(183, 185), match='12'>\n",
            "<re.Match object; span=(185, 187), match='32'>\n",
            "<re.Match object; span=(187, 189), match='34'>\n",
            "<re.Match object; span=(189, 191), match='35'>\n",
            "<re.Match object; span=(193, 195), match='01'>\n",
            "<re.Match object; span=(195, 197), match='02'>\n",
            "<re.Match object; span=(197, 199), match='34'>\n",
            "<re.Match object; span=(199, 201), match='55'>\n",
            "<re.Match object; span=(201, 203), match='41'>\n",
            "<re.Match object; span=(205, 207), match='01'>\n",
            "<re.Match object; span=(207, 209), match='23'>\n",
            "<re.Match object; span=(209, 211), match='45'>\n",
            "<re.Match object; span=(211, 213), match='67'>\n",
            "<re.Match object; span=(213, 215), match='87'>\n",
            "<re.Match object; span=(217, 219), match='01'>\n",
            "<re.Match object; span=(219, 221), match='53'>\n",
            "<re.Match object; span=(221, 223), match='45'>\n",
            "<re.Match object; span=(223, 225), match='67'>\n",
            "<re.Match object; span=(225, 227), match='45'>\n",
            "<re.Match object; span=(229, 231), match='01'>\n",
            "<re.Match object; span=(231, 233), match='13'>\n",
            "<re.Match object; span=(233, 235), match='45'>\n",
            "<re.Match object; span=(235, 237), match='67'>\n",
            "<re.Match object; span=(237, 239), match='85'>\n",
            "<re.Match object; span=(253, 255), match='32'>\n",
            "<re.Match object; span=(257, 259), match='55'>\n",
            "<re.Match object; span=(261, 263), match='43'>\n",
            "<re.Match object; span=(263, 265), match='21'>\n",
            "<re.Match object; span=(266, 268), match='12'>\n",
            "<re.Match object; span=(270, 272), match='55'>\n",
            "<re.Match object; span=(274, 276), match='12'>\n",
            "<re.Match object; span=(276, 278), match='34'>\n",
            "<re.Match object; span=(279, 281), match='12'>\n",
            "<re.Match object; span=(283, 285), match='55'>\n",
            "<re.Match object; span=(287, 289), match='12'>\n",
            "<re.Match object; span=(289, 291), match='34'>\n",
            "<re.Match object; span=(292, 294), match='80'>\n",
            "<re.Match object; span=(296, 298), match='55'>\n",
            "<re.Match object; span=(300, 302), match='12'>\n",
            "<re.Match object; span=(302, 304), match='34'>\n",
            "<re.Match object; span=(305, 307), match='90'>\n",
            "<re.Match object; span=(309, 311), match='55'>\n",
            "<re.Match object; span=(313, 315), match='12'>\n",
            "<re.Match object; span=(315, 317), match='34'>\n",
            "<re.Match object; span=(318, 320), match='10'>\n",
            "<re.Match object; span=(322, 324), match='12'>\n",
            "<re.Match object; span=(326, 328), match='45'>\n",
            "<re.Match object; span=(328, 330), match='43'>\n"
          ]
        }
      ],
      "source": [
        "pattern = re.compile(\"\\d\\d\") # matches two digits\n",
        "matches = pattern.finditer(mytext)\n",
        "for match in matches:\n",
        "    print(match)"
      ]
    },
    {
      "cell_type": "code",
      "execution_count": 26,
      "metadata": {
        "ExecuteTime": {
          "end_time": "2023-12-29T09:14:45.608283Z",
          "start_time": "2023-12-29T09:14:45.595500Z"
        },
        "id": "QZC-d88F9ugW",
        "outputId": "8c18a245-48a7-433b-fe1f-e10acffa81e0",
        "colab": {
          "base_uri": "https://localhost:8080/"
        }
      },
      "outputs": [
        {
          "output_type": "stream",
          "name": "stdout",
          "text": [
            "<re.Match object; span=(0, 1), match='a'>\n",
            "<re.Match object; span=(1, 2), match='b'>\n",
            "<re.Match object; span=(2, 3), match='c'>\n",
            "<re.Match object; span=(3, 4), match='d'>\n",
            "<re.Match object; span=(4, 5), match='e'>\n",
            "<re.Match object; span=(5, 6), match='f'>\n",
            "<re.Match object; span=(6, 7), match='g'>\n",
            "<re.Match object; span=(7, 8), match='h'>\n",
            "<re.Match object; span=(8, 9), match='i'>\n",
            "<re.Match object; span=(9, 10), match='j'>\n",
            "<re.Match object; span=(10, 11), match='k'>\n",
            "<re.Match object; span=(11, 12), match='l'>\n",
            "<re.Match object; span=(12, 13), match='m'>\n",
            "<re.Match object; span=(13, 14), match='n'>\n",
            "<re.Match object; span=(14, 15), match='o'>\n",
            "<re.Match object; span=(15, 16), match='p'>\n",
            "<re.Match object; span=(16, 17), match='q'>\n",
            "<re.Match object; span=(17, 18), match='u'>\n",
            "<re.Match object; span=(18, 19), match='r'>\n",
            "<re.Match object; span=(19, 20), match='t'>\n",
            "<re.Match object; span=(20, 21), match='u'>\n",
            "<re.Match object; span=(21, 22), match='v'>\n",
            "<re.Match object; span=(22, 23), match='w'>\n",
            "<re.Match object; span=(23, 24), match='x'>\n",
            "<re.Match object; span=(24, 25), match='y'>\n",
            "<re.Match object; span=(25, 26), match='z'>\n",
            "<re.Match object; span=(27, 28), match='A'>\n",
            "<re.Match object; span=(28, 29), match='B'>\n",
            "<re.Match object; span=(29, 30), match='C'>\n",
            "<re.Match object; span=(30, 31), match='D'>\n",
            "<re.Match object; span=(31, 32), match='E'>\n",
            "<re.Match object; span=(32, 33), match='F'>\n",
            "<re.Match object; span=(33, 34), match='G'>\n",
            "<re.Match object; span=(34, 35), match='H'>\n",
            "<re.Match object; span=(35, 36), match='I'>\n",
            "<re.Match object; span=(36, 37), match='J'>\n",
            "<re.Match object; span=(37, 38), match='K'>\n",
            "<re.Match object; span=(38, 39), match='L'>\n",
            "<re.Match object; span=(39, 40), match='M'>\n",
            "<re.Match object; span=(40, 41), match='N'>\n",
            "<re.Match object; span=(41, 42), match='O'>\n",
            "<re.Match object; span=(42, 43), match='P'>\n",
            "<re.Match object; span=(43, 44), match='Q'>\n",
            "<re.Match object; span=(44, 45), match='R'>\n",
            "<re.Match object; span=(45, 46), match='S'>\n",
            "<re.Match object; span=(46, 47), match='T'>\n",
            "<re.Match object; span=(47, 48), match='U'>\n",
            "<re.Match object; span=(48, 49), match='V'>\n",
            "<re.Match object; span=(49, 50), match='W'>\n",
            "<re.Match object; span=(50, 51), match='X'>\n",
            "<re.Match object; span=(51, 52), match='Y'>\n",
            "<re.Match object; span=(52, 53), match='Z'>\n",
            "<re.Match object; span=(54, 55), match='1'>\n",
            "<re.Match object; span=(55, 56), match='2'>\n",
            "<re.Match object; span=(56, 57), match='3'>\n",
            "<re.Match object; span=(57, 58), match='4'>\n",
            "<re.Match object; span=(58, 59), match='5'>\n",
            "<re.Match object; span=(59, 60), match='6'>\n",
            "<re.Match object; span=(60, 61), match='7'>\n",
            "<re.Match object; span=(61, 62), match='8'>\n",
            "<re.Match object; span=(62, 63), match='9'>\n",
            "<re.Match object; span=(63, 64), match='0'>\n",
            "<re.Match object; span=(64, 65), match='1'>\n",
            "<re.Match object; span=(65, 66), match='0'>\n",
            "<re.Match object; span=(67, 68), match='H'>\n",
            "<re.Match object; span=(68, 69), match='a'>\n",
            "<re.Match object; span=(70, 71), match='H'>\n",
            "<re.Match object; span=(71, 72), match='a'>\n",
            "<re.Match object; span=(72, 73), match='H'>\n",
            "<re.Match object; span=(73, 74), match='a'>\n",
            "<re.Match object; span=(75, 76), match='M'>\n",
            "<re.Match object; span=(76, 77), match='e'>\n",
            "<re.Match object; span=(77, 78), match='t'>\n",
            "<re.Match object; span=(78, 79), match='a'>\n",
            "<re.Match object; span=(79, 80), match='C'>\n",
            "<re.Match object; span=(80, 81), match='h'>\n",
            "<re.Match object; span=(81, 82), match='a'>\n",
            "<re.Match object; span=(82, 83), match='r'>\n",
            "<re.Match object; span=(83, 84), match='a'>\n",
            "<re.Match object; span=(84, 85), match='c'>\n",
            "<re.Match object; span=(85, 86), match='t'>\n",
            "<re.Match object; span=(86, 87), match='e'>\n",
            "<re.Match object; span=(87, 88), match='r'>\n",
            "<re.Match object; span=(88, 89), match='s'>\n",
            "<re.Match object; span=(91, 92), match='N'>\n",
            "<re.Match object; span=(92, 93), match='e'>\n",
            "<re.Match object; span=(93, 94), match='e'>\n",
            "<re.Match object; span=(94, 95), match='d'>\n",
            "<re.Match object; span=(96, 97), match='t'>\n",
            "<re.Match object; span=(97, 98), match='o'>\n",
            "<re.Match object; span=(99, 100), match='b'>\n",
            "<re.Match object; span=(100, 101), match='e'>\n",
            "<re.Match object; span=(102, 103), match='e'>\n",
            "<re.Match object; span=(103, 104), match='s'>\n",
            "<re.Match object; span=(104, 105), match='c'>\n",
            "<re.Match object; span=(105, 106), match='a'>\n",
            "<re.Match object; span=(106, 107), match='p'>\n",
            "<re.Match object; span=(107, 108), match='e'>\n",
            "<re.Match object; span=(108, 109), match='d'>\n",
            "<re.Match object; span=(140, 141), match='a'>\n",
            "<re.Match object; span=(141, 142), match='b'>\n",
            "<re.Match object; span=(142, 143), match='c'>\n",
            "<re.Match object; span=(144, 145), match='c'>\n",
            "<re.Match object; span=(145, 146), match='a'>\n",
            "<re.Match object; span=(146, 147), match='t'>\n",
            "<re.Match object; span=(148, 149), match='m'>\n",
            "<re.Match object; span=(149, 150), match='a'>\n",
            "<re.Match object; span=(150, 151), match='t'>\n",
            "<re.Match object; span=(153, 154), match='h'>\n",
            "<re.Match object; span=(154, 155), match='a'>\n",
            "<re.Match object; span=(155, 156), match='t'>\n",
            "<re.Match object; span=(157, 158), match='b'>\n",
            "<re.Match object; span=(158, 159), match='a'>\n",
            "<re.Match object; span=(159, 160), match='t'>\n",
            "<re.Match object; span=(161, 162), match='f'>\n",
            "<re.Match object; span=(162, 163), match='a'>\n",
            "<re.Match object; span=(163, 164), match='t'>\n",
            "<re.Match object; span=(165, 166), match='s'>\n",
            "<re.Match object; span=(166, 167), match='a'>\n",
            "<re.Match object; span=(167, 168), match='t'>\n",
            "<re.Match object; span=(169, 170), match='0'>\n",
            "<re.Match object; span=(170, 171), match='1'>\n",
            "<re.Match object; span=(171, 172), match='0'>\n",
            "<re.Match object; span=(172, 173), match='9'>\n",
            "<re.Match object; span=(173, 174), match='2'>\n",
            "<re.Match object; span=(174, 175), match='3'>\n",
            "<re.Match object; span=(175, 176), match='2'>\n",
            "<re.Match object; span=(176, 177), match='9'>\n",
            "<re.Match object; span=(177, 178), match='3'>\n",
            "<re.Match object; span=(178, 179), match='4'>\n",
            "<re.Match object; span=(179, 180), match='0'>\n",
            "<re.Match object; span=(181, 182), match='0'>\n",
            "<re.Match object; span=(182, 183), match='1'>\n",
            "<re.Match object; span=(183, 184), match='1'>\n",
            "<re.Match object; span=(184, 185), match='2'>\n",
            "<re.Match object; span=(185, 186), match='3'>\n",
            "<re.Match object; span=(186, 187), match='2'>\n",
            "<re.Match object; span=(187, 188), match='3'>\n",
            "<re.Match object; span=(188, 189), match='4'>\n",
            "<re.Match object; span=(189, 190), match='3'>\n",
            "<re.Match object; span=(190, 191), match='5'>\n",
            "<re.Match object; span=(191, 192), match='5'>\n",
            "<re.Match object; span=(193, 194), match='0'>\n",
            "<re.Match object; span=(194, 195), match='1'>\n",
            "<re.Match object; span=(195, 196), match='0'>\n",
            "<re.Match object; span=(196, 197), match='2'>\n",
            "<re.Match object; span=(197, 198), match='3'>\n",
            "<re.Match object; span=(198, 199), match='4'>\n",
            "<re.Match object; span=(199, 200), match='5'>\n",
            "<re.Match object; span=(200, 201), match='5'>\n",
            "<re.Match object; span=(201, 202), match='4'>\n",
            "<re.Match object; span=(202, 203), match='1'>\n",
            "<re.Match object; span=(203, 204), match='1'>\n",
            "<re.Match object; span=(205, 206), match='0'>\n",
            "<re.Match object; span=(206, 207), match='1'>\n",
            "<re.Match object; span=(207, 208), match='2'>\n",
            "<re.Match object; span=(208, 209), match='3'>\n",
            "<re.Match object; span=(209, 210), match='4'>\n",
            "<re.Match object; span=(210, 211), match='5'>\n",
            "<re.Match object; span=(211, 212), match='6'>\n",
            "<re.Match object; span=(212, 213), match='7'>\n",
            "<re.Match object; span=(213, 214), match='8'>\n",
            "<re.Match object; span=(214, 215), match='7'>\n",
            "<re.Match object; span=(215, 216), match='5'>\n",
            "<re.Match object; span=(217, 218), match='0'>\n",
            "<re.Match object; span=(218, 219), match='1'>\n",
            "<re.Match object; span=(219, 220), match='5'>\n",
            "<re.Match object; span=(220, 221), match='3'>\n",
            "<re.Match object; span=(221, 222), match='4'>\n",
            "<re.Match object; span=(222, 223), match='5'>\n",
            "<re.Match object; span=(223, 224), match='6'>\n",
            "<re.Match object; span=(224, 225), match='7'>\n",
            "<re.Match object; span=(225, 226), match='4'>\n",
            "<re.Match object; span=(226, 227), match='5'>\n",
            "<re.Match object; span=(227, 228), match='6'>\n",
            "<re.Match object; span=(229, 230), match='0'>\n",
            "<re.Match object; span=(230, 231), match='1'>\n",
            "<re.Match object; span=(231, 232), match='1'>\n",
            "<re.Match object; span=(232, 233), match='3'>\n",
            "<re.Match object; span=(233, 234), match='4'>\n",
            "<re.Match object; span=(234, 235), match='5'>\n",
            "<re.Match object; span=(235, 236), match='6'>\n",
            "<re.Match object; span=(236, 237), match='7'>\n",
            "<re.Match object; span=(237, 238), match='8'>\n",
            "<re.Match object; span=(238, 239), match='5'>\n",
            "<re.Match object; span=(239, 240), match='6'>\n",
            "<re.Match object; span=(241, 242), match='c'>\n",
            "<re.Match object; span=(242, 243), match='o'>\n",
            "<re.Match object; span=(243, 244), match='r'>\n",
            "<re.Match object; span=(244, 245), match='e'>\n",
            "<re.Match object; span=(245, 246), match='y'>\n",
            "<re.Match object; span=(246, 247), match='m'>\n",
            "<re.Match object; span=(247, 248), match='s'>\n",
            "<re.Match object; span=(249, 250), match='c'>\n",
            "<re.Match object; span=(250, 251), match='o'>\n",
            "<re.Match object; span=(251, 252), match='m'>\n",
            "<re.Match object; span=(253, 254), match='3'>\n",
            "<re.Match object; span=(254, 255), match='2'>\n",
            "<re.Match object; span=(255, 256), match='1'>\n",
            "<re.Match object; span=(257, 258), match='5'>\n",
            "<re.Match object; span=(258, 259), match='5'>\n",
            "<re.Match object; span=(259, 260), match='5'>\n",
            "<re.Match object; span=(261, 262), match='4'>\n",
            "<re.Match object; span=(262, 263), match='3'>\n",
            "<re.Match object; span=(263, 264), match='2'>\n",
            "<re.Match object; span=(264, 265), match='1'>\n",
            "<re.Match object; span=(266, 267), match='1'>\n",
            "<re.Match object; span=(267, 268), match='2'>\n",
            "<re.Match object; span=(268, 269), match='3'>\n",
            "<re.Match object; span=(270, 271), match='5'>\n",
            "<re.Match object; span=(271, 272), match='5'>\n",
            "<re.Match object; span=(272, 273), match='5'>\n",
            "<re.Match object; span=(274, 275), match='1'>\n",
            "<re.Match object; span=(275, 276), match='2'>\n",
            "<re.Match object; span=(276, 277), match='3'>\n",
            "<re.Match object; span=(277, 278), match='4'>\n",
            "<re.Match object; span=(279, 280), match='1'>\n",
            "<re.Match object; span=(280, 281), match='2'>\n",
            "<re.Match object; span=(281, 282), match='3'>\n",
            "<re.Match object; span=(283, 284), match='5'>\n",
            "<re.Match object; span=(284, 285), match='5'>\n",
            "<re.Match object; span=(285, 286), match='5'>\n",
            "<re.Match object; span=(287, 288), match='1'>\n",
            "<re.Match object; span=(288, 289), match='2'>\n",
            "<re.Match object; span=(289, 290), match='3'>\n",
            "<re.Match object; span=(290, 291), match='4'>\n",
            "<re.Match object; span=(292, 293), match='8'>\n",
            "<re.Match object; span=(293, 294), match='0'>\n",
            "<re.Match object; span=(294, 295), match='0'>\n",
            "<re.Match object; span=(296, 297), match='5'>\n",
            "<re.Match object; span=(297, 298), match='5'>\n",
            "<re.Match object; span=(298, 299), match='5'>\n",
            "<re.Match object; span=(300, 301), match='1'>\n",
            "<re.Match object; span=(301, 302), match='2'>\n",
            "<re.Match object; span=(302, 303), match='3'>\n",
            "<re.Match object; span=(303, 304), match='4'>\n",
            "<re.Match object; span=(305, 306), match='9'>\n",
            "<re.Match object; span=(306, 307), match='0'>\n",
            "<re.Match object; span=(307, 308), match='0'>\n",
            "<re.Match object; span=(309, 310), match='5'>\n",
            "<re.Match object; span=(310, 311), match='5'>\n",
            "<re.Match object; span=(311, 312), match='5'>\n",
            "<re.Match object; span=(313, 314), match='1'>\n",
            "<re.Match object; span=(314, 315), match='2'>\n",
            "<re.Match object; span=(315, 316), match='3'>\n",
            "<re.Match object; span=(316, 317), match='4'>\n",
            "<re.Match object; span=(318, 319), match='1'>\n",
            "<re.Match object; span=(319, 320), match='0'>\n",
            "<re.Match object; span=(320, 321), match='0'>\n",
            "<re.Match object; span=(321, 322), match='a'>\n",
            "<re.Match object; span=(322, 323), match='1'>\n",
            "<re.Match object; span=(323, 324), match='2'>\n",
            "<re.Match object; span=(324, 325), match='1'>\n",
            "<re.Match object; span=(325, 326), match='C'>\n",
            "<re.Match object; span=(326, 327), match='4'>\n",
            "<re.Match object; span=(327, 328), match='5'>\n",
            "<re.Match object; span=(328, 329), match='4'>\n",
            "<re.Match object; span=(329, 330), match='3'>\n",
            "<re.Match object; span=(331, 332), match='M'>\n",
            "<re.Match object; span=(332, 333), match='r'>\n",
            "<re.Match object; span=(335, 336), match='S'>\n",
            "<re.Match object; span=(336, 337), match='c'>\n",
            "<re.Match object; span=(337, 338), match='h'>\n",
            "<re.Match object; span=(338, 339), match='a'>\n",
            "<re.Match object; span=(339, 340), match='f'>\n",
            "<re.Match object; span=(340, 341), match='e'>\n",
            "<re.Match object; span=(341, 342), match='r'>\n",
            "<re.Match object; span=(343, 344), match='M'>\n",
            "<re.Match object; span=(344, 345), match='r'>\n",
            "<re.Match object; span=(346, 347), match='S'>\n",
            "<re.Match object; span=(347, 348), match='m'>\n",
            "<re.Match object; span=(348, 349), match='i'>\n",
            "<re.Match object; span=(349, 350), match='t'>\n",
            "<re.Match object; span=(350, 351), match='h'>\n",
            "<re.Match object; span=(352, 353), match='M'>\n",
            "<re.Match object; span=(353, 354), match='s'>\n",
            "<re.Match object; span=(355, 356), match='D'>\n",
            "<re.Match object; span=(356, 357), match='a'>\n",
            "<re.Match object; span=(357, 358), match='v'>\n",
            "<re.Match object; span=(358, 359), match='i'>\n",
            "<re.Match object; span=(359, 360), match='s'>\n",
            "<re.Match object; span=(361, 362), match='M'>\n",
            "<re.Match object; span=(362, 363), match='r'>\n",
            "<re.Match object; span=(363, 364), match='s'>\n",
            "<re.Match object; span=(366, 367), match='R'>\n",
            "<re.Match object; span=(367, 368), match='o'>\n",
            "<re.Match object; span=(368, 369), match='b'>\n",
            "<re.Match object; span=(369, 370), match='i'>\n",
            "<re.Match object; span=(370, 371), match='n'>\n",
            "<re.Match object; span=(371, 372), match='s'>\n",
            "<re.Match object; span=(372, 373), match='o'>\n",
            "<re.Match object; span=(373, 374), match='n'>\n",
            "<re.Match object; span=(375, 376), match='M'>\n",
            "<re.Match object; span=(376, 377), match='r'>\n",
            "<re.Match object; span=(379, 380), match='T'>\n"
          ]
        }
      ],
      "source": [
        "pattern = re.compile(r\"\\w\") #matches only lowercase, uppercase, digits, underscore\n",
        "matches = pattern.finditer(mytext)\n",
        "for match in matches:\n",
        "    print(match)"
      ]
    },
    {
      "cell_type": "code",
      "execution_count": 27,
      "metadata": {
        "ExecuteTime": {
          "end_time": "2023-12-15T12:50:55.445101Z",
          "start_time": "2023-12-15T12:50:55.433559Z"
        },
        "id": "EJ0CXDAL9ugW",
        "outputId": "f57bc970-9512-4aac-badd-b0d0b3f05b4b",
        "colab": {
          "base_uri": "https://localhost:8080/"
        }
      },
      "outputs": [
        {
          "output_type": "stream",
          "name": "stdout",
          "text": [
            "Start a sentence and then bring it to an end\n"
          ]
        }
      ],
      "source": [
        "print(sentence)"
      ]
    },
    {
      "cell_type": "code",
      "execution_count": 28,
      "metadata": {
        "ExecuteTime": {
          "end_time": "2023-12-15T12:51:01.295578Z",
          "start_time": "2023-12-15T12:51:01.288088Z"
        },
        "id": "qW4huYcr9ugW",
        "outputId": "167dfd85-a109-4fc3-8818-11e48f240682",
        "colab": {
          "base_uri": "https://localhost:8080/",
          "height": 36
        }
      },
      "outputs": [
        {
          "output_type": "execute_result",
          "data": {
            "text/plain": [
              "'Start a sentence and then bring it to an end'"
            ],
            "application/vnd.google.colaboratory.intrinsic+json": {
              "type": "string"
            }
          },
          "metadata": {},
          "execution_count": 28
        }
      ],
      "source": [
        "sentence"
      ]
    },
    {
      "cell_type": "code",
      "execution_count": 29,
      "metadata": {
        "ExecuteTime": {
          "end_time": "2023-12-29T09:15:25.785324Z",
          "start_time": "2023-12-29T09:15:25.776060Z"
        },
        "scrolled": true,
        "id": "KzA83B4g9ugW",
        "outputId": "2145745e-e79f-423c-e9b3-f0aacf2e104c",
        "colab": {
          "base_uri": "https://localhost:8080/"
        }
      },
      "outputs": [
        {
          "output_type": "stream",
          "name": "stdout",
          "text": [
            "<re.Match object; span=(38, 44), match='an end'>\n"
          ]
        }
      ],
      "source": [
        "pattern = re.compile(\"an end$\")   # if the word (an end) is at the end of the sentence ( string )\n",
        "matches = pattern.finditer(sentence)\n",
        "\n",
        "for match in matches:\n",
        "    print(match)"
      ]
    },
    {
      "cell_type": "code",
      "execution_count": 30,
      "metadata": {
        "ExecuteTime": {
          "end_time": "2023-12-29T09:16:17.749501Z",
          "start_time": "2023-12-29T09:16:17.741109Z"
        },
        "id": "RrwV99mP9ugX"
      },
      "outputs": [],
      "source": [
        "pattern = re.compile(\"Ahmed$\")   # if the word (an end) is at the end of the sentence ( string )\n",
        "matches = pattern.finditer(sentence)\n",
        "\n",
        "for match in matches:\n",
        "    print(match)"
      ]
    },
    {
      "cell_type": "code",
      "execution_count": 31,
      "metadata": {
        "ExecuteTime": {
          "end_time": "2021-12-11T17:02:21.562290Z",
          "start_time": "2021-12-11T17:02:21.545293Z"
        },
        "id": "2KOcHbEz9ugX",
        "outputId": "8ac6f3fa-dfc7-4e87-edb9-c082ef7bfbf0",
        "colab": {
          "base_uri": "https://localhost:8080/"
        }
      },
      "outputs": [
        {
          "output_type": "stream",
          "name": "stdout",
          "text": [
            "Start a sentence and then bring it to an end\n"
          ]
        }
      ],
      "source": [
        "print(sentence)"
      ]
    },
    {
      "cell_type": "code",
      "execution_count": 32,
      "metadata": {
        "ExecuteTime": {
          "end_time": "2023-12-29T09:15:38.364069Z",
          "start_time": "2023-12-29T09:15:38.354924Z"
        },
        "id": "KST1_M3X9ugX",
        "outputId": "b0954f56-2132-4ae5-8aa7-7d85ad785584",
        "colab": {
          "base_uri": "https://localhost:8080/"
        }
      },
      "outputs": [
        {
          "output_type": "stream",
          "name": "stdout",
          "text": [
            "<re.Match object; span=(54, 57), match='123'>\n",
            "<re.Match object; span=(57, 60), match='456'>\n",
            "<re.Match object; span=(60, 63), match='789'>\n",
            "<re.Match object; span=(63, 66), match='010'>\n",
            "<re.Match object; span=(169, 172), match='010'>\n",
            "<re.Match object; span=(172, 175), match='923'>\n",
            "<re.Match object; span=(175, 178), match='293'>\n",
            "<re.Match object; span=(181, 184), match='011'>\n",
            "<re.Match object; span=(184, 187), match='232'>\n",
            "<re.Match object; span=(187, 190), match='343'>\n",
            "<re.Match object; span=(193, 196), match='010'>\n",
            "<re.Match object; span=(196, 199), match='234'>\n",
            "<re.Match object; span=(199, 202), match='554'>\n",
            "<re.Match object; span=(205, 208), match='012'>\n",
            "<re.Match object; span=(208, 211), match='345'>\n",
            "<re.Match object; span=(211, 214), match='678'>\n",
            "<re.Match object; span=(217, 220), match='015'>\n",
            "<re.Match object; span=(220, 223), match='345'>\n",
            "<re.Match object; span=(223, 226), match='674'>\n",
            "<re.Match object; span=(229, 232), match='011'>\n",
            "<re.Match object; span=(232, 235), match='345'>\n",
            "<re.Match object; span=(235, 238), match='678'>\n",
            "<re.Match object; span=(253, 256), match='321'>\n",
            "<re.Match object; span=(257, 260), match='555'>\n",
            "<re.Match object; span=(261, 264), match='432'>\n",
            "<re.Match object; span=(266, 269), match='123'>\n",
            "<re.Match object; span=(270, 273), match='555'>\n",
            "<re.Match object; span=(274, 277), match='123'>\n",
            "<re.Match object; span=(279, 282), match='123'>\n",
            "<re.Match object; span=(283, 286), match='555'>\n",
            "<re.Match object; span=(287, 290), match='123'>\n",
            "<re.Match object; span=(292, 295), match='800'>\n",
            "<re.Match object; span=(296, 299), match='555'>\n",
            "<re.Match object; span=(300, 303), match='123'>\n",
            "<re.Match object; span=(305, 308), match='900'>\n",
            "<re.Match object; span=(309, 312), match='555'>\n",
            "<re.Match object; span=(313, 316), match='123'>\n",
            "<re.Match object; span=(318, 321), match='100'>\n",
            "<re.Match object; span=(322, 325), match='121'>\n",
            "<re.Match object; span=(326, 329), match='454'>\n"
          ]
        }
      ],
      "source": [
        "#match three numbers\n",
        "pattern = re.compile(\"\\d\\d\\d\")\n",
        "\n",
        "matches = pattern.finditer(mytext)\n",
        "for match in matches:\n",
        "    print(match)"
      ]
    },
    {
      "cell_type": "code",
      "execution_count": 33,
      "metadata": {
        "ExecuteTime": {
          "end_time": "2023-12-29T09:17:39.346738Z",
          "start_time": "2023-12-29T09:17:39.338212Z"
        },
        "id": "Nj9N-Sqd9ugX",
        "outputId": "5492835b-596f-4b65-8ee8-5cc9645e3f7c",
        "colab": {
          "base_uri": "https://localhost:8080/"
        }
      },
      "outputs": [
        {
          "output_type": "stream",
          "name": "stdout",
          "text": [
            "<re.Match object; span=(54, 66), match='123456789010'>\n",
            "<re.Match object; span=(253, 265), match='321-555-4321'>\n",
            "<re.Match object; span=(266, 278), match='123.555.1234'>\n",
            "<re.Match object; span=(279, 291), match='123*555*1234'>\n",
            "<re.Match object; span=(292, 304), match='800-555-1234'>\n",
            "<re.Match object; span=(305, 317), match='900-555-1234'>\n",
            "<re.Match object; span=(318, 330), match='100a121C4543'>\n"
          ]
        }
      ],
      "source": [
        "pattern = re.compile(r\"\\d\\d\\d.\\d\\d\\d.\\d\\d\\d\\d\")\n",
        "matches = pattern.finditer(mytext)\n",
        "for match in matches:\n",
        "    print(match)"
      ]
    },
    {
      "cell_type": "code",
      "execution_count": 34,
      "metadata": {
        "ExecuteTime": {
          "end_time": "2023-12-29T09:18:36.750836Z",
          "start_time": "2023-12-29T09:18:36.737564Z"
        },
        "id": "rjgNGITW9ugX",
        "outputId": "3dad9551-4435-4d31-a42c-21b64a4237d9",
        "colab": {
          "base_uri": "https://localhost:8080/"
        }
      },
      "outputs": [
        {
          "output_type": "stream",
          "name": "stdout",
          "text": [
            "<re.Match object; span=(253, 265), match='321-555-4321'>\n",
            "<re.Match object; span=(266, 278), match='123.555.1234'>\n",
            "<re.Match object; span=(292, 304), match='800-555-1234'>\n",
            "<re.Match object; span=(305, 317), match='900-555-1234'>\n"
          ]
        }
      ],
      "source": [
        "#character set\n",
        "pattern = re.compile(\"\\d\\d\\d[-.]\\d\\d\\d[-.]\\d\\d\\d\\d\")\n",
        "matches = pattern.finditer(mytext)\n",
        "for match in matches:\n",
        "    print(match)"
      ]
    },
    {
      "cell_type": "code",
      "execution_count": 35,
      "metadata": {
        "ExecuteTime": {
          "end_time": "2023-12-29T09:19:06.866381Z",
          "start_time": "2023-12-29T09:19:06.857483Z"
        },
        "id": "fGSi2h_49ugX",
        "outputId": "97c6a597-9c56-4800-ba0a-d9f951c2b388",
        "colab": {
          "base_uri": "https://localhost:8080/"
        }
      },
      "outputs": [
        {
          "output_type": "stream",
          "name": "stdout",
          "text": [
            "<re.Match object; span=(292, 304), match='800-555-1234'>\n",
            "<re.Match object; span=(305, 317), match='900-555-1234'>\n"
          ]
        }
      ],
      "source": [
        "#character set\n",
        "pattern = re.compile(r\"[89]00[-.]\\d\\d\\d[-.]\\d\\d\\d\\d\")\n",
        "matches = pattern.finditer(mytext)\n",
        "for match in matches:\n",
        "    print(match)"
      ]
    },
    {
      "cell_type": "code",
      "execution_count": 36,
      "metadata": {
        "ExecuteTime": {
          "end_time": "2023-12-29T09:19:24.167077Z",
          "start_time": "2023-12-29T09:19:24.158903Z"
        },
        "id": "rypC2IXk9ugb",
        "outputId": "6afc98c1-6d65-4d99-ebba-a71b2301090d",
        "colab": {
          "base_uri": "https://localhost:8080/"
        }
      },
      "outputs": [
        {
          "output_type": "stream",
          "name": "stdout",
          "text": [
            "<re.Match object; span=(253, 265), match='321-555-4321'>\n",
            "<re.Match object; span=(266, 278), match='123.555.1234'>\n",
            "<re.Match object; span=(279, 291), match='123*555*1234'>\n",
            "<re.Match object; span=(292, 304), match='800-555-1234'>\n",
            "<re.Match object; span=(305, 317), match='900-555-1234'>\n"
          ]
        }
      ],
      "source": [
        "#character set\n",
        "pattern = re.compile(r\"\\d\\d\\d[-.*]555[-.*]\\d\\d\\d\\d\")\n",
        "matches = pattern.finditer(mytext)\n",
        "for match in matches:\n",
        "    print(match)"
      ]
    },
    {
      "cell_type": "code",
      "execution_count": 37,
      "metadata": {
        "ExecuteTime": {
          "end_time": "2023-12-29T09:19:34.131853Z",
          "start_time": "2023-12-29T09:19:34.122631Z"
        },
        "id": "vhsLPMZQ9ugb",
        "outputId": "07a5945c-3b8a-4a61-f04b-4d2263725bd1",
        "colab": {
          "base_uri": "https://localhost:8080/"
        }
      },
      "outputs": [
        {
          "output_type": "stream",
          "name": "stdout",
          "text": [
            "<re.Match object; span=(169, 180), match='01092329340'>\n",
            "<re.Match object; span=(193, 204), match='01023455411'>\n"
          ]
        }
      ],
      "source": [
        "#character set\n",
        "pattern = re.compile(r\"010\\d\\d\\d\\d\\d\\d\\d\\d\")\n",
        "matches = pattern.finditer(mytext)\n",
        "for match in matches:\n",
        "    print(match)"
      ]
    },
    {
      "cell_type": "code",
      "execution_count": 38,
      "metadata": {
        "ExecuteTime": {
          "end_time": "2023-12-29T09:19:38.946717Z",
          "start_time": "2023-12-29T09:19:38.929315Z"
        },
        "id": "rKrPXBw99ugb",
        "outputId": "87296f8f-1657-4815-92ba-1cbe66833d6e",
        "colab": {
          "base_uri": "https://localhost:8080/"
        }
      },
      "outputs": [
        {
          "output_type": "stream",
          "name": "stdout",
          "text": [
            "<re.Match object; span=(181, 192), match='01123234355'>\n",
            "<re.Match object; span=(229, 240), match='01134567856'>\n"
          ]
        }
      ],
      "source": [
        "#character set\n",
        "pattern = re.compile(r\"011\\d\\d\\d\\d\\d\\d\\d\\d\")\n",
        "matches = pattern.finditer(mytext)\n",
        "for match in matches:\n",
        "    print(match)"
      ]
    },
    {
      "cell_type": "code",
      "execution_count": 39,
      "metadata": {
        "ExecuteTime": {
          "end_time": "2023-12-29T09:19:42.311637Z",
          "start_time": "2023-12-29T09:19:42.300858Z"
        },
        "scrolled": true,
        "id": "qSqMWi0N9ugb",
        "outputId": "5a210db6-a326-4211-8bd8-cf0308d1d21c",
        "colab": {
          "base_uri": "https://localhost:8080/"
        }
      },
      "outputs": [
        {
          "output_type": "stream",
          "name": "stdout",
          "text": [
            "<re.Match object; span=(205, 216), match='01234567875'>\n"
          ]
        }
      ],
      "source": [
        "#character set\n",
        "pattern = re.compile(r\"012\\d\\d\\d\\d\\d\\d\\d\\d\")\n",
        "matches = pattern.finditer(mytext)\n",
        "for match in matches:\n",
        "    print(match)"
      ]
    },
    {
      "cell_type": "code",
      "execution_count": 40,
      "metadata": {
        "ExecuteTime": {
          "end_time": "2023-12-29T09:19:45.065242Z",
          "start_time": "2023-12-29T09:19:45.057236Z"
        },
        "id": "JSqYeumj9ugb",
        "outputId": "509e0d7a-b355-45b3-f6f8-ece0334532c2",
        "colab": {
          "base_uri": "https://localhost:8080/"
        }
      },
      "outputs": [
        {
          "output_type": "stream",
          "name": "stdout",
          "text": [
            "<re.Match object; span=(217, 228), match='01534567456'>\n"
          ]
        }
      ],
      "source": [
        "#character set\n",
        "pattern = re.compile(r\"015\\d\\d\\d\\d\\d\\d\\d\\d\")\n",
        "matches = pattern.finditer(mytext)\n",
        "for match in matches:\n",
        "    print(match)"
      ]
    },
    {
      "cell_type": "code",
      "execution_count": 41,
      "metadata": {
        "ExecuteTime": {
          "end_time": "2023-12-29T09:20:02.539377Z",
          "start_time": "2023-12-29T09:20:02.526660Z"
        },
        "id": "y7zjBS-C9ugb",
        "outputId": "5d9b01f8-92f1-4948-f592-6ca755e3b480",
        "colab": {
          "base_uri": "https://localhost:8080/"
        }
      },
      "outputs": [
        {
          "output_type": "execute_result",
          "data": {
            "text/plain": [
              "['01092329340', '01023455411']"
            ]
          },
          "metadata": {},
          "execution_count": 41
        }
      ],
      "source": [
        "pattern = re.compile(r\"010\\d\\d\\d\\d\\d\\d\\d\\d\")\n",
        "matches = pattern.finditer(mytext)\n",
        "\n",
        "vodafoneNumbers = [ ]\n",
        "for match in matches:\n",
        "    vodafoneNumbers.append(mytext[ match.span()[0]   : match.span()[1] ])\n",
        "vodafoneNumbers"
      ]
    },
    {
      "cell_type": "code",
      "execution_count": 42,
      "metadata": {
        "ExecuteTime": {
          "end_time": "2023-08-15T17:18:42.691862Z",
          "start_time": "2023-08-15T17:18:42.679181Z"
        },
        "id": "jwXmU8TF9ugb",
        "outputId": "468cb765-5209-48f2-d03e-cac489bb1503",
        "colab": {
          "base_uri": "https://localhost:8080/"
        }
      },
      "outputs": [
        {
          "output_type": "execute_result",
          "data": {
            "text/plain": [
              "['01123234355', '01134567856']"
            ]
          },
          "metadata": {},
          "execution_count": 42
        }
      ],
      "source": [
        "pattern = re.compile(r\"011\\d\\d\\d\\d\\d\\d\\d\\d\")\n",
        "matches = pattern.finditer(mytext)\n",
        "\n",
        "EtisisalatNumbers = [ ]\n",
        "for match in matches:\n",
        "    EtisisalatNumbers.append(mytext[match.span()[0]   : match.span()[1]])\n",
        "EtisisalatNumbers"
      ]
    },
    {
      "cell_type": "code",
      "execution_count": 43,
      "metadata": {
        "ExecuteTime": {
          "end_time": "2023-12-29T09:20:28.810064Z",
          "start_time": "2023-12-29T09:20:28.800019Z"
        },
        "id": "_NhDZIys9ugc",
        "outputId": "78276215-5b20-4116-b4f4-6ead70074be2",
        "colab": {
          "base_uri": "https://localhost:8080/"
        }
      },
      "outputs": [
        {
          "output_type": "stream",
          "name": "stdout",
          "text": [
            "<re.Match object; span=(54, 55), match='1'>\n",
            "<re.Match object; span=(55, 56), match='2'>\n",
            "<re.Match object; span=(56, 57), match='3'>\n",
            "<re.Match object; span=(57, 58), match='4'>\n",
            "<re.Match object; span=(58, 59), match='5'>\n",
            "<re.Match object; span=(64, 65), match='1'>\n",
            "<re.Match object; span=(170, 171), match='1'>\n",
            "<re.Match object; span=(173, 174), match='2'>\n",
            "<re.Match object; span=(174, 175), match='3'>\n",
            "<re.Match object; span=(175, 176), match='2'>\n",
            "<re.Match object; span=(177, 178), match='3'>\n",
            "<re.Match object; span=(178, 179), match='4'>\n",
            "<re.Match object; span=(182, 183), match='1'>\n",
            "<re.Match object; span=(183, 184), match='1'>\n",
            "<re.Match object; span=(184, 185), match='2'>\n",
            "<re.Match object; span=(185, 186), match='3'>\n",
            "<re.Match object; span=(186, 187), match='2'>\n",
            "<re.Match object; span=(187, 188), match='3'>\n",
            "<re.Match object; span=(188, 189), match='4'>\n",
            "<re.Match object; span=(189, 190), match='3'>\n",
            "<re.Match object; span=(190, 191), match='5'>\n",
            "<re.Match object; span=(191, 192), match='5'>\n",
            "<re.Match object; span=(194, 195), match='1'>\n",
            "<re.Match object; span=(196, 197), match='2'>\n",
            "<re.Match object; span=(197, 198), match='3'>\n",
            "<re.Match object; span=(198, 199), match='4'>\n",
            "<re.Match object; span=(199, 200), match='5'>\n",
            "<re.Match object; span=(200, 201), match='5'>\n",
            "<re.Match object; span=(201, 202), match='4'>\n",
            "<re.Match object; span=(202, 203), match='1'>\n",
            "<re.Match object; span=(203, 204), match='1'>\n",
            "<re.Match object; span=(206, 207), match='1'>\n",
            "<re.Match object; span=(207, 208), match='2'>\n",
            "<re.Match object; span=(208, 209), match='3'>\n",
            "<re.Match object; span=(209, 210), match='4'>\n",
            "<re.Match object; span=(210, 211), match='5'>\n",
            "<re.Match object; span=(215, 216), match='5'>\n",
            "<re.Match object; span=(218, 219), match='1'>\n",
            "<re.Match object; span=(219, 220), match='5'>\n",
            "<re.Match object; span=(220, 221), match='3'>\n",
            "<re.Match object; span=(221, 222), match='4'>\n",
            "<re.Match object; span=(222, 223), match='5'>\n",
            "<re.Match object; span=(225, 226), match='4'>\n",
            "<re.Match object; span=(226, 227), match='5'>\n",
            "<re.Match object; span=(230, 231), match='1'>\n",
            "<re.Match object; span=(231, 232), match='1'>\n",
            "<re.Match object; span=(232, 233), match='3'>\n",
            "<re.Match object; span=(233, 234), match='4'>\n",
            "<re.Match object; span=(234, 235), match='5'>\n",
            "<re.Match object; span=(238, 239), match='5'>\n",
            "<re.Match object; span=(253, 254), match='3'>\n",
            "<re.Match object; span=(254, 255), match='2'>\n",
            "<re.Match object; span=(255, 256), match='1'>\n",
            "<re.Match object; span=(257, 258), match='5'>\n",
            "<re.Match object; span=(258, 259), match='5'>\n",
            "<re.Match object; span=(259, 260), match='5'>\n",
            "<re.Match object; span=(261, 262), match='4'>\n",
            "<re.Match object; span=(262, 263), match='3'>\n",
            "<re.Match object; span=(263, 264), match='2'>\n",
            "<re.Match object; span=(264, 265), match='1'>\n",
            "<re.Match object; span=(266, 267), match='1'>\n",
            "<re.Match object; span=(267, 268), match='2'>\n",
            "<re.Match object; span=(268, 269), match='3'>\n",
            "<re.Match object; span=(270, 271), match='5'>\n",
            "<re.Match object; span=(271, 272), match='5'>\n",
            "<re.Match object; span=(272, 273), match='5'>\n",
            "<re.Match object; span=(274, 275), match='1'>\n",
            "<re.Match object; span=(275, 276), match='2'>\n",
            "<re.Match object; span=(276, 277), match='3'>\n",
            "<re.Match object; span=(277, 278), match='4'>\n",
            "<re.Match object; span=(279, 280), match='1'>\n",
            "<re.Match object; span=(280, 281), match='2'>\n",
            "<re.Match object; span=(281, 282), match='3'>\n",
            "<re.Match object; span=(283, 284), match='5'>\n",
            "<re.Match object; span=(284, 285), match='5'>\n",
            "<re.Match object; span=(285, 286), match='5'>\n",
            "<re.Match object; span=(287, 288), match='1'>\n",
            "<re.Match object; span=(288, 289), match='2'>\n",
            "<re.Match object; span=(289, 290), match='3'>\n",
            "<re.Match object; span=(290, 291), match='4'>\n",
            "<re.Match object; span=(296, 297), match='5'>\n",
            "<re.Match object; span=(297, 298), match='5'>\n",
            "<re.Match object; span=(298, 299), match='5'>\n",
            "<re.Match object; span=(300, 301), match='1'>\n",
            "<re.Match object; span=(301, 302), match='2'>\n",
            "<re.Match object; span=(302, 303), match='3'>\n",
            "<re.Match object; span=(303, 304), match='4'>\n",
            "<re.Match object; span=(309, 310), match='5'>\n",
            "<re.Match object; span=(310, 311), match='5'>\n",
            "<re.Match object; span=(311, 312), match='5'>\n",
            "<re.Match object; span=(313, 314), match='1'>\n",
            "<re.Match object; span=(314, 315), match='2'>\n",
            "<re.Match object; span=(315, 316), match='3'>\n",
            "<re.Match object; span=(316, 317), match='4'>\n",
            "<re.Match object; span=(318, 319), match='1'>\n",
            "<re.Match object; span=(322, 323), match='1'>\n",
            "<re.Match object; span=(323, 324), match='2'>\n",
            "<re.Match object; span=(324, 325), match='1'>\n",
            "<re.Match object; span=(326, 327), match='4'>\n",
            "<re.Match object; span=(327, 328), match='5'>\n",
            "<re.Match object; span=(328, 329), match='4'>\n",
            "<re.Match object; span=(329, 330), match='3'>\n"
          ]
        }
      ],
      "source": [
        "#character set\n",
        "pattern = re.compile(\"[1-5]\")\n",
        "matches = pattern.finditer(mytext)\n",
        "for match in matches:\n",
        "    print(match)"
      ]
    },
    {
      "cell_type": "code",
      "execution_count": 44,
      "metadata": {
        "ExecuteTime": {
          "end_time": "2023-12-29T09:20:52.604066Z",
          "start_time": "2023-12-29T09:20:52.590415Z"
        },
        "id": "yM0PUbht9ugc",
        "outputId": "e001269d-64d8-4641-db33-1f8191113ef6",
        "colab": {
          "base_uri": "https://localhost:8080/"
        }
      },
      "outputs": [
        {
          "output_type": "stream",
          "name": "stdout",
          "text": [
            "<re.Match object; span=(54, 55), match='1'>\n",
            "<re.Match object; span=(58, 59), match='5'>\n",
            "<re.Match object; span=(64, 65), match='1'>\n",
            "<re.Match object; span=(170, 171), match='1'>\n",
            "<re.Match object; span=(182, 183), match='1'>\n",
            "<re.Match object; span=(183, 184), match='1'>\n",
            "<re.Match object; span=(190, 191), match='5'>\n",
            "<re.Match object; span=(191, 192), match='5'>\n",
            "<re.Match object; span=(194, 195), match='1'>\n",
            "<re.Match object; span=(199, 200), match='5'>\n",
            "<re.Match object; span=(200, 201), match='5'>\n",
            "<re.Match object; span=(202, 203), match='1'>\n",
            "<re.Match object; span=(203, 204), match='1'>\n",
            "<re.Match object; span=(206, 207), match='1'>\n",
            "<re.Match object; span=(210, 211), match='5'>\n",
            "<re.Match object; span=(215, 216), match='5'>\n",
            "<re.Match object; span=(218, 219), match='1'>\n",
            "<re.Match object; span=(219, 220), match='5'>\n",
            "<re.Match object; span=(222, 223), match='5'>\n",
            "<re.Match object; span=(226, 227), match='5'>\n",
            "<re.Match object; span=(230, 231), match='1'>\n",
            "<re.Match object; span=(231, 232), match='1'>\n",
            "<re.Match object; span=(234, 235), match='5'>\n",
            "<re.Match object; span=(238, 239), match='5'>\n",
            "<re.Match object; span=(248, 249), match='-'>\n",
            "<re.Match object; span=(255, 256), match='1'>\n",
            "<re.Match object; span=(256, 257), match='-'>\n",
            "<re.Match object; span=(257, 258), match='5'>\n",
            "<re.Match object; span=(258, 259), match='5'>\n",
            "<re.Match object; span=(259, 260), match='5'>\n",
            "<re.Match object; span=(260, 261), match='-'>\n",
            "<re.Match object; span=(264, 265), match='1'>\n",
            "<re.Match object; span=(266, 267), match='1'>\n",
            "<re.Match object; span=(270, 271), match='5'>\n",
            "<re.Match object; span=(271, 272), match='5'>\n",
            "<re.Match object; span=(272, 273), match='5'>\n",
            "<re.Match object; span=(274, 275), match='1'>\n",
            "<re.Match object; span=(279, 280), match='1'>\n",
            "<re.Match object; span=(283, 284), match='5'>\n",
            "<re.Match object; span=(284, 285), match='5'>\n",
            "<re.Match object; span=(285, 286), match='5'>\n",
            "<re.Match object; span=(287, 288), match='1'>\n",
            "<re.Match object; span=(295, 296), match='-'>\n",
            "<re.Match object; span=(296, 297), match='5'>\n",
            "<re.Match object; span=(297, 298), match='5'>\n",
            "<re.Match object; span=(298, 299), match='5'>\n",
            "<re.Match object; span=(299, 300), match='-'>\n",
            "<re.Match object; span=(300, 301), match='1'>\n",
            "<re.Match object; span=(308, 309), match='-'>\n",
            "<re.Match object; span=(309, 310), match='5'>\n",
            "<re.Match object; span=(310, 311), match='5'>\n",
            "<re.Match object; span=(311, 312), match='5'>\n",
            "<re.Match object; span=(312, 313), match='-'>\n",
            "<re.Match object; span=(313, 314), match='1'>\n",
            "<re.Match object; span=(318, 319), match='1'>\n",
            "<re.Match object; span=(322, 323), match='1'>\n",
            "<re.Match object; span=(324, 325), match='1'>\n",
            "<re.Match object; span=(327, 328), match='5'>\n"
          ]
        }
      ],
      "source": [
        "#character set\n",
        "pattern = re.compile(r\"[15-]\")\n",
        "matches = pattern.finditer(mytext)\n",
        "for match in matches:\n",
        "    print(match)\n"
      ]
    },
    {
      "cell_type": "code",
      "execution_count": 45,
      "metadata": {
        "ExecuteTime": {
          "end_time": "2023-12-29T09:21:06.674925Z",
          "start_time": "2023-12-29T09:21:06.664594Z"
        },
        "scrolled": false,
        "id": "AHKyEtZX9ugc",
        "outputId": "cc0c91c0-a40d-4c77-8fa3-398dfd58f927",
        "colab": {
          "base_uri": "https://localhost:8080/"
        }
      },
      "outputs": [
        {
          "output_type": "stream",
          "name": "stdout",
          "text": [
            "<re.Match object; span=(54, 55), match='1'>\n",
            "<re.Match object; span=(55, 56), match='2'>\n",
            "<re.Match object; span=(56, 57), match='3'>\n",
            "<re.Match object; span=(57, 58), match='4'>\n",
            "<re.Match object; span=(58, 59), match='5'>\n",
            "<re.Match object; span=(64, 65), match='1'>\n",
            "<re.Match object; span=(170, 171), match='1'>\n",
            "<re.Match object; span=(173, 174), match='2'>\n",
            "<re.Match object; span=(174, 175), match='3'>\n",
            "<re.Match object; span=(175, 176), match='2'>\n",
            "<re.Match object; span=(177, 178), match='3'>\n",
            "<re.Match object; span=(178, 179), match='4'>\n",
            "<re.Match object; span=(182, 183), match='1'>\n",
            "<re.Match object; span=(183, 184), match='1'>\n",
            "<re.Match object; span=(184, 185), match='2'>\n",
            "<re.Match object; span=(185, 186), match='3'>\n",
            "<re.Match object; span=(186, 187), match='2'>\n",
            "<re.Match object; span=(187, 188), match='3'>\n",
            "<re.Match object; span=(188, 189), match='4'>\n",
            "<re.Match object; span=(189, 190), match='3'>\n",
            "<re.Match object; span=(190, 191), match='5'>\n",
            "<re.Match object; span=(191, 192), match='5'>\n",
            "<re.Match object; span=(194, 195), match='1'>\n",
            "<re.Match object; span=(196, 197), match='2'>\n",
            "<re.Match object; span=(197, 198), match='3'>\n",
            "<re.Match object; span=(198, 199), match='4'>\n",
            "<re.Match object; span=(199, 200), match='5'>\n",
            "<re.Match object; span=(200, 201), match='5'>\n",
            "<re.Match object; span=(201, 202), match='4'>\n",
            "<re.Match object; span=(202, 203), match='1'>\n",
            "<re.Match object; span=(203, 204), match='1'>\n",
            "<re.Match object; span=(206, 207), match='1'>\n",
            "<re.Match object; span=(207, 208), match='2'>\n",
            "<re.Match object; span=(208, 209), match='3'>\n",
            "<re.Match object; span=(209, 210), match='4'>\n",
            "<re.Match object; span=(210, 211), match='5'>\n",
            "<re.Match object; span=(215, 216), match='5'>\n",
            "<re.Match object; span=(218, 219), match='1'>\n",
            "<re.Match object; span=(219, 220), match='5'>\n",
            "<re.Match object; span=(220, 221), match='3'>\n",
            "<re.Match object; span=(221, 222), match='4'>\n",
            "<re.Match object; span=(222, 223), match='5'>\n",
            "<re.Match object; span=(225, 226), match='4'>\n",
            "<re.Match object; span=(226, 227), match='5'>\n",
            "<re.Match object; span=(230, 231), match='1'>\n",
            "<re.Match object; span=(231, 232), match='1'>\n",
            "<re.Match object; span=(232, 233), match='3'>\n",
            "<re.Match object; span=(233, 234), match='4'>\n",
            "<re.Match object; span=(234, 235), match='5'>\n",
            "<re.Match object; span=(238, 239), match='5'>\n",
            "<re.Match object; span=(248, 249), match='-'>\n",
            "<re.Match object; span=(253, 254), match='3'>\n",
            "<re.Match object; span=(254, 255), match='2'>\n",
            "<re.Match object; span=(255, 256), match='1'>\n",
            "<re.Match object; span=(256, 257), match='-'>\n",
            "<re.Match object; span=(257, 258), match='5'>\n",
            "<re.Match object; span=(258, 259), match='5'>\n",
            "<re.Match object; span=(259, 260), match='5'>\n",
            "<re.Match object; span=(260, 261), match='-'>\n",
            "<re.Match object; span=(261, 262), match='4'>\n",
            "<re.Match object; span=(262, 263), match='3'>\n",
            "<re.Match object; span=(263, 264), match='2'>\n",
            "<re.Match object; span=(264, 265), match='1'>\n",
            "<re.Match object; span=(266, 267), match='1'>\n",
            "<re.Match object; span=(267, 268), match='2'>\n",
            "<re.Match object; span=(268, 269), match='3'>\n",
            "<re.Match object; span=(270, 271), match='5'>\n",
            "<re.Match object; span=(271, 272), match='5'>\n",
            "<re.Match object; span=(272, 273), match='5'>\n",
            "<re.Match object; span=(274, 275), match='1'>\n",
            "<re.Match object; span=(275, 276), match='2'>\n",
            "<re.Match object; span=(276, 277), match='3'>\n",
            "<re.Match object; span=(277, 278), match='4'>\n",
            "<re.Match object; span=(279, 280), match='1'>\n",
            "<re.Match object; span=(280, 281), match='2'>\n",
            "<re.Match object; span=(281, 282), match='3'>\n",
            "<re.Match object; span=(283, 284), match='5'>\n",
            "<re.Match object; span=(284, 285), match='5'>\n",
            "<re.Match object; span=(285, 286), match='5'>\n",
            "<re.Match object; span=(287, 288), match='1'>\n",
            "<re.Match object; span=(288, 289), match='2'>\n",
            "<re.Match object; span=(289, 290), match='3'>\n",
            "<re.Match object; span=(290, 291), match='4'>\n",
            "<re.Match object; span=(295, 296), match='-'>\n",
            "<re.Match object; span=(296, 297), match='5'>\n",
            "<re.Match object; span=(297, 298), match='5'>\n",
            "<re.Match object; span=(298, 299), match='5'>\n",
            "<re.Match object; span=(299, 300), match='-'>\n",
            "<re.Match object; span=(300, 301), match='1'>\n",
            "<re.Match object; span=(301, 302), match='2'>\n",
            "<re.Match object; span=(302, 303), match='3'>\n",
            "<re.Match object; span=(303, 304), match='4'>\n",
            "<re.Match object; span=(308, 309), match='-'>\n",
            "<re.Match object; span=(309, 310), match='5'>\n",
            "<re.Match object; span=(310, 311), match='5'>\n",
            "<re.Match object; span=(311, 312), match='5'>\n",
            "<re.Match object; span=(312, 313), match='-'>\n",
            "<re.Match object; span=(313, 314), match='1'>\n",
            "<re.Match object; span=(314, 315), match='2'>\n",
            "<re.Match object; span=(315, 316), match='3'>\n",
            "<re.Match object; span=(316, 317), match='4'>\n",
            "<re.Match object; span=(318, 319), match='1'>\n",
            "<re.Match object; span=(322, 323), match='1'>\n",
            "<re.Match object; span=(323, 324), match='2'>\n",
            "<re.Match object; span=(324, 325), match='1'>\n",
            "<re.Match object; span=(326, 327), match='4'>\n",
            "<re.Match object; span=(327, 328), match='5'>\n",
            "<re.Match object; span=(328, 329), match='4'>\n",
            "<re.Match object; span=(329, 330), match='3'>\n"
          ]
        }
      ],
      "source": [
        "pattern = re.compile(r\"[1-5-]\")\n",
        "matches = pattern.finditer(mytext)\n",
        "for match in matches:\n",
        "    print(match)"
      ]
    },
    {
      "cell_type": "code",
      "execution_count": 46,
      "metadata": {
        "ExecuteTime": {
          "end_time": "2023-12-29T09:21:22.252730Z",
          "start_time": "2023-12-29T09:21:22.243286Z"
        },
        "id": "50WynNnW9ugc",
        "outputId": "7e82ad21-a09a-411b-f9c8-c659f1461a32",
        "colab": {
          "base_uri": "https://localhost:8080/"
        }
      },
      "outputs": [
        {
          "output_type": "stream",
          "name": "stdout",
          "text": [
            "<re.Match object; span=(0, 1), match='a'>\n",
            "<re.Match object; span=(25, 26), match='z'>\n",
            "<re.Match object; span=(68, 69), match='a'>\n",
            "<re.Match object; span=(71, 72), match='a'>\n",
            "<re.Match object; span=(73, 74), match='a'>\n",
            "<re.Match object; span=(78, 79), match='a'>\n",
            "<re.Match object; span=(81, 82), match='a'>\n",
            "<re.Match object; span=(83, 84), match='a'>\n",
            "<re.Match object; span=(105, 106), match='a'>\n",
            "<re.Match object; span=(140, 141), match='a'>\n",
            "<re.Match object; span=(145, 146), match='a'>\n",
            "<re.Match object; span=(149, 150), match='a'>\n",
            "<re.Match object; span=(154, 155), match='a'>\n",
            "<re.Match object; span=(158, 159), match='a'>\n",
            "<re.Match object; span=(162, 163), match='a'>\n",
            "<re.Match object; span=(166, 167), match='a'>\n",
            "<re.Match object; span=(248, 249), match='-'>\n",
            "<re.Match object; span=(256, 257), match='-'>\n",
            "<re.Match object; span=(260, 261), match='-'>\n",
            "<re.Match object; span=(295, 296), match='-'>\n",
            "<re.Match object; span=(299, 300), match='-'>\n",
            "<re.Match object; span=(308, 309), match='-'>\n",
            "<re.Match object; span=(312, 313), match='-'>\n",
            "<re.Match object; span=(321, 322), match='a'>\n",
            "<re.Match object; span=(338, 339), match='a'>\n",
            "<re.Match object; span=(356, 357), match='a'>\n"
          ]
        }
      ],
      "source": [
        "#character set\n",
        "pattern = re.compile(r\"[az-]\")\n",
        "matches = pattern.finditer(mytext)\n",
        "for match in matches:\n",
        "    print(match)"
      ]
    },
    {
      "cell_type": "code",
      "execution_count": 47,
      "metadata": {
        "ExecuteTime": {
          "end_time": "2023-12-29T09:21:29.113423Z",
          "start_time": "2023-12-29T09:21:29.103623Z"
        },
        "scrolled": false,
        "id": "OxR_dMvG9ugc",
        "outputId": "52421902-7e7a-4b8b-fe2a-6a9839bd45a6",
        "colab": {
          "base_uri": "https://localhost:8080/"
        }
      },
      "outputs": [
        {
          "output_type": "stream",
          "name": "stdout",
          "text": [
            "<re.Match object; span=(0, 1), match='a'>\n",
            "<re.Match object; span=(1, 2), match='b'>\n",
            "<re.Match object; span=(2, 3), match='c'>\n",
            "<re.Match object; span=(3, 4), match='d'>\n",
            "<re.Match object; span=(4, 5), match='e'>\n",
            "<re.Match object; span=(5, 6), match='f'>\n",
            "<re.Match object; span=(6, 7), match='g'>\n",
            "<re.Match object; span=(7, 8), match='h'>\n",
            "<re.Match object; span=(8, 9), match='i'>\n",
            "<re.Match object; span=(9, 10), match='j'>\n",
            "<re.Match object; span=(10, 11), match='k'>\n",
            "<re.Match object; span=(11, 12), match='l'>\n",
            "<re.Match object; span=(12, 13), match='m'>\n",
            "<re.Match object; span=(13, 14), match='n'>\n",
            "<re.Match object; span=(14, 15), match='o'>\n",
            "<re.Match object; span=(15, 16), match='p'>\n",
            "<re.Match object; span=(16, 17), match='q'>\n",
            "<re.Match object; span=(17, 18), match='u'>\n",
            "<re.Match object; span=(18, 19), match='r'>\n",
            "<re.Match object; span=(19, 20), match='t'>\n",
            "<re.Match object; span=(20, 21), match='u'>\n",
            "<re.Match object; span=(21, 22), match='v'>\n",
            "<re.Match object; span=(22, 23), match='w'>\n",
            "<re.Match object; span=(23, 24), match='x'>\n",
            "<re.Match object; span=(24, 25), match='y'>\n",
            "<re.Match object; span=(25, 26), match='z'>\n",
            "<re.Match object; span=(68, 69), match='a'>\n",
            "<re.Match object; span=(71, 72), match='a'>\n",
            "<re.Match object; span=(73, 74), match='a'>\n",
            "<re.Match object; span=(76, 77), match='e'>\n",
            "<re.Match object; span=(77, 78), match='t'>\n",
            "<re.Match object; span=(78, 79), match='a'>\n",
            "<re.Match object; span=(80, 81), match='h'>\n",
            "<re.Match object; span=(81, 82), match='a'>\n",
            "<re.Match object; span=(82, 83), match='r'>\n",
            "<re.Match object; span=(83, 84), match='a'>\n",
            "<re.Match object; span=(84, 85), match='c'>\n",
            "<re.Match object; span=(85, 86), match='t'>\n",
            "<re.Match object; span=(86, 87), match='e'>\n",
            "<re.Match object; span=(87, 88), match='r'>\n",
            "<re.Match object; span=(88, 89), match='s'>\n",
            "<re.Match object; span=(92, 93), match='e'>\n",
            "<re.Match object; span=(93, 94), match='e'>\n",
            "<re.Match object; span=(94, 95), match='d'>\n",
            "<re.Match object; span=(96, 97), match='t'>\n",
            "<re.Match object; span=(97, 98), match='o'>\n",
            "<re.Match object; span=(99, 100), match='b'>\n",
            "<re.Match object; span=(100, 101), match='e'>\n",
            "<re.Match object; span=(102, 103), match='e'>\n",
            "<re.Match object; span=(103, 104), match='s'>\n",
            "<re.Match object; span=(104, 105), match='c'>\n",
            "<re.Match object; span=(105, 106), match='a'>\n",
            "<re.Match object; span=(106, 107), match='p'>\n",
            "<re.Match object; span=(107, 108), match='e'>\n",
            "<re.Match object; span=(108, 109), match='d'>\n",
            "<re.Match object; span=(140, 141), match='a'>\n",
            "<re.Match object; span=(141, 142), match='b'>\n",
            "<re.Match object; span=(142, 143), match='c'>\n",
            "<re.Match object; span=(144, 145), match='c'>\n",
            "<re.Match object; span=(145, 146), match='a'>\n",
            "<re.Match object; span=(146, 147), match='t'>\n",
            "<re.Match object; span=(148, 149), match='m'>\n",
            "<re.Match object; span=(149, 150), match='a'>\n",
            "<re.Match object; span=(150, 151), match='t'>\n",
            "<re.Match object; span=(153, 154), match='h'>\n",
            "<re.Match object; span=(154, 155), match='a'>\n",
            "<re.Match object; span=(155, 156), match='t'>\n",
            "<re.Match object; span=(157, 158), match='b'>\n",
            "<re.Match object; span=(158, 159), match='a'>\n",
            "<re.Match object; span=(159, 160), match='t'>\n",
            "<re.Match object; span=(161, 162), match='f'>\n",
            "<re.Match object; span=(162, 163), match='a'>\n",
            "<re.Match object; span=(163, 164), match='t'>\n",
            "<re.Match object; span=(165, 166), match='s'>\n",
            "<re.Match object; span=(166, 167), match='a'>\n",
            "<re.Match object; span=(167, 168), match='t'>\n",
            "<re.Match object; span=(241, 242), match='c'>\n",
            "<re.Match object; span=(242, 243), match='o'>\n",
            "<re.Match object; span=(243, 244), match='r'>\n",
            "<re.Match object; span=(244, 245), match='e'>\n",
            "<re.Match object; span=(245, 246), match='y'>\n",
            "<re.Match object; span=(246, 247), match='m'>\n",
            "<re.Match object; span=(247, 248), match='s'>\n",
            "<re.Match object; span=(249, 250), match='c'>\n",
            "<re.Match object; span=(250, 251), match='o'>\n",
            "<re.Match object; span=(251, 252), match='m'>\n",
            "<re.Match object; span=(321, 322), match='a'>\n",
            "<re.Match object; span=(332, 333), match='r'>\n",
            "<re.Match object; span=(336, 337), match='c'>\n",
            "<re.Match object; span=(337, 338), match='h'>\n",
            "<re.Match object; span=(338, 339), match='a'>\n",
            "<re.Match object; span=(339, 340), match='f'>\n",
            "<re.Match object; span=(340, 341), match='e'>\n",
            "<re.Match object; span=(341, 342), match='r'>\n",
            "<re.Match object; span=(344, 345), match='r'>\n",
            "<re.Match object; span=(347, 348), match='m'>\n",
            "<re.Match object; span=(348, 349), match='i'>\n",
            "<re.Match object; span=(349, 350), match='t'>\n",
            "<re.Match object; span=(350, 351), match='h'>\n",
            "<re.Match object; span=(353, 354), match='s'>\n",
            "<re.Match object; span=(356, 357), match='a'>\n",
            "<re.Match object; span=(357, 358), match='v'>\n",
            "<re.Match object; span=(358, 359), match='i'>\n",
            "<re.Match object; span=(359, 360), match='s'>\n",
            "<re.Match object; span=(362, 363), match='r'>\n",
            "<re.Match object; span=(363, 364), match='s'>\n",
            "<re.Match object; span=(367, 368), match='o'>\n",
            "<re.Match object; span=(368, 369), match='b'>\n",
            "<re.Match object; span=(369, 370), match='i'>\n",
            "<re.Match object; span=(370, 371), match='n'>\n",
            "<re.Match object; span=(371, 372), match='s'>\n",
            "<re.Match object; span=(372, 373), match='o'>\n",
            "<re.Match object; span=(373, 374), match='n'>\n",
            "<re.Match object; span=(376, 377), match='r'>\n"
          ]
        }
      ],
      "source": [
        "#character set\n",
        "pattern = re.compile(\"[a-z]\")\n",
        "matches = pattern.finditer(mytext)\n",
        "for match in matches:\n",
        "    print(match)"
      ]
    },
    {
      "cell_type": "code",
      "execution_count": 48,
      "metadata": {
        "ExecuteTime": {
          "end_time": "2023-12-15T12:57:48.870275Z",
          "start_time": "2023-12-15T12:57:48.858057Z"
        },
        "scrolled": true,
        "id": "muzhR-zx9ugc",
        "outputId": "62a0e583-eab7-4f8c-d1b3-1d51796d19d2",
        "colab": {
          "base_uri": "https://localhost:8080/"
        }
      },
      "outputs": [
        {
          "output_type": "stream",
          "name": "stdout",
          "text": [
            "<re.Match object; span=(0, 1), match='a'>\n",
            "<re.Match object; span=(1, 2), match='b'>\n",
            "<re.Match object; span=(2, 3), match='c'>\n",
            "<re.Match object; span=(3, 4), match='d'>\n",
            "<re.Match object; span=(4, 5), match='e'>\n",
            "<re.Match object; span=(5, 6), match='f'>\n",
            "<re.Match object; span=(6, 7), match='g'>\n",
            "<re.Match object; span=(7, 8), match='h'>\n",
            "<re.Match object; span=(8, 9), match='i'>\n",
            "<re.Match object; span=(9, 10), match='j'>\n",
            "<re.Match object; span=(10, 11), match='k'>\n",
            "<re.Match object; span=(11, 12), match='l'>\n",
            "<re.Match object; span=(12, 13), match='m'>\n",
            "<re.Match object; span=(13, 14), match='n'>\n",
            "<re.Match object; span=(14, 15), match='o'>\n",
            "<re.Match object; span=(15, 16), match='p'>\n",
            "<re.Match object; span=(16, 17), match='q'>\n",
            "<re.Match object; span=(17, 18), match='u'>\n",
            "<re.Match object; span=(18, 19), match='r'>\n",
            "<re.Match object; span=(19, 20), match='t'>\n",
            "<re.Match object; span=(20, 21), match='u'>\n",
            "<re.Match object; span=(21, 22), match='v'>\n",
            "<re.Match object; span=(22, 23), match='w'>\n",
            "<re.Match object; span=(23, 24), match='x'>\n",
            "<re.Match object; span=(24, 25), match='y'>\n",
            "<re.Match object; span=(25, 26), match='z'>\n",
            "<re.Match object; span=(27, 28), match='A'>\n",
            "<re.Match object; span=(28, 29), match='B'>\n",
            "<re.Match object; span=(29, 30), match='C'>\n",
            "<re.Match object; span=(30, 31), match='D'>\n",
            "<re.Match object; span=(31, 32), match='E'>\n",
            "<re.Match object; span=(32, 33), match='F'>\n",
            "<re.Match object; span=(33, 34), match='G'>\n",
            "<re.Match object; span=(34, 35), match='H'>\n",
            "<re.Match object; span=(35, 36), match='I'>\n",
            "<re.Match object; span=(36, 37), match='J'>\n",
            "<re.Match object; span=(37, 38), match='K'>\n",
            "<re.Match object; span=(38, 39), match='L'>\n",
            "<re.Match object; span=(39, 40), match='M'>\n",
            "<re.Match object; span=(40, 41), match='N'>\n",
            "<re.Match object; span=(41, 42), match='O'>\n",
            "<re.Match object; span=(42, 43), match='P'>\n",
            "<re.Match object; span=(43, 44), match='Q'>\n",
            "<re.Match object; span=(44, 45), match='R'>\n",
            "<re.Match object; span=(45, 46), match='S'>\n",
            "<re.Match object; span=(46, 47), match='T'>\n",
            "<re.Match object; span=(47, 48), match='U'>\n",
            "<re.Match object; span=(48, 49), match='V'>\n",
            "<re.Match object; span=(49, 50), match='W'>\n",
            "<re.Match object; span=(50, 51), match='X'>\n",
            "<re.Match object; span=(51, 52), match='Y'>\n",
            "<re.Match object; span=(52, 53), match='Z'>\n",
            "<re.Match object; span=(67, 68), match='H'>\n",
            "<re.Match object; span=(68, 69), match='a'>\n",
            "<re.Match object; span=(70, 71), match='H'>\n",
            "<re.Match object; span=(71, 72), match='a'>\n",
            "<re.Match object; span=(72, 73), match='H'>\n",
            "<re.Match object; span=(73, 74), match='a'>\n",
            "<re.Match object; span=(75, 76), match='M'>\n",
            "<re.Match object; span=(76, 77), match='e'>\n",
            "<re.Match object; span=(77, 78), match='t'>\n",
            "<re.Match object; span=(78, 79), match='a'>\n",
            "<re.Match object; span=(79, 80), match='C'>\n",
            "<re.Match object; span=(80, 81), match='h'>\n",
            "<re.Match object; span=(81, 82), match='a'>\n",
            "<re.Match object; span=(82, 83), match='r'>\n",
            "<re.Match object; span=(83, 84), match='a'>\n",
            "<re.Match object; span=(84, 85), match='c'>\n",
            "<re.Match object; span=(85, 86), match='t'>\n",
            "<re.Match object; span=(86, 87), match='e'>\n",
            "<re.Match object; span=(87, 88), match='r'>\n",
            "<re.Match object; span=(88, 89), match='s'>\n",
            "<re.Match object; span=(91, 92), match='N'>\n",
            "<re.Match object; span=(92, 93), match='e'>\n",
            "<re.Match object; span=(93, 94), match='e'>\n",
            "<re.Match object; span=(94, 95), match='d'>\n",
            "<re.Match object; span=(96, 97), match='t'>\n",
            "<re.Match object; span=(97, 98), match='o'>\n",
            "<re.Match object; span=(99, 100), match='b'>\n",
            "<re.Match object; span=(100, 101), match='e'>\n",
            "<re.Match object; span=(102, 103), match='e'>\n",
            "<re.Match object; span=(103, 104), match='s'>\n",
            "<re.Match object; span=(104, 105), match='c'>\n",
            "<re.Match object; span=(105, 106), match='a'>\n",
            "<re.Match object; span=(106, 107), match='p'>\n",
            "<re.Match object; span=(107, 108), match='e'>\n",
            "<re.Match object; span=(108, 109), match='d'>\n",
            "<re.Match object; span=(114, 115), match='^'>\n",
            "<re.Match object; span=(128, 129), match='['>\n",
            "<re.Match object; span=(130, 131), match=']'>\n",
            "<re.Match object; span=(132, 133), match='\\\\'>\n",
            "<re.Match object; span=(140, 141), match='a'>\n",
            "<re.Match object; span=(141, 142), match='b'>\n",
            "<re.Match object; span=(142, 143), match='c'>\n",
            "<re.Match object; span=(144, 145), match='c'>\n",
            "<re.Match object; span=(145, 146), match='a'>\n",
            "<re.Match object; span=(146, 147), match='t'>\n",
            "<re.Match object; span=(148, 149), match='m'>\n",
            "<re.Match object; span=(149, 150), match='a'>\n",
            "<re.Match object; span=(150, 151), match='t'>\n",
            "<re.Match object; span=(153, 154), match='h'>\n",
            "<re.Match object; span=(154, 155), match='a'>\n",
            "<re.Match object; span=(155, 156), match='t'>\n",
            "<re.Match object; span=(157, 158), match='b'>\n",
            "<re.Match object; span=(158, 159), match='a'>\n",
            "<re.Match object; span=(159, 160), match='t'>\n",
            "<re.Match object; span=(161, 162), match='f'>\n",
            "<re.Match object; span=(162, 163), match='a'>\n",
            "<re.Match object; span=(163, 164), match='t'>\n",
            "<re.Match object; span=(165, 166), match='s'>\n",
            "<re.Match object; span=(166, 167), match='a'>\n",
            "<re.Match object; span=(167, 168), match='t'>\n",
            "<re.Match object; span=(241, 242), match='c'>\n",
            "<re.Match object; span=(242, 243), match='o'>\n",
            "<re.Match object; span=(243, 244), match='r'>\n",
            "<re.Match object; span=(244, 245), match='e'>\n",
            "<re.Match object; span=(245, 246), match='y'>\n",
            "<re.Match object; span=(246, 247), match='m'>\n",
            "<re.Match object; span=(247, 248), match='s'>\n",
            "<re.Match object; span=(249, 250), match='c'>\n",
            "<re.Match object; span=(250, 251), match='o'>\n",
            "<re.Match object; span=(251, 252), match='m'>\n",
            "<re.Match object; span=(321, 322), match='a'>\n",
            "<re.Match object; span=(325, 326), match='C'>\n",
            "<re.Match object; span=(331, 332), match='M'>\n",
            "<re.Match object; span=(332, 333), match='r'>\n",
            "<re.Match object; span=(335, 336), match='S'>\n",
            "<re.Match object; span=(336, 337), match='c'>\n",
            "<re.Match object; span=(337, 338), match='h'>\n",
            "<re.Match object; span=(338, 339), match='a'>\n",
            "<re.Match object; span=(339, 340), match='f'>\n",
            "<re.Match object; span=(340, 341), match='e'>\n",
            "<re.Match object; span=(341, 342), match='r'>\n",
            "<re.Match object; span=(343, 344), match='M'>\n",
            "<re.Match object; span=(344, 345), match='r'>\n",
            "<re.Match object; span=(346, 347), match='S'>\n",
            "<re.Match object; span=(347, 348), match='m'>\n",
            "<re.Match object; span=(348, 349), match='i'>\n",
            "<re.Match object; span=(349, 350), match='t'>\n",
            "<re.Match object; span=(350, 351), match='h'>\n",
            "<re.Match object; span=(352, 353), match='M'>\n",
            "<re.Match object; span=(353, 354), match='s'>\n",
            "<re.Match object; span=(355, 356), match='D'>\n",
            "<re.Match object; span=(356, 357), match='a'>\n",
            "<re.Match object; span=(357, 358), match='v'>\n",
            "<re.Match object; span=(358, 359), match='i'>\n",
            "<re.Match object; span=(359, 360), match='s'>\n",
            "<re.Match object; span=(361, 362), match='M'>\n",
            "<re.Match object; span=(362, 363), match='r'>\n",
            "<re.Match object; span=(363, 364), match='s'>\n",
            "<re.Match object; span=(366, 367), match='R'>\n",
            "<re.Match object; span=(367, 368), match='o'>\n",
            "<re.Match object; span=(368, 369), match='b'>\n",
            "<re.Match object; span=(369, 370), match='i'>\n",
            "<re.Match object; span=(370, 371), match='n'>\n",
            "<re.Match object; span=(371, 372), match='s'>\n",
            "<re.Match object; span=(372, 373), match='o'>\n",
            "<re.Match object; span=(373, 374), match='n'>\n",
            "<re.Match object; span=(375, 376), match='M'>\n",
            "<re.Match object; span=(376, 377), match='r'>\n",
            "<re.Match object; span=(379, 380), match='T'>\n"
          ]
        }
      ],
      "source": [
        "# from A to z ( small ) including special characters ( ascii code ) link: https://www.asciitable.com\n",
        "pattern = re.compile(r\"[A-z]\")\n",
        "matches = pattern.finditer(mytext)\n",
        "for match in matches:\n",
        "    print(match)"
      ]
    },
    {
      "cell_type": "code",
      "execution_count": null,
      "metadata": {
        "ExecuteTime": {
          "end_time": "2023-12-29T09:23:43.966649Z",
          "start_time": "2023-12-29T09:23:43.959464Z"
        },
        "id": "Hc75CVYc9ugc",
        "outputId": "01f4eb75-b1f3-40c0-8236-e9d00ca22566"
      },
      "outputs": [
        {
          "data": {
            "text/plain": [
              "(48, 65, 97)"
            ]
          },
          "execution_count": 50,
          "metadata": {},
          "output_type": "execute_result"
        }
      ],
      "source": [
        "ord(\"0\") , ord(\"A\") , ord(\"a\")"
      ]
    },
    {
      "cell_type": "code",
      "execution_count": 49,
      "metadata": {
        "ExecuteTime": {
          "end_time": "2023-12-29T09:24:23.387857Z",
          "start_time": "2023-12-29T09:24:23.375107Z"
        },
        "id": "4sDZjwj89ugd",
        "outputId": "6f5b5e34-149d-4735-f518-1a8933bbe0ad",
        "colab": {
          "base_uri": "https://localhost:8080/"
        }
      },
      "outputs": [
        {
          "output_type": "stream",
          "name": "stdout",
          "text": [
            "<re.Match object; span=(0, 1), match='a'>\n",
            "<re.Match object; span=(1, 2), match='b'>\n",
            "<re.Match object; span=(2, 3), match='c'>\n",
            "<re.Match object; span=(3, 4), match='d'>\n",
            "<re.Match object; span=(4, 5), match='e'>\n",
            "<re.Match object; span=(5, 6), match='f'>\n",
            "<re.Match object; span=(6, 7), match='g'>\n",
            "<re.Match object; span=(7, 8), match='h'>\n",
            "<re.Match object; span=(8, 9), match='i'>\n",
            "<re.Match object; span=(9, 10), match='j'>\n",
            "<re.Match object; span=(10, 11), match='k'>\n",
            "<re.Match object; span=(11, 12), match='l'>\n",
            "<re.Match object; span=(12, 13), match='m'>\n",
            "<re.Match object; span=(13, 14), match='n'>\n",
            "<re.Match object; span=(14, 15), match='o'>\n",
            "<re.Match object; span=(15, 16), match='p'>\n",
            "<re.Match object; span=(16, 17), match='q'>\n",
            "<re.Match object; span=(17, 18), match='u'>\n",
            "<re.Match object; span=(18, 19), match='r'>\n",
            "<re.Match object; span=(19, 20), match='t'>\n",
            "<re.Match object; span=(20, 21), match='u'>\n",
            "<re.Match object; span=(21, 22), match='v'>\n",
            "<re.Match object; span=(22, 23), match='w'>\n",
            "<re.Match object; span=(23, 24), match='x'>\n",
            "<re.Match object; span=(24, 25), match='y'>\n",
            "<re.Match object; span=(25, 26), match='z'>\n",
            "<re.Match object; span=(27, 28), match='A'>\n",
            "<re.Match object; span=(28, 29), match='B'>\n",
            "<re.Match object; span=(29, 30), match='C'>\n",
            "<re.Match object; span=(30, 31), match='D'>\n",
            "<re.Match object; span=(31, 32), match='E'>\n",
            "<re.Match object; span=(32, 33), match='F'>\n",
            "<re.Match object; span=(33, 34), match='G'>\n",
            "<re.Match object; span=(34, 35), match='H'>\n",
            "<re.Match object; span=(35, 36), match='I'>\n",
            "<re.Match object; span=(36, 37), match='J'>\n",
            "<re.Match object; span=(37, 38), match='K'>\n",
            "<re.Match object; span=(38, 39), match='L'>\n",
            "<re.Match object; span=(39, 40), match='M'>\n",
            "<re.Match object; span=(40, 41), match='N'>\n",
            "<re.Match object; span=(41, 42), match='O'>\n",
            "<re.Match object; span=(42, 43), match='P'>\n",
            "<re.Match object; span=(43, 44), match='Q'>\n",
            "<re.Match object; span=(44, 45), match='R'>\n",
            "<re.Match object; span=(45, 46), match='S'>\n",
            "<re.Match object; span=(46, 47), match='T'>\n",
            "<re.Match object; span=(47, 48), match='U'>\n",
            "<re.Match object; span=(48, 49), match='V'>\n",
            "<re.Match object; span=(49, 50), match='W'>\n",
            "<re.Match object; span=(50, 51), match='X'>\n",
            "<re.Match object; span=(51, 52), match='Y'>\n",
            "<re.Match object; span=(52, 53), match='Z'>\n",
            "<re.Match object; span=(67, 68), match='H'>\n",
            "<re.Match object; span=(68, 69), match='a'>\n",
            "<re.Match object; span=(70, 71), match='H'>\n",
            "<re.Match object; span=(71, 72), match='a'>\n",
            "<re.Match object; span=(72, 73), match='H'>\n",
            "<re.Match object; span=(73, 74), match='a'>\n",
            "<re.Match object; span=(75, 76), match='M'>\n",
            "<re.Match object; span=(76, 77), match='e'>\n",
            "<re.Match object; span=(77, 78), match='t'>\n",
            "<re.Match object; span=(78, 79), match='a'>\n",
            "<re.Match object; span=(79, 80), match='C'>\n",
            "<re.Match object; span=(80, 81), match='h'>\n",
            "<re.Match object; span=(81, 82), match='a'>\n",
            "<re.Match object; span=(82, 83), match='r'>\n",
            "<re.Match object; span=(83, 84), match='a'>\n",
            "<re.Match object; span=(84, 85), match='c'>\n",
            "<re.Match object; span=(85, 86), match='t'>\n",
            "<re.Match object; span=(86, 87), match='e'>\n",
            "<re.Match object; span=(87, 88), match='r'>\n",
            "<re.Match object; span=(88, 89), match='s'>\n",
            "<re.Match object; span=(91, 92), match='N'>\n",
            "<re.Match object; span=(92, 93), match='e'>\n",
            "<re.Match object; span=(93, 94), match='e'>\n",
            "<re.Match object; span=(94, 95), match='d'>\n",
            "<re.Match object; span=(96, 97), match='t'>\n",
            "<re.Match object; span=(97, 98), match='o'>\n",
            "<re.Match object; span=(99, 100), match='b'>\n",
            "<re.Match object; span=(100, 101), match='e'>\n",
            "<re.Match object; span=(102, 103), match='e'>\n",
            "<re.Match object; span=(103, 104), match='s'>\n",
            "<re.Match object; span=(104, 105), match='c'>\n",
            "<re.Match object; span=(105, 106), match='a'>\n",
            "<re.Match object; span=(106, 107), match='p'>\n",
            "<re.Match object; span=(107, 108), match='e'>\n",
            "<re.Match object; span=(108, 109), match='d'>\n",
            "<re.Match object; span=(140, 141), match='a'>\n",
            "<re.Match object; span=(141, 142), match='b'>\n",
            "<re.Match object; span=(142, 143), match='c'>\n",
            "<re.Match object; span=(144, 145), match='c'>\n",
            "<re.Match object; span=(145, 146), match='a'>\n",
            "<re.Match object; span=(146, 147), match='t'>\n",
            "<re.Match object; span=(148, 149), match='m'>\n",
            "<re.Match object; span=(149, 150), match='a'>\n",
            "<re.Match object; span=(150, 151), match='t'>\n",
            "<re.Match object; span=(153, 154), match='h'>\n",
            "<re.Match object; span=(154, 155), match='a'>\n",
            "<re.Match object; span=(155, 156), match='t'>\n",
            "<re.Match object; span=(157, 158), match='b'>\n",
            "<re.Match object; span=(158, 159), match='a'>\n",
            "<re.Match object; span=(159, 160), match='t'>\n",
            "<re.Match object; span=(161, 162), match='f'>\n",
            "<re.Match object; span=(162, 163), match='a'>\n",
            "<re.Match object; span=(163, 164), match='t'>\n",
            "<re.Match object; span=(165, 166), match='s'>\n",
            "<re.Match object; span=(166, 167), match='a'>\n",
            "<re.Match object; span=(167, 168), match='t'>\n",
            "<re.Match object; span=(241, 242), match='c'>\n",
            "<re.Match object; span=(242, 243), match='o'>\n",
            "<re.Match object; span=(243, 244), match='r'>\n",
            "<re.Match object; span=(244, 245), match='e'>\n",
            "<re.Match object; span=(245, 246), match='y'>\n",
            "<re.Match object; span=(246, 247), match='m'>\n",
            "<re.Match object; span=(247, 248), match='s'>\n",
            "<re.Match object; span=(249, 250), match='c'>\n",
            "<re.Match object; span=(250, 251), match='o'>\n",
            "<re.Match object; span=(251, 252), match='m'>\n",
            "<re.Match object; span=(321, 322), match='a'>\n",
            "<re.Match object; span=(325, 326), match='C'>\n",
            "<re.Match object; span=(331, 332), match='M'>\n",
            "<re.Match object; span=(332, 333), match='r'>\n",
            "<re.Match object; span=(335, 336), match='S'>\n",
            "<re.Match object; span=(336, 337), match='c'>\n",
            "<re.Match object; span=(337, 338), match='h'>\n",
            "<re.Match object; span=(338, 339), match='a'>\n",
            "<re.Match object; span=(339, 340), match='f'>\n",
            "<re.Match object; span=(340, 341), match='e'>\n",
            "<re.Match object; span=(341, 342), match='r'>\n",
            "<re.Match object; span=(343, 344), match='M'>\n",
            "<re.Match object; span=(344, 345), match='r'>\n",
            "<re.Match object; span=(346, 347), match='S'>\n",
            "<re.Match object; span=(347, 348), match='m'>\n",
            "<re.Match object; span=(348, 349), match='i'>\n",
            "<re.Match object; span=(349, 350), match='t'>\n",
            "<re.Match object; span=(350, 351), match='h'>\n",
            "<re.Match object; span=(352, 353), match='M'>\n",
            "<re.Match object; span=(353, 354), match='s'>\n",
            "<re.Match object; span=(355, 356), match='D'>\n",
            "<re.Match object; span=(356, 357), match='a'>\n",
            "<re.Match object; span=(357, 358), match='v'>\n",
            "<re.Match object; span=(358, 359), match='i'>\n",
            "<re.Match object; span=(359, 360), match='s'>\n",
            "<re.Match object; span=(361, 362), match='M'>\n",
            "<re.Match object; span=(362, 363), match='r'>\n",
            "<re.Match object; span=(363, 364), match='s'>\n",
            "<re.Match object; span=(366, 367), match='R'>\n",
            "<re.Match object; span=(367, 368), match='o'>\n",
            "<re.Match object; span=(368, 369), match='b'>\n",
            "<re.Match object; span=(369, 370), match='i'>\n",
            "<re.Match object; span=(370, 371), match='n'>\n",
            "<re.Match object; span=(371, 372), match='s'>\n",
            "<re.Match object; span=(372, 373), match='o'>\n",
            "<re.Match object; span=(373, 374), match='n'>\n",
            "<re.Match object; span=(375, 376), match='M'>\n",
            "<re.Match object; span=(376, 377), match='r'>\n",
            "<re.Match object; span=(379, 380), match='T'>\n"
          ]
        }
      ],
      "source": [
        "# From A-Z or a-z\n",
        "pattern = re.compile(r\"[a-zA-Z]\")\n",
        "matches = pattern.finditer(mytext)\n",
        "for match in matches:\n",
        "    print(match)"
      ]
    },
    {
      "cell_type": "code",
      "execution_count": 50,
      "metadata": {
        "ExecuteTime": {
          "end_time": "2023-12-29T09:25:04.695522Z",
          "start_time": "2023-12-29T09:25:04.682208Z"
        },
        "scrolled": false,
        "id": "xqV5VNtt9ugd",
        "outputId": "56be9f4b-3ab1-4149-ce0b-ec9ddb40f91d",
        "colab": {
          "base_uri": "https://localhost:8080/"
        }
      },
      "outputs": [
        {
          "output_type": "stream",
          "name": "stdout",
          "text": [
            "<re.Match object; span=(26, 27), match='\\n'>\n",
            "<re.Match object; span=(53, 54), match='\\n'>\n",
            "<re.Match object; span=(54, 55), match='1'>\n",
            "<re.Match object; span=(55, 56), match='2'>\n",
            "<re.Match object; span=(56, 57), match='3'>\n",
            "<re.Match object; span=(57, 58), match='4'>\n",
            "<re.Match object; span=(58, 59), match='5'>\n",
            "<re.Match object; span=(59, 60), match='6'>\n",
            "<re.Match object; span=(60, 61), match='7'>\n",
            "<re.Match object; span=(61, 62), match='8'>\n",
            "<re.Match object; span=(62, 63), match='9'>\n",
            "<re.Match object; span=(63, 64), match='0'>\n",
            "<re.Match object; span=(64, 65), match='1'>\n",
            "<re.Match object; span=(65, 66), match='0'>\n",
            "<re.Match object; span=(66, 67), match='\\n'>\n",
            "<re.Match object; span=(69, 70), match=' '>\n",
            "<re.Match object; span=(74, 75), match='\\n'>\n",
            "<re.Match object; span=(89, 90), match=' '>\n",
            "<re.Match object; span=(90, 91), match='('>\n",
            "<re.Match object; span=(95, 96), match=' '>\n",
            "<re.Match object; span=(98, 99), match=' '>\n",
            "<re.Match object; span=(101, 102), match=' '>\n",
            "<re.Match object; span=(109, 110), match=')'>\n",
            "<re.Match object; span=(110, 111), match=':'>\n",
            "<re.Match object; span=(111, 112), match='\\n'>\n",
            "<re.Match object; span=(112, 113), match='.'>\n",
            "<re.Match object; span=(113, 114), match=' '>\n",
            "<re.Match object; span=(114, 115), match='^'>\n",
            "<re.Match object; span=(115, 116), match=' '>\n",
            "<re.Match object; span=(116, 117), match='$'>\n",
            "<re.Match object; span=(117, 118), match=' '>\n",
            "<re.Match object; span=(118, 119), match='*'>\n",
            "<re.Match object; span=(119, 120), match=' '>\n",
            "<re.Match object; span=(120, 121), match='+'>\n",
            "<re.Match object; span=(121, 122), match=' '>\n",
            "<re.Match object; span=(122, 123), match='?'>\n",
            "<re.Match object; span=(123, 124), match=' '>\n",
            "<re.Match object; span=(124, 125), match='{'>\n",
            "<re.Match object; span=(125, 126), match=' '>\n",
            "<re.Match object; span=(126, 127), match='}'>\n",
            "<re.Match object; span=(127, 128), match=' '>\n",
            "<re.Match object; span=(128, 129), match='['>\n",
            "<re.Match object; span=(129, 130), match=' '>\n",
            "<re.Match object; span=(130, 131), match=']'>\n",
            "<re.Match object; span=(131, 132), match=' '>\n",
            "<re.Match object; span=(132, 133), match='\\\\'>\n",
            "<re.Match object; span=(133, 134), match=' '>\n",
            "<re.Match object; span=(134, 135), match='|'>\n",
            "<re.Match object; span=(135, 136), match=' '>\n",
            "<re.Match object; span=(136, 137), match='('>\n",
            "<re.Match object; span=(137, 138), match=' '>\n",
            "<re.Match object; span=(138, 139), match=')'>\n",
            "<re.Match object; span=(139, 140), match='\\n'>\n",
            "<re.Match object; span=(143, 144), match='\\n'>\n",
            "<re.Match object; span=(147, 148), match='\\n'>\n",
            "<re.Match object; span=(151, 152), match=' '>\n",
            "<re.Match object; span=(152, 153), match='\\n'>\n",
            "<re.Match object; span=(156, 157), match='\\n'>\n",
            "<re.Match object; span=(160, 161), match='\\n'>\n",
            "<re.Match object; span=(164, 165), match='\\n'>\n",
            "<re.Match object; span=(168, 169), match='\\n'>\n",
            "<re.Match object; span=(169, 170), match='0'>\n",
            "<re.Match object; span=(170, 171), match='1'>\n",
            "<re.Match object; span=(171, 172), match='0'>\n",
            "<re.Match object; span=(172, 173), match='9'>\n",
            "<re.Match object; span=(173, 174), match='2'>\n",
            "<re.Match object; span=(174, 175), match='3'>\n",
            "<re.Match object; span=(175, 176), match='2'>\n",
            "<re.Match object; span=(176, 177), match='9'>\n",
            "<re.Match object; span=(177, 178), match='3'>\n",
            "<re.Match object; span=(178, 179), match='4'>\n",
            "<re.Match object; span=(179, 180), match='0'>\n",
            "<re.Match object; span=(180, 181), match='\\n'>\n",
            "<re.Match object; span=(181, 182), match='0'>\n",
            "<re.Match object; span=(182, 183), match='1'>\n",
            "<re.Match object; span=(183, 184), match='1'>\n",
            "<re.Match object; span=(184, 185), match='2'>\n",
            "<re.Match object; span=(185, 186), match='3'>\n",
            "<re.Match object; span=(186, 187), match='2'>\n",
            "<re.Match object; span=(187, 188), match='3'>\n",
            "<re.Match object; span=(188, 189), match='4'>\n",
            "<re.Match object; span=(189, 190), match='3'>\n",
            "<re.Match object; span=(190, 191), match='5'>\n",
            "<re.Match object; span=(191, 192), match='5'>\n",
            "<re.Match object; span=(192, 193), match='\\n'>\n",
            "<re.Match object; span=(193, 194), match='0'>\n",
            "<re.Match object; span=(194, 195), match='1'>\n",
            "<re.Match object; span=(195, 196), match='0'>\n",
            "<re.Match object; span=(196, 197), match='2'>\n",
            "<re.Match object; span=(197, 198), match='3'>\n",
            "<re.Match object; span=(198, 199), match='4'>\n",
            "<re.Match object; span=(199, 200), match='5'>\n",
            "<re.Match object; span=(200, 201), match='5'>\n",
            "<re.Match object; span=(201, 202), match='4'>\n",
            "<re.Match object; span=(202, 203), match='1'>\n",
            "<re.Match object; span=(203, 204), match='1'>\n",
            "<re.Match object; span=(204, 205), match='\\n'>\n",
            "<re.Match object; span=(205, 206), match='0'>\n",
            "<re.Match object; span=(206, 207), match='1'>\n",
            "<re.Match object; span=(207, 208), match='2'>\n",
            "<re.Match object; span=(208, 209), match='3'>\n",
            "<re.Match object; span=(209, 210), match='4'>\n",
            "<re.Match object; span=(210, 211), match='5'>\n",
            "<re.Match object; span=(211, 212), match='6'>\n",
            "<re.Match object; span=(212, 213), match='7'>\n",
            "<re.Match object; span=(213, 214), match='8'>\n",
            "<re.Match object; span=(214, 215), match='7'>\n",
            "<re.Match object; span=(215, 216), match='5'>\n",
            "<re.Match object; span=(216, 217), match='\\n'>\n",
            "<re.Match object; span=(217, 218), match='0'>\n",
            "<re.Match object; span=(218, 219), match='1'>\n",
            "<re.Match object; span=(219, 220), match='5'>\n",
            "<re.Match object; span=(220, 221), match='3'>\n",
            "<re.Match object; span=(221, 222), match='4'>\n",
            "<re.Match object; span=(222, 223), match='5'>\n",
            "<re.Match object; span=(223, 224), match='6'>\n",
            "<re.Match object; span=(224, 225), match='7'>\n",
            "<re.Match object; span=(225, 226), match='4'>\n",
            "<re.Match object; span=(226, 227), match='5'>\n",
            "<re.Match object; span=(227, 228), match='6'>\n",
            "<re.Match object; span=(228, 229), match='\\n'>\n",
            "<re.Match object; span=(229, 230), match='0'>\n",
            "<re.Match object; span=(230, 231), match='1'>\n",
            "<re.Match object; span=(231, 232), match='1'>\n",
            "<re.Match object; span=(232, 233), match='3'>\n",
            "<re.Match object; span=(233, 234), match='4'>\n",
            "<re.Match object; span=(234, 235), match='5'>\n",
            "<re.Match object; span=(235, 236), match='6'>\n",
            "<re.Match object; span=(236, 237), match='7'>\n",
            "<re.Match object; span=(237, 238), match='8'>\n",
            "<re.Match object; span=(238, 239), match='5'>\n",
            "<re.Match object; span=(239, 240), match='6'>\n",
            "<re.Match object; span=(240, 241), match='\\n'>\n",
            "<re.Match object; span=(248, 249), match='-'>\n",
            "<re.Match object; span=(252, 253), match='\\n'>\n",
            "<re.Match object; span=(253, 254), match='3'>\n",
            "<re.Match object; span=(254, 255), match='2'>\n",
            "<re.Match object; span=(255, 256), match='1'>\n",
            "<re.Match object; span=(256, 257), match='-'>\n",
            "<re.Match object; span=(257, 258), match='5'>\n",
            "<re.Match object; span=(258, 259), match='5'>\n",
            "<re.Match object; span=(259, 260), match='5'>\n",
            "<re.Match object; span=(260, 261), match='-'>\n",
            "<re.Match object; span=(261, 262), match='4'>\n",
            "<re.Match object; span=(262, 263), match='3'>\n",
            "<re.Match object; span=(263, 264), match='2'>\n",
            "<re.Match object; span=(264, 265), match='1'>\n",
            "<re.Match object; span=(265, 266), match='\\n'>\n",
            "<re.Match object; span=(266, 267), match='1'>\n",
            "<re.Match object; span=(267, 268), match='2'>\n",
            "<re.Match object; span=(268, 269), match='3'>\n",
            "<re.Match object; span=(269, 270), match='.'>\n",
            "<re.Match object; span=(270, 271), match='5'>\n",
            "<re.Match object; span=(271, 272), match='5'>\n",
            "<re.Match object; span=(272, 273), match='5'>\n",
            "<re.Match object; span=(273, 274), match='.'>\n",
            "<re.Match object; span=(274, 275), match='1'>\n",
            "<re.Match object; span=(275, 276), match='2'>\n",
            "<re.Match object; span=(276, 277), match='3'>\n",
            "<re.Match object; span=(277, 278), match='4'>\n",
            "<re.Match object; span=(278, 279), match='\\n'>\n",
            "<re.Match object; span=(279, 280), match='1'>\n",
            "<re.Match object; span=(280, 281), match='2'>\n",
            "<re.Match object; span=(281, 282), match='3'>\n",
            "<re.Match object; span=(282, 283), match='*'>\n",
            "<re.Match object; span=(283, 284), match='5'>\n",
            "<re.Match object; span=(284, 285), match='5'>\n",
            "<re.Match object; span=(285, 286), match='5'>\n",
            "<re.Match object; span=(286, 287), match='*'>\n",
            "<re.Match object; span=(287, 288), match='1'>\n",
            "<re.Match object; span=(288, 289), match='2'>\n",
            "<re.Match object; span=(289, 290), match='3'>\n",
            "<re.Match object; span=(290, 291), match='4'>\n",
            "<re.Match object; span=(291, 292), match='\\n'>\n",
            "<re.Match object; span=(292, 293), match='8'>\n",
            "<re.Match object; span=(293, 294), match='0'>\n",
            "<re.Match object; span=(294, 295), match='0'>\n",
            "<re.Match object; span=(295, 296), match='-'>\n",
            "<re.Match object; span=(296, 297), match='5'>\n",
            "<re.Match object; span=(297, 298), match='5'>\n",
            "<re.Match object; span=(298, 299), match='5'>\n",
            "<re.Match object; span=(299, 300), match='-'>\n",
            "<re.Match object; span=(300, 301), match='1'>\n",
            "<re.Match object; span=(301, 302), match='2'>\n",
            "<re.Match object; span=(302, 303), match='3'>\n",
            "<re.Match object; span=(303, 304), match='4'>\n",
            "<re.Match object; span=(304, 305), match='\\n'>\n",
            "<re.Match object; span=(305, 306), match='9'>\n",
            "<re.Match object; span=(306, 307), match='0'>\n",
            "<re.Match object; span=(307, 308), match='0'>\n",
            "<re.Match object; span=(308, 309), match='-'>\n",
            "<re.Match object; span=(309, 310), match='5'>\n",
            "<re.Match object; span=(310, 311), match='5'>\n",
            "<re.Match object; span=(311, 312), match='5'>\n",
            "<re.Match object; span=(312, 313), match='-'>\n",
            "<re.Match object; span=(313, 314), match='1'>\n",
            "<re.Match object; span=(314, 315), match='2'>\n",
            "<re.Match object; span=(315, 316), match='3'>\n",
            "<re.Match object; span=(316, 317), match='4'>\n",
            "<re.Match object; span=(317, 318), match='\\n'>\n",
            "<re.Match object; span=(318, 319), match='1'>\n",
            "<re.Match object; span=(319, 320), match='0'>\n",
            "<re.Match object; span=(320, 321), match='0'>\n",
            "<re.Match object; span=(322, 323), match='1'>\n",
            "<re.Match object; span=(323, 324), match='2'>\n",
            "<re.Match object; span=(324, 325), match='1'>\n",
            "<re.Match object; span=(326, 327), match='4'>\n",
            "<re.Match object; span=(327, 328), match='5'>\n",
            "<re.Match object; span=(328, 329), match='4'>\n",
            "<re.Match object; span=(329, 330), match='3'>\n",
            "<re.Match object; span=(330, 331), match='\\n'>\n",
            "<re.Match object; span=(333, 334), match='.'>\n",
            "<re.Match object; span=(334, 335), match=' '>\n",
            "<re.Match object; span=(342, 343), match='\\n'>\n",
            "<re.Match object; span=(345, 346), match=' '>\n",
            "<re.Match object; span=(351, 352), match='\\n'>\n",
            "<re.Match object; span=(354, 355), match=' '>\n",
            "<re.Match object; span=(360, 361), match='\\n'>\n",
            "<re.Match object; span=(364, 365), match='.'>\n",
            "<re.Match object; span=(365, 366), match=' '>\n",
            "<re.Match object; span=(374, 375), match='\\n'>\n",
            "<re.Match object; span=(377, 378), match='.'>\n",
            "<re.Match object; span=(378, 379), match=' '>\n",
            "<re.Match object; span=(380, 381), match='\\n'>\n"
          ]
        }
      ],
      "source": [
        "#character set\n",
        "pattern = re.compile(r\"[^a-zA-Z]\") # not a in a character set\n",
        "matches = pattern.finditer(mytext)\n",
        "for match in matches:\n",
        "    print(match)"
      ]
    },
    {
      "cell_type": "code",
      "execution_count": 51,
      "metadata": {
        "ExecuteTime": {
          "end_time": "2023-12-29T09:25:23.823528Z",
          "start_time": "2023-12-29T09:25:23.812949Z"
        },
        "id": "koRdh4EI9ugd",
        "outputId": "375a149e-9edc-4fff-e6f8-a561fe0f94a4",
        "colab": {
          "base_uri": "https://localhost:8080/"
        }
      },
      "outputs": [
        {
          "output_type": "stream",
          "name": "stdout",
          "text": [
            "<re.Match object; span=(148, 151), match='mat'>\n",
            "<re.Match object; span=(153, 156), match='hat'>\n",
            "<re.Match object; span=(157, 160), match='bat'>\n",
            "<re.Match object; span=(161, 164), match='fat'>\n",
            "<re.Match object; span=(165, 168), match='sat'>\n"
          ]
        }
      ],
      "source": [
        "# any thing but c , followed by at\n",
        "pattern = re.compile(r\"[^c]at\")\n",
        "matches = pattern.finditer(mytext)\n",
        "for match in matches:\n",
        "    print(match)"
      ]
    },
    {
      "cell_type": "code",
      "execution_count": 52,
      "metadata": {
        "ExecuteTime": {
          "end_time": "2023-12-15T12:59:22.091656Z",
          "start_time": "2023-12-15T12:59:22.083988Z"
        },
        "scrolled": true,
        "id": "0I5aVkjQ9ugd",
        "outputId": "ed0074e2-2b4f-467a-db60-28584265d0a6",
        "colab": {
          "base_uri": "https://localhost:8080/"
        }
      },
      "outputs": [
        {
          "output_type": "stream",
          "name": "stdout",
          "text": [
            "<re.Match object; span=(253, 265), match='321-555-4321'>\n",
            "<re.Match object; span=(292, 304), match='800-555-1234'>\n",
            "<re.Match object; span=(305, 317), match='900-555-1234'>\n"
          ]
        }
      ],
      "source": [
        "#character set ( Quantifier )\n",
        "pattern = re.compile(r\"\\d{3}-\\d{3}-\\d{4}\")\n",
        "matches = pattern.finditer(mytext)\n",
        "for match in matches:\n",
        "    print(match)"
      ]
    },
    {
      "cell_type": "code",
      "execution_count": 53,
      "metadata": {
        "ExecuteTime": {
          "end_time": "2023-12-29T09:26:13.059236Z",
          "start_time": "2023-12-29T09:26:13.051379Z"
        },
        "id": "ru2K5dYL9ugd",
        "outputId": "63e8c33d-63bc-4f48-d845-c36fcf4d4d49",
        "colab": {
          "base_uri": "https://localhost:8080/"
        }
      },
      "outputs": [
        {
          "output_type": "stream",
          "name": "stdout",
          "text": [
            "<re.Match object; span=(169, 180), match='01092329340'>\n",
            "<re.Match object; span=(193, 204), match='01023455411'>\n"
          ]
        }
      ],
      "source": [
        "# vodafone numbers\n",
        "pattern = re.compile(r\"010\\d{8}\")\n",
        "matches = pattern.finditer(mytext)\n",
        "for match in matches:\n",
        "    print(match)"
      ]
    },
    {
      "cell_type": "code",
      "execution_count": 54,
      "metadata": {
        "ExecuteTime": {
          "end_time": "2023-12-29T09:26:20.626346Z",
          "start_time": "2023-12-29T09:26:20.614925Z"
        },
        "id": "eoSQTfD79ugd",
        "outputId": "c586146d-bfea-404a-eb85-b4032fc1ef15",
        "colab": {
          "base_uri": "https://localhost:8080/"
        }
      },
      "outputs": [
        {
          "output_type": "stream",
          "name": "stdout",
          "text": [
            "<re.Match object; span=(253, 265), match='321-555-4321'>\n",
            "<re.Match object; span=(279, 291), match='123*555*1234'>\n",
            "<re.Match object; span=(292, 304), match='800-555-1234'>\n",
            "<re.Match object; span=(305, 317), match='900-555-1234'>\n"
          ]
        }
      ],
      "source": [
        "#character set ( Quantifier )\n",
        "pattern = re.compile(r\"\\d{3}[-*]\\d{3}[*-]\\d{4}\")\n",
        "matches = pattern.finditer(mytext)\n",
        "for match in matches:\n",
        "    print(match)"
      ]
    },
    {
      "cell_type": "code",
      "execution_count": 55,
      "metadata": {
        "ExecuteTime": {
          "end_time": "2023-12-29T09:26:28.249047Z",
          "start_time": "2023-12-29T09:26:28.240757Z"
        },
        "id": "Tf54uzNa9ugd",
        "outputId": "6676b9f1-48c7-4b42-ad66-c86525d7f800",
        "colab": {
          "base_uri": "https://localhost:8080/"
        }
      },
      "outputs": [
        {
          "output_type": "stream",
          "name": "stdout",
          "text": [
            "<re.Match object; span=(331, 334), match='Mr.'>\n",
            "<re.Match object; span=(343, 346), match='Mr '>\n",
            "<re.Match object; span=(361, 364), match='Mrs'>\n",
            "<re.Match object; span=(375, 378), match='Mr.'>\n"
          ]
        }
      ],
      "source": [
        "#character set ( Quantifier )\n",
        "pattern = re.compile(\"Mr.\")\n",
        "matches = pattern.finditer(mytext)\n",
        "for match in matches:\n",
        "    print(match)"
      ]
    },
    {
      "cell_type": "code",
      "execution_count": 56,
      "metadata": {
        "ExecuteTime": {
          "end_time": "2023-12-29T09:26:50.034016Z",
          "start_time": "2023-12-29T09:26:50.024969Z"
        },
        "id": "80-fbmI89ugd",
        "outputId": "3ab2d259-9673-40c5-ca06-741f9535e3d5",
        "colab": {
          "base_uri": "https://localhost:8080/"
        }
      },
      "outputs": [
        {
          "output_type": "stream",
          "name": "stdout",
          "text": [
            "<re.Match object; span=(331, 335), match='Mr. '>\n",
            "<re.Match object; span=(343, 347), match='Mr S'>\n",
            "<re.Match object; span=(361, 365), match='Mrs.'>\n",
            "<re.Match object; span=(375, 379), match='Mr. '>\n"
          ]
        }
      ],
      "source": [
        "pattern = re.compile(\"Mr..\")\n",
        "matches = pattern.finditer(mytext)\n",
        "for match in matches:\n",
        "    print(match)"
      ]
    },
    {
      "cell_type": "code",
      "execution_count": 57,
      "metadata": {
        "ExecuteTime": {
          "end_time": "2023-12-29T09:27:05.985182Z",
          "start_time": "2023-12-29T09:27:05.973462Z"
        },
        "id": "27sq3PmF9uge",
        "outputId": "265ca0be-3cee-41a7-efe3-dfd1e5d12625",
        "colab": {
          "base_uri": "https://localhost:8080/"
        }
      },
      "outputs": [
        {
          "output_type": "stream",
          "name": "stdout",
          "text": [
            "<re.Match object; span=(331, 334), match='Mr.'>\n",
            "<re.Match object; span=(375, 378), match='Mr.'>\n"
          ]
        }
      ],
      "source": [
        "pattern = re.compile(r\"Mr\\.\")\n",
        "matches = pattern.finditer(mytext)\n",
        "for match in matches:\n",
        "    print(match)"
      ]
    },
    {
      "cell_type": "code",
      "execution_count": 58,
      "metadata": {
        "ExecuteTime": {
          "end_time": "2023-12-29T09:27:48.766616Z",
          "start_time": "2023-12-29T09:27:48.754853Z"
        },
        "id": "tLjvwO1Q9uge",
        "outputId": "acd0c580-b16a-4f8d-b6e1-ba7bd81fbdae",
        "colab": {
          "base_uri": "https://localhost:8080/"
        }
      },
      "outputs": [
        {
          "output_type": "stream",
          "name": "stdout",
          "text": [
            "<re.Match object; span=(331, 334), match='Mr.'>\n",
            "<re.Match object; span=(343, 345), match='Mr'>\n",
            "<re.Match object; span=(361, 363), match='Mr'>\n",
            "<re.Match object; span=(375, 378), match='Mr.'>\n"
          ]
        }
      ],
      "source": [
        "pattern = re.compile(\"Mr\\.?\")  # one or zero\n",
        "matches = pattern.finditer(mytext)\n",
        "for match in matches:\n",
        "    print(match)\n",
        "\n",
        "# Eng Ahmed Hafez\n",
        "# Eng.Ahmed Hafez\n",
        "# Dr. Ahmed Hafez\n",
        "# Dr Ahmed Hafez"
      ]
    },
    {
      "cell_type": "code",
      "execution_count": null,
      "metadata": {
        "ExecuteTime": {
          "end_time": "2023-12-29T09:28:26.545999Z",
          "start_time": "2023-12-29T09:28:26.534245Z"
        },
        "id": "JDyz14eO9uge",
        "outputId": "a4ee971f-a70e-4ee1-98ed-6da375f00a13"
      },
      "outputs": [
        {
          "name": "stdout",
          "output_type": "stream",
          "text": [
            "<re.Match object; span=(331, 339), match='Mr. Scha'>\n",
            "<re.Match object; span=(343, 350), match='Mr Smit'>\n"
          ]
        }
      ],
      "source": [
        "#character set ( Quantifier )\n",
        "pattern = re.compile(r\"Mr\\.?\\s[A-Z]?\\w{3}\")\n",
        "matches = pattern.finditer(mytext)\n",
        "for match in matches:\n",
        "    print(match)\n",
        "# Mr[.]\" \"[A-Z]? (upper or lower or digits or underscore) (+ means : at least one )"
      ]
    },
    {
      "cell_type": "code",
      "execution_count": 59,
      "metadata": {
        "ExecuteTime": {
          "end_time": "2023-12-29T09:29:36.209307Z",
          "start_time": "2023-12-29T09:29:36.197130Z"
        },
        "scrolled": true,
        "id": "o64_bjRA9uge",
        "outputId": "1a757fc7-eaca-4a90-b484-0613abb52840",
        "colab": {
          "base_uri": "https://localhost:8080/"
        }
      },
      "outputs": [
        {
          "output_type": "stream",
          "name": "stdout",
          "text": [
            "<re.Match object; span=(331, 342), match='Mr. Schafer'>\n",
            "<re.Match object; span=(343, 351), match='Mr Smith'>\n",
            "<re.Match object; span=(375, 380), match='Mr. T'>\n"
          ]
        }
      ],
      "source": [
        "pattern = re.compile(r\"Mr\\.?\\s[A-Z]?\\w+\") # /w upper case or lower or digit or underscore\n",
        "matches = pattern.finditer(mytext)\n",
        "for match in matches:\n",
        "    print(match)\n",
        "# Mr[.]\" \"[A-Z]? (upper or lower or digits or underscore) (+ means : at least one (one or more) )"
      ]
    },
    {
      "cell_type": "code",
      "execution_count": 60,
      "metadata": {
        "ExecuteTime": {
          "end_time": "2023-12-29T09:30:54.722418Z",
          "start_time": "2023-12-29T09:30:54.712017Z"
        },
        "id": "VZUV9f2b9uge",
        "outputId": "4b310b0e-2290-4576-8ac6-5e3393ec6c5e",
        "colab": {
          "base_uri": "https://localhost:8080/"
        }
      },
      "outputs": [
        {
          "output_type": "stream",
          "name": "stdout",
          "text": [
            "<re.Match object; span=(331, 342), match='Mr. Schafer'>\n",
            "<re.Match object; span=(343, 351), match='Mr Smith'>\n",
            "<re.Match object; span=(352, 360), match='Ms Davis'>\n",
            "<re.Match object; span=(361, 374), match='Mrs. Robinson'>\n",
            "<re.Match object; span=(375, 380), match='Mr. T'>\n"
          ]
        }
      ],
      "source": [
        "#character set ( Quantifier )\n",
        "pattern = re.compile(r\"M(r|s|rs)\\.?\\s[A-Z]?\\w+\")\n",
        "matches = pattern.finditer(mytext)\n",
        "for match in matches:\n",
        "    print(match)"
      ]
    },
    {
      "cell_type": "code",
      "execution_count": 61,
      "metadata": {
        "ExecuteTime": {
          "end_time": "2023-12-29T09:31:38.465662Z",
          "start_time": "2023-12-29T09:31:38.458947Z"
        },
        "id": "83swSuDS9uge",
        "outputId": "31658e7a-d5cb-4163-a9a1-127529b8a6ee",
        "colab": {
          "base_uri": "https://localhost:8080/"
        }
      },
      "outputs": [
        {
          "output_type": "stream",
          "name": "stdout",
          "text": [
            "<re.Match object; span=(58, 59), match='5'>\n",
            "<re.Match object; span=(190, 191), match='5'>\n",
            "<re.Match object; span=(191, 192), match='5'>\n",
            "<re.Match object; span=(199, 200), match='5'>\n",
            "<re.Match object; span=(200, 201), match='5'>\n",
            "<re.Match object; span=(210, 211), match='5'>\n",
            "<re.Match object; span=(215, 216), match='5'>\n",
            "<re.Match object; span=(219, 220), match='5'>\n",
            "<re.Match object; span=(222, 223), match='5'>\n",
            "<re.Match object; span=(226, 227), match='5'>\n",
            "<re.Match object; span=(234, 235), match='5'>\n",
            "<re.Match object; span=(238, 239), match='5'>\n",
            "<re.Match object; span=(257, 258), match='5'>\n",
            "<re.Match object; span=(258, 259), match='5'>\n",
            "<re.Match object; span=(259, 260), match='5'>\n",
            "<re.Match object; span=(270, 271), match='5'>\n",
            "<re.Match object; span=(271, 272), match='5'>\n",
            "<re.Match object; span=(272, 273), match='5'>\n",
            "<re.Match object; span=(283, 284), match='5'>\n",
            "<re.Match object; span=(284, 285), match='5'>\n",
            "<re.Match object; span=(285, 286), match='5'>\n",
            "<re.Match object; span=(296, 297), match='5'>\n",
            "<re.Match object; span=(297, 298), match='5'>\n",
            "<re.Match object; span=(298, 299), match='5'>\n",
            "<re.Match object; span=(299, 301), match='-1'>\n",
            "<re.Match object; span=(309, 310), match='5'>\n",
            "<re.Match object; span=(310, 311), match='5'>\n",
            "<re.Match object; span=(311, 312), match='5'>\n",
            "<re.Match object; span=(312, 314), match='-1'>\n",
            "<re.Match object; span=(327, 328), match='5'>\n"
          ]
        }
      ],
      "source": [
        "# either\n",
        "pattern = re.compile(r\"(-1|5)\")\n",
        "matches = pattern.finditer(mytext)\n",
        "for match in matches:\n",
        "    print(match)"
      ]
    },
    {
      "cell_type": "code",
      "execution_count": 62,
      "metadata": {
        "ExecuteTime": {
          "end_time": "2023-12-29T09:34:03.827316Z",
          "start_time": "2023-12-29T09:34:03.816661Z"
        },
        "id": "HUcrLqw-9uge",
        "outputId": "83235173-1077-4f95-85b6-51096b089bc8",
        "colab": {
          "base_uri": "https://localhost:8080/"
        }
      },
      "outputs": [
        {
          "output_type": "stream",
          "name": "stdout",
          "text": [
            "<re.Match object; span=(0, 13), match='Ahmed Kamal M'>\n",
            "<re.Match object; span=(21, 32), match='Ahmed Ali E'>\n",
            "<re.Match object; span=(40, 52), match='Samy Ashraf '>\n"
          ]
        }
      ],
      "source": [
        "# /w lower case, upper case, digit, underscore\n",
        "s = \"Ahmed Kamal Mohamed, Ahmed Ali Ebrahim, Samy Ashraf \"\n",
        "pattern = re.compile(r\"\\w+\\s\\w+\\s\\w?\")\n",
        "matches = pattern.finditer(s)\n",
        "for match in matches:\n",
        "    print(match)"
      ]
    },
    {
      "cell_type": "code",
      "execution_count": 63,
      "metadata": {
        "ExecuteTime": {
          "end_time": "2023-12-29T09:32:53.762792Z",
          "start_time": "2023-12-29T09:32:53.751390Z"
        },
        "id": "9lGaWbZU9ugf",
        "outputId": "191c5a05-2f1a-4e07-b56c-8f1ff76aefb5",
        "colab": {
          "base_uri": "https://localhost:8080/"
        }
      },
      "outputs": [
        {
          "output_type": "stream",
          "name": "stdout",
          "text": [
            "<re.Match object; span=(0, 19), match='Ahmed Kamal Mohamed'>\n",
            "<re.Match object; span=(21, 38), match='Ahmed Ali Ebrahim'>\n"
          ]
        }
      ],
      "source": [
        "# /w lower case, upper case, digit, underscore\n",
        "s = \"Ahmed Kamal Mohamed, Ahmed Ali Ebrahim, Samy Ashraf \"\n",
        "pattern = re.compile(r\"\\w+\\s\\w+\\s\\w+\")\n",
        "matches = pattern.finditer(s)\n",
        "for match in matches:\n",
        "    print(match)"
      ]
    },
    {
      "cell_type": "code",
      "execution_count": 64,
      "metadata": {
        "ExecuteTime": {
          "end_time": "2023-12-29T09:35:04.567499Z",
          "start_time": "2023-12-29T09:35:04.557847Z"
        },
        "id": "5puTa4Rx9ugf",
        "outputId": "4af3798f-cfc7-46a4-a99c-0a0b2d36467d",
        "colab": {
          "base_uri": "https://localhost:8080/"
        }
      },
      "outputs": [
        {
          "output_type": "stream",
          "name": "stdout",
          "text": [
            "<re.Match object; span=(0, 19), match='Ahmed Kamal Mohamed'>\n",
            "<re.Match object; span=(21, 38), match='Ahmed Ali Ebrahim'>\n",
            "<re.Match object; span=(40, 52), match='Samy Ashraf '>\n"
          ]
        }
      ],
      "source": [
        "# /w lower case, upper case, digit, underscore\n",
        "s = \"Ahmed Kamal Mohamed, Ahmed Ali Ebrahim, Samy Ashraf \"\n",
        "pattern = re.compile(r\"\\w+\\s\\w+\\s\\w*\")\n",
        "matches = pattern.finditer(s)\n",
        "for match in matches:\n",
        "    print(match)"
      ]
    },
    {
      "cell_type": "code",
      "execution_count": 65,
      "metadata": {
        "ExecuteTime": {
          "end_time": "2023-12-29T09:35:38.629544Z",
          "start_time": "2023-12-29T09:35:38.618861Z"
        },
        "id": "NICph-xj9ugf",
        "outputId": "96a674ee-f6bb-4d23-e28f-bd924d84c06e",
        "colab": {
          "base_uri": "https://localhost:8080/"
        }
      },
      "outputs": [
        {
          "output_type": "stream",
          "name": "stdout",
          "text": [
            "<re.Match object; span=(1, 24), match='CoreyMSchafer@gmail.com'>\n"
          ]
        }
      ],
      "source": [
        "emails = '''\n",
        "CoreyMSchafer@gmail.com\n",
        "corey.schafer@university.edu\n",
        "corey-321-schafer@my-work.net\n",
        "'''\n",
        "\n",
        "pattern = re.compile('[a-zA-Z]+@[a-zA-Z]+\\.com')\n",
        "\n",
        "matches = pattern.finditer(emails)\n",
        "\n",
        "for match in matches:\n",
        "    print(match)"
      ]
    },
    {
      "cell_type": "code",
      "execution_count": 66,
      "metadata": {
        "ExecuteTime": {
          "end_time": "2023-12-29T09:36:04.943961Z",
          "start_time": "2023-12-29T09:36:04.934507Z"
        },
        "id": "sudSm9vy9ugf",
        "outputId": "ce2dee66-7b96-445a-8d9e-0d4ed67bee5f",
        "colab": {
          "base_uri": "https://localhost:8080/"
        }
      },
      "outputs": [
        {
          "output_type": "stream",
          "name": "stdout",
          "text": [
            "<re.Match object; span=(1, 24), match='CoreyMSchafer@gmail.com'>\n",
            "<re.Match object; span=(25, 53), match='corey.schafer@university.edu'>\n",
            "<re.Match object; span=(63, 83), match='-schafer@my-work.net'>\n"
          ]
        }
      ],
      "source": [
        "emails = '''\n",
        "CoreyMSchafer@gmail.com\n",
        "corey.schafer@university.edu\n",
        "corey-321-schafer@my-work.net\n",
        "'''\n",
        "\n",
        "pattern = re.compile(r'[a-zA-Z.-]+@[a-zA-Z-]+\\.(com|edu|net)')\n",
        "\n",
        "matches = pattern.finditer(emails)\n",
        "\n",
        "for match in matches:\n",
        "    print(match)"
      ]
    },
    {
      "cell_type": "code",
      "execution_count": 67,
      "metadata": {
        "ExecuteTime": {
          "end_time": "2023-12-29T09:36:47.551216Z",
          "start_time": "2023-12-29T09:36:47.540708Z"
        },
        "id": "LjFBeIxy9ugf",
        "outputId": "09589c3a-1e4b-4af3-957f-c3c7ed221537",
        "colab": {
          "base_uri": "https://localhost:8080/"
        }
      },
      "outputs": [
        {
          "output_type": "stream",
          "name": "stdout",
          "text": [
            "<re.Match object; span=(1, 24), match='CoreyMSchafer@gmail.com'>\n",
            "<re.Match object; span=(25, 53), match='corey.schafer@university.edu'>\n",
            "<re.Match object; span=(54, 83), match='corey-321-schafer@my-work.net'>\n",
            "<re.Match object; span=(84, 99), match='ahmed@gmail.myw'>\n"
          ]
        }
      ],
      "source": [
        "emails = '''\n",
        "CoreyMSchafer@gmail.com\n",
        "corey.schafer@university.edu\n",
        "corey-321-schafer@my-work.net\n",
        "ahmed@gmail.mywork\n",
        "'''\n",
        "\n",
        "pattern = re.compile(r'[a-zA-Z0-9-.]+@[a-zA-Z-]+\\.\\w{3}')\n",
        "\n",
        "matches = pattern.finditer(emails)\n",
        "for match in matches:\n",
        "    print(match)"
      ]
    },
    {
      "cell_type": "code",
      "execution_count": 68,
      "metadata": {
        "ExecuteTime": {
          "end_time": "2023-07-18T20:55:10.845765Z",
          "start_time": "2023-07-18T20:55:10.834019Z"
        },
        "id": "Po6sf_mg9ugf",
        "outputId": "db4d3bd5-cd38-41fc-d151-115aa650bd6c",
        "colab": {
          "base_uri": "https://localhost:8080/"
        }
      },
      "outputs": [
        {
          "output_type": "stream",
          "name": "stdout",
          "text": [
            "<re.Match object; span=(1, 24), match='CoreyMSchafer@gmail.com'>\n",
            "<re.Match object; span=(25, 53), match='corey.schafer@university.edu'>\n",
            "<re.Match object; span=(54, 83), match='corey-321-schafer@my-work.net'>\n",
            "<re.Match object; span=(84, 99), match='ahmed@gmail.myw'>\n"
          ]
        }
      ],
      "source": [
        "emails = '''\n",
        "CoreyMSchafer@gmail.com\n",
        "corey.schafer@university.edu\n",
        "corey-321-schafer@my-work.net\n",
        "ahmed@gmail.mywork\n",
        "'''\n",
        "\n",
        "pattern = re.compile(r'[a-zA-Z0-9-.]+@[a-zA-Z-]+\\.\\w{3}')\n",
        "\n",
        "matches = pattern.finditer(emails)\n",
        "for match in matches:\n",
        "    print(match)"
      ]
    },
    {
      "cell_type": "code",
      "execution_count": 69,
      "metadata": {
        "ExecuteTime": {
          "end_time": "2023-12-29T09:37:25.337878Z",
          "start_time": "2023-12-29T09:37:25.327138Z"
        },
        "id": "JA10xLQe9ugf",
        "outputId": "0c84a936-c6b3-44b1-fd1b-21c9a8ad37b3",
        "colab": {
          "base_uri": "https://localhost:8080/"
        }
      },
      "outputs": [
        {
          "output_type": "stream",
          "name": "stdout",
          "text": [
            "<re.Match object; span=(1, 24), match='CoreyMSchafer@gmail.com'>\n",
            "<re.Match object; span=(25, 53), match='corey.schafer@university.edu'>\n",
            "<re.Match object; span=(54, 83), match='corey-321-schafer@my-work.net'>\n"
          ]
        }
      ],
      "source": [
        "emails = '''\n",
        "CoreyMSchafer@gmail.com\n",
        "corey.schafer@university.edu\n",
        "corey-321-schafer@my-work.net\n",
        "'''\n",
        "\n",
        "pattern = re.compile(r'[a-zA-Z0-9_.+-]+@[a-zA-Z0-9-]+\\.[a-zA-Z0-9-.]+')\n",
        "matches = pattern.finditer(emails)\n",
        "\n",
        "for match in matches:\n",
        "    print(match)"
      ]
    },
    {
      "cell_type": "code",
      "execution_count": 71,
      "metadata": {
        "ExecuteTime": {
          "end_time": "2023-12-29T09:37:44.104776Z",
          "start_time": "2023-12-29T09:37:44.095110Z"
        },
        "scrolled": true,
        "id": "Yv-WIc3X9ugf",
        "outputId": "1fc21185-ce53-42ac-a485-c9f56c56f417",
        "colab": {
          "base_uri": "https://localhost:8080/"
        }
      },
      "outputs": [
        {
          "output_type": "stream",
          "name": "stdout",
          "text": [
            "3\n"
          ]
        }
      ],
      "source": [
        "emails = '''\n",
        "CoreyMSchafer@gmaail.co)m\n",
        "corey.schafer@university.ed)u\n",
        "corey-321-schafer@my-work.ne)t\n",
        "'''\n",
        "\n",
        "pattern = re.compile(r'[a-zA-Z0-9_.+-]+@[a-zA-Z0-9-]+\\.[a-zA-Z0-9-.]{2,}')\n",
        "matches = pattern.finditer(emails)\n",
        "\n",
        "length  = sum(1 for  i in matches)\n",
        "print(length)"
      ]
    },
    {
      "cell_type": "code",
      "execution_count": 72,
      "metadata": {
        "ExecuteTime": {
          "end_time": "2023-12-29T09:38:26.032942Z",
          "start_time": "2023-12-29T09:38:15.088555Z"
        },
        "id": "qgJDXvZa9ugg",
        "outputId": "fa3ed230-99e8-4585-9c1a-e34c6bd097d7",
        "colab": {
          "base_uri": "https://localhost:8080/"
        }
      },
      "outputs": [
        {
          "output_type": "stream",
          "name": "stdout",
          "text": [
            "cat, mat , sat stt , scc\n",
            "<re.Match object; span=(0, 3), match='cat'>\n"
          ]
        }
      ],
      "source": [
        "pattern = re.compile(\"c.t\")\n",
        "matches = pattern.finditer(input())\n",
        "\n",
        "\n",
        "for match in matches:\n",
        "    print(match)"
      ]
    },
    {
      "cell_type": "code",
      "execution_count": null,
      "metadata": {
        "id": "fgpUG8N79ugg"
      },
      "outputs": [],
      "source": []
    },
    {
      "cell_type": "code",
      "execution_count": null,
      "metadata": {
        "id": "rPi3gaBl9ugg"
      },
      "outputs": [],
      "source": []
    }
  ],
  "metadata": {
    "kernelspec": {
      "display_name": "Python 3 (ipykernel)",
      "language": "python",
      "name": "python3"
    },
    "language_info": {
      "codemirror_mode": {
        "name": "ipython",
        "version": 3
      },
      "file_extension": ".py",
      "mimetype": "text/x-python",
      "name": "python",
      "nbconvert_exporter": "python",
      "pygments_lexer": "ipython3",
      "version": "3.9.13"
    },
    "toc": {
      "base_numbering": 1,
      "nav_menu": {},
      "number_sections": false,
      "sideBar": true,
      "skip_h1_title": false,
      "title_cell": "Table of Contents",
      "title_sidebar": "Contents",
      "toc_cell": false,
      "toc_position": {},
      "toc_section_display": true,
      "toc_window_display": false
    },
    "varInspector": {
      "cols": {
        "lenName": 16,
        "lenType": 16,
        "lenVar": 40
      },
      "kernels_config": {
        "python": {
          "delete_cmd_postfix": "",
          "delete_cmd_prefix": "del ",
          "library": "var_list.py",
          "varRefreshCmd": "print(var_dic_list())"
        },
        "r": {
          "delete_cmd_postfix": ") ",
          "delete_cmd_prefix": "rm(",
          "library": "var_list.r",
          "varRefreshCmd": "cat(var_dic_list()) "
        }
      },
      "types_to_exclude": [
        "module",
        "function",
        "builtin_function_or_method",
        "instance",
        "_Feature"
      ],
      "window_display": false
    },
    "colab": {
      "provenance": []
    }
  },
  "nbformat": 4,
  "nbformat_minor": 0
}