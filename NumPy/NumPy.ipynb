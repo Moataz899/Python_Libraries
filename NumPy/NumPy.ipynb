{
 "cells": [
  {
   "cell_type": "markdown",
   "metadata": {},
   "source": [
    "## NumPy"
   ]
  },
  {
   "cell_type": "markdown",
   "metadata": {},
   "source": [
    "### Importing Required Libraries\n"
   ]
  },
  {
   "cell_type": "code",
   "execution_count": 2,
   "metadata": {},
   "outputs": [
    {
     "name": "stdout",
     "output_type": "stream",
     "text": [
      "Requirement already satisfied: numpy in c:\\users\\cs\\appdata\\local\\programs\\python\\python312\\lib\\site-packages (1.26.4)\n"
     ]
    }
   ],
   "source": [
    "! pip install numpy # Check this library is installed or not ?"
   ]
  },
  {
   "cell_type": "code",
   "execution_count": 3,
   "metadata": {},
   "outputs": [],
   "source": [
    "import numpy"
   ]
  },
  {
   "cell_type": "code",
   "execution_count": 7,
   "metadata": {},
   "outputs": [],
   "source": [
    "import numpy as np  # Import NumPy for array manipulations\n",
    "import time  # Import Time for performance measurement"
   ]
  },
  {
   "cell_type": "code",
   "execution_count": 6,
   "metadata": {},
   "outputs": [
    {
     "name": "stdout",
     "output_type": "stream",
     "text": [
      "1.26.4\n"
     ]
    }
   ],
   "source": [
    "print(np.__version__)"
   ]
  },
  {
   "cell_type": "code",
   "execution_count": null,
   "metadata": {},
   "outputs": [],
   "source": []
  },
  {
   "cell_type": "markdown",
   "metadata": {},
   "source": [
    "### Creating Arrays\n"
   ]
  },
  {
   "cell_type": "code",
   "execution_count": 9,
   "metadata": {},
   "outputs": [
    {
     "name": "stdout",
     "output_type": "stream",
     "text": [
      "50\n"
     ]
    }
   ],
   "source": [
    "# 0_D Arrays: \n",
    "\n",
    "arr = np.array(50)\n",
    "\n",
    "print(arr)"
   ]
  },
  {
   "cell_type": "code",
   "execution_count": 12,
   "metadata": {},
   "outputs": [
    {
     "name": "stdout",
     "output_type": "stream",
     "text": [
      "[1 2 3 4 5]\n",
      "<class 'numpy.ndarray'>\n"
     ]
    }
   ],
   "source": [
    "# 1_D Arrays: \n",
    "\n",
    "arr = np.array([1, 2, 3, 4, 5])  # Creating a 1D NumPy array\n",
    "\n",
    "print(arr)  # Output: [1 2 3 4 5]\n",
    "\n",
    "print(type(arr))  # Output: <class 'numpy.ndarray'>\n",
    "\n",
    "\n"
   ]
  },
  {
   "cell_type": "code",
   "execution_count": 25,
   "metadata": {},
   "outputs": [
    {
     "name": "stdout",
     "output_type": "stream",
     "text": [
      "[[ 1  2  3  4  5]\n",
      " [ 6  7  8  9 10]]\n",
      "2\n"
     ]
    }
   ],
   "source": [
    "# 2_D Arrays: \n",
    "list1 = [1, 2, 3, 4, 5]\n",
    "list2 = [6, 7, 8, 9, 10]\n",
    "\n",
    "Arrays = np.array([list1, list2])  # Creating a 2D NumPy array\n",
    "\n",
    "print(Arrays)\n",
    "\n",
    "print(Arrays.ndim)  # Output: 2 (for 2D array)\n"
   ]
  },
  {
   "cell_type": "code",
   "execution_count": 19,
   "metadata": {},
   "outputs": [
    {
     "name": "stdout",
     "output_type": "stream",
     "text": [
      "[[[ 1  2  3  4  5]]\n",
      "\n",
      " [[ 6  7  8  9 10]]\n",
      "\n",
      " [[10 11 12 13 14]]]\n",
      "3\n"
     ]
    }
   ],
   "source": [
    "# 3D Arrays:\n",
    "list1 = [1, 2, 3, 4, 5]\n",
    "list2 = [6, 7, 8, 9, 10]\n",
    "list3 = [10, 11, 12, 13, 14]  # Adjusted to match the shape of list1 and list2\n",
    "\n",
    "# Creating a 3D NumPy array\n",
    "Arrays = np.array([[list1], [list2], [list3]])  # Nested lists to form a 3D array\n",
    "\n",
    "print(Arrays)\n",
    "\n",
    "print(Arrays.ndim)  # Output: 3 (for 3D array)\n"
   ]
  },
  {
   "cell_type": "markdown",
   "metadata": {},
   "source": [
    "### Array Properties"
   ]
  },
  {
   "cell_type": "code",
   "execution_count": 24,
   "metadata": {},
   "outputs": [
    {
     "name": "stdout",
     "output_type": "stream",
     "text": [
      "1\n",
      "5\n",
      "(5,)\n",
      "int32\n",
      "4\n",
      "20\n"
     ]
    }
   ],
   "source": [
    "my_arr = np.array([10, 20, 30, 40, 50])\n",
    "\n",
    "print(my_arr.ndim)  # Output: 1 (dimension)\n",
    "\n",
    "print(my_arr.size)  # Output: 5 (number of elements)\n",
    "\n",
    "print(my_arr.shape)  # Output: (5,) (shape of the array)\n",
    "\n",
    "print(my_arr.dtype)  # Output: int64 (data type)\n",
    "\n",
    "print(my_arr.itemsize)  # Output: 8 (size of each element in bytes)\n",
    "\n",
    "print(my_arr.nbytes)  # Output: 40 (total memory usage)"
   ]
  },
  {
   "cell_type": "code",
   "execution_count": 32,
   "metadata": {},
   "outputs": [
    {
     "name": "stdout",
     "output_type": "stream",
     "text": [
      "2\n",
      "10\n",
      "(2, 5)\n",
      "int32\n",
      "4\n",
      "40\n"
     ]
    }
   ],
   "source": [
    "array_2 = np.array([list1, list2])\n",
    "\n",
    "print(array_2.ndim)\n",
    "\n",
    "print(array_2.size)\n",
    "\n",
    "print(array_2.shape)\n",
    "\n",
    "print(array_2.dtype)\n",
    "\n",
    "print(array_2.itemsize)\n",
    "\n",
    "print(array_2.nbytes)\n"
   ]
  },
  {
   "cell_type": "code",
   "execution_count": 37,
   "metadata": {},
   "outputs": [
    {
     "name": "stdout",
     "output_type": "stream",
     "text": [
      "3\n",
      "(3, 1, 5)\n",
      "15\n",
      "int32\n",
      "4\n",
      "60\n"
     ]
    }
   ],
   "source": [
    "array_3 = np.array([[list1], [list2], [list3]])\n",
    "\n",
    "print(array_3.ndim)\n",
    "\n",
    "print(array_3.shape)\n",
    "\n",
    "print(array_3.size)\n",
    "\n",
    "print(array_3.dtype)\n",
    "\n",
    "print(array_3.itemsize)\n",
    "\n",
    "print(array_3.nbytes)\n"
   ]
  },
  {
   "cell_type": "markdown",
   "metadata": {},
   "source": [
    "### Array Description Function"
   ]
  },
  {
   "cell_type": "code",
   "execution_count": 39,
   "metadata": {},
   "outputs": [],
   "source": [
    "ar = np.array(list1)"
   ]
  },
  {
   "cell_type": "code",
   "execution_count": 51,
   "metadata": {},
   "outputs": [
    {
     "name": "stdout",
     "output_type": "stream",
     "text": [
      "Print Array: [1 2 3 4 5]\n",
      "Dimensions: 1\n",
      "Shape: (5,)\n",
      "Size: 5\n",
      "Data type: int32\n"
     ]
    }
   ],
   "source": [
    "def describe(ar):\n",
    "    print(f\"Print Array: {ar}\")\n",
    "    print(f\"Dimensions: {ar.ndim}\")\n",
    "    print(f\"Shape: {ar.shape}\")\n",
    "    print(f\"Size: {ar.size}\")\n",
    "    print(f\"Data type: {ar.dtype}\")\n",
    "\n",
    "describe(ar)\n"
   ]
  },
  {
   "cell_type": "markdown",
   "metadata": {},
   "source": [
    "### Various Array Creations\n"
   ]
  },
  {
   "cell_type": "code",
   "execution_count": 52,
   "metadata": {},
   "outputs": [
    {
     "name": "stdout",
     "output_type": "stream",
     "text": [
      "[[1. 1.]\n",
      " [1. 1.]]\n"
     ]
    }
   ],
   "source": [
    "# Array Of Ones:\n",
    "\n",
    "arr2 = np.ones((2, 2))\n",
    "\n",
    "print(arr2)"
   ]
  },
  {
   "cell_type": "code",
   "execution_count": 53,
   "metadata": {},
   "outputs": [
    {
     "name": "stdout",
     "output_type": "stream",
     "text": [
      "Print Array: [[1. 1.]\n",
      " [1. 1.]]\n",
      "Dimensions: 2\n",
      "Shape: (2, 2)\n",
      "Size: 4\n",
      "Data type: float64\n"
     ]
    }
   ],
   "source": [
    "describe(arr2)"
   ]
  },
  {
   "cell_type": "code",
   "execution_count": 54,
   "metadata": {},
   "outputs": [
    {
     "name": "stdout",
     "output_type": "stream",
     "text": [
      "Print Array: [[0. 0. 0. 0.]\n",
      " [0. 0. 0. 0.]\n",
      " [0. 0. 0. 0.]]\n",
      "Dimensions: 2\n",
      "Shape: (3, 4)\n",
      "Size: 12\n",
      "Data type: float64\n"
     ]
    }
   ],
   "source": [
    "# Array Of Zeros \n",
    "arr3 = np.zeros((3, 4))\n",
    "describe(arr3)\n"
   ]
  },
  {
   "cell_type": "code",
   "execution_count": 55,
   "metadata": {},
   "outputs": [
    {
     "name": "stdout",
     "output_type": "stream",
     "text": [
      "Print Array: [[10 10]\n",
      " [10 10]]\n",
      "Dimensions: 2\n",
      "Shape: (2, 2)\n",
      "Size: 4\n",
      "Data type: int32\n"
     ]
    }
   ],
   "source": [
    "arr4 = np.full((2, 2), 10)\n",
    "\n",
    "describe(arr4)"
   ]
  },
  {
   "cell_type": "code",
   "execution_count": 57,
   "metadata": {},
   "outputs": [
    {
     "name": "stdout",
     "output_type": "stream",
     "text": [
      "Print Array: [[1. 0. 0.]\n",
      " [0. 1. 0.]\n",
      " [0. 0. 1.]]\n",
      "Dimensions: 2\n",
      "Shape: (3, 3)\n",
      "Size: 9\n",
      "Data type: float64\n"
     ]
    }
   ],
   "source": [
    "# Identity matrix\n",
    "arr5 = np.eye(3)\n",
    "describe(arr5)"
   ]
  },
  {
   "cell_type": "code",
   "execution_count": 56,
   "metadata": {},
   "outputs": [
    {
     "name": "stdout",
     "output_type": "stream",
     "text": [
      "Print Array: [0 1 2 3 4 5 6 7 8 9]\n",
      "Dimensions: 1\n",
      "Shape: (10,)\n",
      "Size: 10\n",
      "Data type: int32\n"
     ]
    }
   ],
   "source": [
    "# Range of values\n",
    "arr6 = np.arange(10)\n",
    "describe(arr6)"
   ]
  },
  {
   "cell_type": "code",
   "execution_count": 58,
   "metadata": {},
   "outputs": [
    {
     "name": "stdout",
     "output_type": "stream",
     "text": [
      "Print Array: [0.   0.25 0.5  0.75 1.  ]\n",
      "Dimensions: 1\n",
      "Shape: (5,)\n",
      "Size: 5\n",
      "Data type: float64\n"
     ]
    }
   ],
   "source": [
    "# Evenly spaced values\n",
    "arr7 = np.linspace(0, 1, 5)\n",
    "describe(arr7)"
   ]
  },
  {
   "cell_type": "code",
   "execution_count": 59,
   "metadata": {},
   "outputs": [
    {
     "name": "stdout",
     "output_type": "stream",
     "text": [
      "Print Array: [[0.49814275 0.73621672 0.54372855]\n",
      " [0.05460469 0.15714315 0.65085423]\n",
      " [0.9828584  0.82067049 0.02280855]]\n",
      "Dimensions: 2\n",
      "Shape: (3, 3)\n",
      "Size: 9\n",
      "Data type: float64\n"
     ]
    }
   ],
   "source": [
    "# Random values\n",
    "arr8 = np.random.rand(3, 3)\n",
    "describe(arr8)"
   ]
  },
  {
   "cell_type": "code",
   "execution_count": 60,
   "metadata": {},
   "outputs": [
    {
     "name": "stdout",
     "output_type": "stream",
     "text": [
      "Print Array: [[7 4 6]\n",
      " [1 8 8]\n",
      " [5 5 7]]\n",
      "Dimensions: 2\n",
      "Shape: (3, 3)\n",
      "Size: 9\n",
      "Data type: int32\n"
     ]
    }
   ],
   "source": [
    "# Random integers\n",
    "arr9 = np.random.randint(0, 10, (3, 3))\n",
    "describe(arr9)\n"
   ]
  },
  {
   "cell_type": "code",
   "execution_count": 61,
   "metadata": {},
   "outputs": [
    {
     "name": "stdout",
     "output_type": "stream",
     "text": [
      "Print Array: [0. 0. 0. 0. 0. 0. 0. 0. 0. 0. 0. 0.]\n",
      "Dimensions: 1\n",
      "Shape: (12,)\n",
      "Size: 12\n",
      "Data type: float64\n"
     ]
    }
   ],
   "source": [
    "# Reshaping an array\n",
    "arr10 = arr3.reshape(12)\n",
    "describe(arr10)"
   ]
  },
  {
   "cell_type": "code",
   "execution_count": 62,
   "metadata": {},
   "outputs": [
    {
     "name": "stdout",
     "output_type": "stream",
     "text": [
      "Print Array: [1. 1. 1. 1. 1. 1. 1. 1. 1. 1. 1. 1.]\n",
      "Dimensions: 1\n",
      "Shape: (12,)\n",
      "Size: 12\n",
      "Data type: float64\n"
     ]
    }
   ],
   "source": [
    "# Array with same shape and type as another array\n",
    "arr11 = np.ones_like(arr10)\n",
    "describe(arr11)"
   ]
  },
  {
   "cell_type": "markdown",
   "metadata": {},
   "source": [
    "### Array Operations"
   ]
  },
  {
   "cell_type": "code",
   "execution_count": 71,
   "metadata": {},
   "outputs": [],
   "source": [
    "a = np.array([1, 2, 3, 4, 5])\n",
    "b = np.array([6, 7, 8, 9, 10])"
   ]
  },
  {
   "cell_type": "code",
   "execution_count": 66,
   "metadata": {},
   "outputs": [
    {
     "name": "stdout",
     "output_type": "stream",
     "text": [
      "a + b : [ 7  9 11 13 15]\n"
     ]
    }
   ],
   "source": [
    "print('a + b :', a + b) # Element-wise addition"
   ]
  },
  {
   "cell_type": "code",
   "execution_count": 72,
   "metadata": {},
   "outputs": [
    {
     "name": "stdout",
     "output_type": "stream",
     "text": [
      "a - b : [-5 -5 -5 -5 -5]\n"
     ]
    }
   ],
   "source": [
    "print('a - b :', a - b) # Element-wise subtraction"
   ]
  },
  {
   "cell_type": "code",
   "execution_count": 73,
   "metadata": {},
   "outputs": [
    {
     "name": "stdout",
     "output_type": "stream",
     "text": [
      "a * b : [ 6 14 24 36 50]\n"
     ]
    }
   ],
   "source": [
    "print('a * b :', a * b) # Element-wise multiplication"
   ]
  },
  {
   "cell_type": "code",
   "execution_count": 74,
   "metadata": {},
   "outputs": [
    {
     "name": "stdout",
     "output_type": "stream",
     "text": [
      "a / b : [0.16666667 0.28571429 0.375      0.44444444 0.5       ]\n"
     ]
    }
   ],
   "source": [
    "print('a / b :', a / b) # Element-wise dividion"
   ]
  },
  {
   "cell_type": "code",
   "execution_count": 70,
   "metadata": {},
   "outputs": [
    {
     "name": "stdout",
     "output_type": "stream",
     "text": [
      "a % b : [1 2 3 4 5]\n"
     ]
    }
   ],
   "source": [
    "print('a % b :', a % b) # Element-wise modulo"
   ]
  },
  {
   "cell_type": "code",
   "execution_count": 111,
   "metadata": {},
   "outputs": [
    {
     "name": "stdout",
     "output_type": "stream",
     "text": [
      "Sin(90°): 1.0\n",
      "Cos(90°): 6.123233995736766e-17\n",
      "Tan(90°): 1.633123935319537e+16\n"
     ]
    }
   ],
   "source": [
    "angle_in_radians = np.radians(90)\n",
    "\n",
    "print(\"Sin(90°):\", np.sin(angle_in_radians))  # Sin of 90 degrees\n",
    "print(\"Cos(90°):\", np.cos(angle_in_radians))  # Cos of 90 degrees\n",
    "print(\"Tan(90°):\", np.tan(angle_in_radians))  # Tan of 90 degrees"
   ]
  },
  {
   "cell_type": "code",
   "execution_count": 118,
   "metadata": {},
   "outputs": [
    {
     "name": "stdout",
     "output_type": "stream",
     "text": [
      "Exp(10): 22026.465794806718\n",
      "Log(10): 2.302585092994046\n",
      "Log10(10): 1.0\n"
     ]
    }
   ],
   "source": [
    "# Exponential of 10 (e^10)\n",
    "print(\"Exp(10):\", np.exp(10))\n",
    "\n",
    "# Natural logarithm of 10 (log base e)\n",
    "print(\"Log(10):\", np.log(10))\n",
    "\n",
    "# Base-10 logarithm of 10\n",
    "print(\"Log10(10):\", np.log10(10))"
   ]
  },
  {
   "cell_type": "code",
   "execution_count": 125,
   "metadata": {},
   "outputs": [
    {
     "name": "stdout",
     "output_type": "stream",
     "text": [
      "Pi (π): 3.141592653589793\n",
      "Euler's number (e): 2.718281828459045\n",
      "Infinity (∞): inf\n",
      "NaN: nan\n"
     ]
    }
   ],
   "source": [
    "# Print the value of pi (π)\n",
    "print(\"Pi (π):\", np.pi)\n",
    "\n",
    "# Print the value of Euler's number (e)\n",
    "print(\"Euler's number (e):\", np.e)\n",
    "\n",
    "# Print positive infinity\n",
    "print(\"Infinity (∞):\", np.inf)\n",
    "\n",
    "# Print NaN (Not a Number)\n",
    "print(\"NaN:\", np.nan)"
   ]
  },
  {
   "cell_type": "markdown",
   "metadata": {},
   "source": [
    "### Scalar Operations\n"
   ]
  },
  {
   "cell_type": "code",
   "execution_count": 76,
   "metadata": {},
   "outputs": [],
   "source": [
    "arr_1 = np.array([1, 2, 3, 4, 5])\n",
    "\n",
    "arr_2 = np.array([10, 20, 30, 40, 50])"
   ]
  },
  {
   "cell_type": "code",
   "execution_count": 80,
   "metadata": {},
   "outputs": [
    {
     "name": "stdout",
     "output_type": "stream",
     "text": [
      "a + 10 : [11 12 13 14 15]\n"
     ]
    }
   ],
   "source": [
    "print(f\"a + 10 : {arr_1 + 10}\")\n"
   ]
  },
  {
   "cell_type": "code",
   "execution_count": 79,
   "metadata": {},
   "outputs": [
    {
     "name": "stdout",
     "output_type": "stream",
     "text": [
      "a * 10 : [10 20 30 40 50]\n"
     ]
    }
   ],
   "source": [
    "print(f\"a * 10 : {arr_1 * 10}\")\n"
   ]
  },
  {
   "cell_type": "code",
   "execution_count": 82,
   "metadata": {},
   "outputs": [
    {
     "name": "stdout",
     "output_type": "stream",
     "text": [
      "b / 10 : [1 2 3 4 5]\n"
     ]
    }
   ],
   "source": [
    "print(f\"b / 10 : {arr_2 // 10}\")\n"
   ]
  },
  {
   "cell_type": "code",
   "execution_count": 83,
   "metadata": {},
   "outputs": [
    {
     "name": "stdout",
     "output_type": "stream",
     "text": [
      "b - 10 : [ 0 10 20 30 40]\n"
     ]
    }
   ],
   "source": [
    "print(f\"b - 10 : {arr_2 - 10}\")\n"
   ]
  },
  {
   "cell_type": "code",
   "execution_count": 86,
   "metadata": {},
   "outputs": [
    {
     "name": "stdout",
     "output_type": "stream",
     "text": [
      "a % b : [1 2 3 4 5]\n"
     ]
    }
   ],
   "source": [
    "print(f\"a % b : {arr_1 % arr_2}\")\n"
   ]
  },
  {
   "cell_type": "markdown",
   "metadata": {},
   "source": [
    "### Dot Product"
   ]
  },
  {
   "cell_type": "code",
   "execution_count": 89,
   "metadata": {},
   "outputs": [],
   "source": [
    "a = np.array([1, 2, 3, 4, 5])\n",
    "b = np.array([6, 7, 8, 9, 10])"
   ]
  },
  {
   "cell_type": "code",
   "execution_count": 90,
   "metadata": {},
   "outputs": [
    {
     "name": "stdout",
     "output_type": "stream",
     "text": [
      "a.b : 130\n"
     ]
    }
   ],
   "source": [
    "print(f\"a.b : {a.dot(b)}\")"
   ]
  },
  {
   "cell_type": "code",
   "execution_count": 92,
   "metadata": {},
   "outputs": [
    {
     "name": "stdout",
     "output_type": "stream",
     "text": [
      "a.c: [55]\n"
     ]
    }
   ],
   "source": [
    "c = np.array([[1], [2], [3], [4], [5]])\n",
    "print('a.c:', a.dot(c))"
   ]
  },
  {
   "cell_type": "markdown",
   "metadata": {},
   "source": [
    "### Array Statistics"
   ]
  },
  {
   "cell_type": "code",
   "execution_count": 93,
   "metadata": {},
   "outputs": [],
   "source": [
    "Arr = np.array([1, 2, 3, 4, 5])"
   ]
  },
  {
   "cell_type": "code",
   "execution_count": 95,
   "metadata": {},
   "outputs": [
    {
     "name": "stdout",
     "output_type": "stream",
     "text": [
      "Min: 1\n"
     ]
    }
   ],
   "source": [
    "print('Min:', Arr.min()) # Minimum value in the array\n"
   ]
  },
  {
   "cell_type": "code",
   "execution_count": 97,
   "metadata": {},
   "outputs": [
    {
     "name": "stdout",
     "output_type": "stream",
     "text": [
      "Max: 5\n"
     ]
    }
   ],
   "source": [
    "print('Max:', Arr.max()) # Maximum value in the array\n"
   ]
  },
  {
   "cell_type": "code",
   "execution_count": 98,
   "metadata": {},
   "outputs": [
    {
     "name": "stdout",
     "output_type": "stream",
     "text": [
      "Sum: 15\n"
     ]
    }
   ],
   "source": [
    "print('Sum:', Arr.sum()) # Sum of all elements in the array"
   ]
  },
  {
   "cell_type": "code",
   "execution_count": null,
   "metadata": {},
   "outputs": [],
   "source": [
    "print('Mean:', Arr.mean()) # Mean (average) of the array elements"
   ]
  },
  {
   "cell_type": "code",
   "execution_count": null,
   "metadata": {},
   "outputs": [],
   "source": [
    "print('Std Dev:', Arr.std()) # Standard deviation of the array elements\n"
   ]
  },
  {
   "cell_type": "code",
   "execution_count": 100,
   "metadata": {},
   "outputs": [
    {
     "name": "stdout",
     "output_type": "stream",
     "text": [
      "Variance: 2.0\n"
     ]
    }
   ],
   "source": [
    "print('Variance:', Arr.var()) # Variance of the array elements"
   ]
  },
  {
   "cell_type": "markdown",
   "metadata": {},
   "source": [
    "### Matrix Multiplication"
   ]
  },
  {
   "cell_type": "code",
   "execution_count": 105,
   "metadata": {},
   "outputs": [
    {
     "name": "stdout",
     "output_type": "stream",
     "text": [
      "Dot Two Arrays: \n",
      "[[13 17]\n",
      " [15 11]]\n"
     ]
    }
   ],
   "source": [
    "a = np.array([[3, 1], [1, 3]])\n",
    "b = np.array([[3, 5], [4, 2]])\n",
    "\n",
    "z = np.dot(a, b)  # Matrix multiplication\n",
    "print(f'Dot Two Arrays: \\n{z}')"
   ]
  },
  {
   "cell_type": "code",
   "execution_count": 107,
   "metadata": {},
   "outputs": [
    {
     "name": "stdout",
     "output_type": "stream",
     "text": [
      "ADD Two Arrays : \n",
      "[[6 6]\n",
      " [5 5]]\n",
      "Sub Two Arrays : \n",
      "[[ 0 -4]\n",
      " [-3  1]]\n",
      "Multiply Two Arrays : \n",
      "[[9 5]\n",
      " [4 6]]\n",
      "Divide Two Arrays : \n",
      "[[1.   0.2 ]\n",
      " [0.25 1.5 ]]\n"
     ]
    }
   ],
   "source": [
    "# Element-wise addition, subtraction, division, etc.\n",
    "print(f'ADD Two Arrays : \\n{np.add(a, b)}')\n",
    "\n",
    "print(f'Sub Two Arrays : \\n{np.subtract(a, b)}')\n",
    "\n",
    "print(f'Multiply Two Arrays : \\n{np.multiply(a, b)}')\n",
    "\n",
    "print(f'Divide Two Arrays : \\n{np.divide(a, b)}')"
   ]
  },
  {
   "cell_type": "code",
   "execution_count": 120,
   "metadata": {},
   "outputs": [
    {
     "name": "stdout",
     "output_type": "stream",
     "text": [
      "Matrix A:\n",
      "[[1 2]\n",
      " [3 4]]\n",
      "Eigenvalues of A:\n",
      "[-0.37228132  5.37228132]\n",
      "Eigenvectors of A:\n",
      "[[-0.82456484 -0.41597356]\n",
      " [ 0.56576746 -0.90937671]]\n"
     ]
    }
   ],
   "source": [
    "# Define a square matrix\n",
    "a = np.array([[1, 2], [3, 4]])\n",
    "\n",
    "# Compute the eigenvalues and eigenvectors\n",
    "eigenvalues, eigenvectors = np.linalg.eig(a)\n",
    "\n",
    "print(\"Matrix A:\")\n",
    "print(a)\n",
    "print(\"Eigenvalues of A:\")\n",
    "print(eigenvalues)\n",
    "print(\"Eigenvectors of A:\")\n",
    "print(eigenvectors)"
   ]
  },
  {
   "cell_type": "markdown",
   "metadata": {},
   "source": [
    "### Performance Comparison: Loops vs Vectorized Operations python"
   ]
  },
  {
   "cell_type": "code",
   "execution_count": 108,
   "metadata": {},
   "outputs": [
    {
     "name": "stderr",
     "output_type": "stream",
     "text": [
      "C:\\Users\\CS\\AppData\\Local\\Temp\\ipykernel_15472\\3575668372.py:7: RuntimeWarning: overflow encountered in scalar add\n",
      "  b += i\n"
     ]
    },
    {
     "name": "stdout",
     "output_type": "stream",
     "text": [
      "Sum using loop:\n",
      "-2014260032\n",
      "Time: 1.5276365280151367\n",
      "Sum using vectorized implementation:\n",
      "-2014260032\n",
      "Time: 0.0015065670013427734\n"
     ]
    }
   ],
   "source": [
    "a = np.arange(10000000)\n",
    "\n",
    "# Using loops\n",
    "start_time = time.time()\n",
    "b = 0\n",
    "for i in a:\n",
    "    b += i\n",
    "print(f'Sum using loop:\\n{b}\\nTime: {time.time()-start_time}')\n",
    "\n",
    "# Using vectorized implementation\n",
    "start_time = time.time()\n",
    "print(f'Sum using vectorized implementation:\\n{a.sum()}\\nTime: {time.time()-start_time}')\n"
   ]
  },
  {
   "cell_type": "code",
   "execution_count": null,
   "metadata": {},
   "outputs": [],
   "source": []
  }
 ],
 "metadata": {
  "kernelspec": {
   "display_name": "Python 3",
   "language": "python",
   "name": "python3"
  },
  "language_info": {
   "codemirror_mode": {
    "name": "ipython",
    "version": 3
   },
   "file_extension": ".py",
   "mimetype": "text/x-python",
   "name": "python",
   "nbconvert_exporter": "python",
   "pygments_lexer": "ipython3",
   "version": "3.12.0"
  }
 },
 "nbformat": 4,
 "nbformat_minor": 2
}
